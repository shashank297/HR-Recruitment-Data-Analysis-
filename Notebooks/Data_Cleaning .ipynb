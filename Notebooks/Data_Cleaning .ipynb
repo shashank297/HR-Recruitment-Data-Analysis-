{
 "cells": [
  {
   "attachments": {},
   "cell_type": "markdown",
   "metadata": {
    "id": "seWrUjHyCzEw"
   },
   "source": [
    "### 1.Data Summary \n",
    "\n",
    "\n",
    "---\n",
    "\n",
    "\n",
    "The LinkedIn data set provided contains 7,927 rows and 15 columns, providing a comprehensive overview of job postings on the platform. The data can be used for data analysis, visualization, and research. The job postings include Data Analyst, Machine Learning Engineer, IT Services and IT Consulting roles, located in various locations around the world, with varying salaries and work hours. The data set includes information about the company, role responsibilities, and required skills for each job. This data set is a valuable resource for understanding job opportunities in different industries and locations."
   ]
  },
  {
   "attachments": {},
   "cell_type": "markdown",
   "metadata": {
    "id": "qc6riwdEFiOS"
   },
   "source": [
    "### 2.Column descriptions\n",
    "\n",
    "`job_ID`: Unique identifier for each job posting.\n",
    "\n",
    "`job`: The title of the job posting.\n",
    "\n",
    "`location`: The location of the job posting.\n",
    "\n",
    "`company_id`: The unique identifier for the company offering the job.\n",
    "\n",
    "`company_name`: The name of the company offering the job.\n",
    "\n",
    "`work_type`: The type of work offered (e.g. full-time, part-time, etc.).\n",
    "\n",
    "`full_time_remote`: Indicates if the job is a full-time remote position.\n",
    "\n",
    "`no_of_employ`: The number of employees at the company offering the job.\n",
    "\n",
    "`no_of_application`: The number of applications received for the job.\n",
    "\n",
    "`posted_day_ago`: The number of days ago the job was posted.\n",
    "\n",
    "`alumni`: Indicates if the job posting is for alumni of a certain organization.\n",
    "\n",
    "`Hiring_person`: The name of the person responsible for hiring for the job.\n",
    "\n",
    "`linkedin_followers`: The number of LinkedIn followers of the hiring person.\n",
    "\n",
    "`hiring_person_link`: A link to the LinkedIn profile of the hiring person.\n",
    "\n",
    "`job_details`: Detailed information about the job, including responsibilities and requirements.\n",
    "\n",
    "\n",
    "\n"
   ]
  },
  {
   "attachments": {},
   "cell_type": "markdown",
   "metadata": {
    "id": "6S2tASAkMMne"
   },
   "source": [
    "## Issue with the data set\n",
    "\n",
    "\n",
    "1.   Dirty Data:-\n",
    "  - **job**: column in the data set there is unnecessary information such as the yearly package, technology, company name, and work type (remote) etc added in the title.`Consistency`\n",
    "  - **no_of_application**: this column the has a value which should not be present ('hours' , 'minutes'). `Consistency`\n",
    "  - **posted_day_ago**: In this column time is added in the form of string for Exampal (9 hours , 8 minutes). `Validity`\n",
    "  - **Alumni**: with the alumni count the string is present with the count value ('company alumni'). `Validity`\n",
    "  - **company_id**: This column is completly blank. `Completeness`\n",
    "  - **Hiring_person**: In this column there are some nick name is added with in parentheses `Consistency`\n",
    "  - **linkedin_followers**: In linkedin_followers column the 'linkedin_followers' string is present with numbers and numbers is seprated with (' , ') `Validity`\n",
    "\n",
    "\n",
    "\n",
    "\n",
    "\n",
    "2.   Messy Data:-\n",
    "  \n",
    "  - **Full_time_remote**: In this column involvement and level both combiened in one column and seprated by ('·'). `Validity`\n",
    "  - **No_of_employ**: In this column employees_count and industry both combiened in one column and 'employees' string is added extra seprated ('·'). `Validity`\n",
    "  - **location**: In the location column countory,state and city is added in the one column and seprated by (',') `Validity`\n",
    "  - **Job**: In the Job column some are starting with the capital letter and some are in small letter `Consistency`\n",
    "  -**company_name**: in the company_name also there is inconsestancy in the name some of the letters are starting with the small letter and some of them are stares with the capital letter. `Consistency`\n",
    "  - There are 2,084 dublicate values found in the dataset `Validity`\n",
    "\n",
    "\n"
   ]
  },
  {
   "attachments": {},
   "cell_type": "markdown",
   "metadata": {
    "id": "iGfdv5qFIlUH"
   },
   "source": [
    "### Exploratory Data Analysis (EDA) Functions in Python.\n",
    "\n",
    "- head and tail\n",
    "- sample\n",
    "- info\n",
    "- isnull\n",
    "- duplicated\n",
    "- describe"
   ]
  },
  {
   "attachments": {},
   "cell_type": "markdown",
   "metadata": {},
   "source": [
    "**Importing the required librarys**"
   ]
  },
  {
   "cell_type": "code",
   "execution_count": 1,
   "metadata": {
    "id": "8yLh98J_C0md"
   },
   "outputs": [],
   "source": [
    "import pandas as pd\n",
    "import numpy as np\n",
    "import warnings"
   ]
  },
  {
   "cell_type": "code",
   "execution_count": 2,
   "metadata": {},
   "outputs": [],
   "source": [
    "warnings.filterwarnings(\"ignore\", category=UserWarning)"
   ]
  },
  {
   "attachments": {},
   "cell_type": "markdown",
   "metadata": {},
   "source": [
    "**Loading The Data Into The Pandas DataFrame**"
   ]
  },
  {
   "cell_type": "code",
   "execution_count": 3,
   "metadata": {
    "colab": {
     "base_uri": "https://localhost:8080/",
     "height": 583
    },
    "id": "Aoj_CbKzgbzV",
    "outputId": "3a2d7c18-fdd9-48ba-965f-c8ae4cdaf1b9"
   },
   "outputs": [],
   "source": [
    "df=pd.read_csv('c:\\\\Project\\\\Linkdin_Job_Analytics\\\\DataSet\\\\linkdin_Job_data.csv')"
   ]
  },
  {
   "attachments": {},
   "cell_type": "markdown",
   "metadata": {},
   "source": [
    "**Cheking Top 5 Rows**"
   ]
  },
  {
   "cell_type": "code",
   "execution_count": 4,
   "metadata": {},
   "outputs": [
    {
     "data": {
      "text/html": [
       "<div>\n",
       "<style scoped>\n",
       "    .dataframe tbody tr th:only-of-type {\n",
       "        vertical-align: middle;\n",
       "    }\n",
       "\n",
       "    .dataframe tbody tr th {\n",
       "        vertical-align: top;\n",
       "    }\n",
       "\n",
       "    .dataframe thead th {\n",
       "        text-align: right;\n",
       "    }\n",
       "</style>\n",
       "<table border=\"1\" class=\"dataframe\">\n",
       "  <thead>\n",
       "    <tr style=\"text-align: right;\">\n",
       "      <th></th>\n",
       "      <th>job_ID</th>\n",
       "      <th>job</th>\n",
       "      <th>location</th>\n",
       "      <th>company_id</th>\n",
       "      <th>company_name</th>\n",
       "      <th>work_type</th>\n",
       "      <th>full_time_remote</th>\n",
       "      <th>no_of_employ</th>\n",
       "      <th>no_of_application</th>\n",
       "      <th>posted_day_ago</th>\n",
       "      <th>alumni</th>\n",
       "      <th>Hiring_person</th>\n",
       "      <th>linkedin_followers</th>\n",
       "      <th>hiring_person_link</th>\n",
       "      <th>job_details</th>\n",
       "    </tr>\n",
       "  </thead>\n",
       "  <tbody>\n",
       "    <tr>\n",
       "      <th>0</th>\n",
       "      <td>3471657636</td>\n",
       "      <td>Data Analyst, Trilogy (Remote) - $60,000/year USD</td>\n",
       "      <td>Delhi, Delhi, India</td>\n",
       "      <td>NaN</td>\n",
       "      <td>Crossover</td>\n",
       "      <td>Remote</td>\n",
       "      <td>Full-time · Associate</td>\n",
       "      <td>1,001-5,000 employees · IT Services and IT Con...</td>\n",
       "      <td>200</td>\n",
       "      <td>8 hours</td>\n",
       "      <td>12 company alumni</td>\n",
       "      <td>NaN</td>\n",
       "      <td>5,395,547 followers</td>\n",
       "      <td>NaN</td>\n",
       "      <td>About the job Crossover is the world's #1 sour...</td>\n",
       "    </tr>\n",
       "    <tr>\n",
       "      <th>1</th>\n",
       "      <td>3471669068</td>\n",
       "      <td>Data Analyst, Trilogy (Remote) - $60,000/year USD</td>\n",
       "      <td>New Delhi, Delhi, India</td>\n",
       "      <td>NaN</td>\n",
       "      <td>Crossover</td>\n",
       "      <td>Remote</td>\n",
       "      <td>Full-time · Associate</td>\n",
       "      <td>1,001-5,000 employees · IT Services and IT Con...</td>\n",
       "      <td>184</td>\n",
       "      <td>8 hours</td>\n",
       "      <td>12 company alumni</td>\n",
       "      <td>NaN</td>\n",
       "      <td>5,395,547 followers</td>\n",
       "      <td>NaN</td>\n",
       "      <td>About the job Crossover is the world's #1 sour...</td>\n",
       "    </tr>\n",
       "    <tr>\n",
       "      <th>2</th>\n",
       "      <td>3474349934</td>\n",
       "      <td>Data Analyst - WFH</td>\n",
       "      <td>Greater Bengaluru Area</td>\n",
       "      <td>NaN</td>\n",
       "      <td>Uplers</td>\n",
       "      <td>Remote</td>\n",
       "      <td>Full-time · Mid-Senior level</td>\n",
       "      <td>1,001-5,000 employees · IT Services and IT Con...</td>\n",
       "      <td>200</td>\n",
       "      <td>9 hours</td>\n",
       "      <td>3 company alumni</td>\n",
       "      <td>Shahid Ahmad</td>\n",
       "      <td>NaN</td>\n",
       "      <td>https://www.linkedin.com/in/shahid-ahmad-a2613...</td>\n",
       "      <td>About the job Profile: ML EngineersExperience:...</td>\n",
       "    </tr>\n",
       "    <tr>\n",
       "      <th>3</th>\n",
       "      <td>3472816027</td>\n",
       "      <td>Data Analyst</td>\n",
       "      <td>Gurugram, Haryana, India</td>\n",
       "      <td>NaN</td>\n",
       "      <td>PVAR SERVICES</td>\n",
       "      <td>On-site</td>\n",
       "      <td>Full-time</td>\n",
       "      <td>1-10 employees</td>\n",
       "      <td>200</td>\n",
       "      <td>7 hours</td>\n",
       "      <td>NaN</td>\n",
       "      <td>Vartika Singh</td>\n",
       "      <td>2,094 followers</td>\n",
       "      <td>https://www.linkedin.com/in/vartika-singh-</td>\n",
       "      <td>About the job Designation: Data AnalystLocatio...</td>\n",
       "    </tr>\n",
       "    <tr>\n",
       "      <th>4</th>\n",
       "      <td>3473311511</td>\n",
       "      <td>Data Analyst</td>\n",
       "      <td>Mohali district, Punjab, India</td>\n",
       "      <td>NaN</td>\n",
       "      <td>Timeline Freight Brokers</td>\n",
       "      <td>On-site</td>\n",
       "      <td>Full-time</td>\n",
       "      <td>1-10 employees</td>\n",
       "      <td>8</td>\n",
       "      <td>26 minutes</td>\n",
       "      <td>1 company alumni</td>\n",
       "      <td>Manisha (Gisele Smith)</td>\n",
       "      <td>NaN</td>\n",
       "      <td>https://www.linkedin.com/in/manisharathore0029</td>\n",
       "      <td>About the job The ideal candidate will use the...</td>\n",
       "    </tr>\n",
       "  </tbody>\n",
       "</table>\n",
       "</div>"
      ],
      "text/plain": [
       "       job_ID                                                job  \\\n",
       "0  3471657636  Data Analyst, Trilogy (Remote) - $60,000/year USD   \n",
       "1  3471669068  Data Analyst, Trilogy (Remote) - $60,000/year USD   \n",
       "2  3474349934                                 Data Analyst - WFH   \n",
       "3  3472816027                                       Data Analyst   \n",
       "4  3473311511                                       Data Analyst   \n",
       "\n",
       "                         location  company_id              company_name  \\\n",
       "0             Delhi, Delhi, India         NaN                 Crossover   \n",
       "1         New Delhi, Delhi, India         NaN                 Crossover   \n",
       "2          Greater Bengaluru Area         NaN                    Uplers   \n",
       "3        Gurugram, Haryana, India         NaN             PVAR SERVICES   \n",
       "4  Mohali district, Punjab, India         NaN  Timeline Freight Brokers   \n",
       "\n",
       "  work_type              full_time_remote  \\\n",
       "0    Remote         Full-time · Associate   \n",
       "1    Remote         Full-time · Associate   \n",
       "2    Remote  Full-time · Mid-Senior level   \n",
       "3   On-site                     Full-time   \n",
       "4   On-site                     Full-time   \n",
       "\n",
       "                                        no_of_employ no_of_application  \\\n",
       "0  1,001-5,000 employees · IT Services and IT Con...               200   \n",
       "1  1,001-5,000 employees · IT Services and IT Con...               184   \n",
       "2  1,001-5,000 employees · IT Services and IT Con...               200   \n",
       "3                                     1-10 employees               200   \n",
       "4                                     1-10 employees                 8   \n",
       "\n",
       "  posted_day_ago             alumni           Hiring_person  \\\n",
       "0        8 hours  12 company alumni                     NaN   \n",
       "1        8 hours  12 company alumni                     NaN   \n",
       "2        9 hours   3 company alumni            Shahid Ahmad   \n",
       "3        7 hours                NaN           Vartika Singh   \n",
       "4     26 minutes   1 company alumni  Manisha (Gisele Smith)   \n",
       "\n",
       "    linkedin_followers                                 hiring_person_link  \\\n",
       "0  5,395,547 followers                                                NaN   \n",
       "1  5,395,547 followers                                                NaN   \n",
       "2                  NaN  https://www.linkedin.com/in/shahid-ahmad-a2613...   \n",
       "3      2,094 followers         https://www.linkedin.com/in/vartika-singh-   \n",
       "4                  NaN     https://www.linkedin.com/in/manisharathore0029   \n",
       "\n",
       "                                         job_details  \n",
       "0  About the job Crossover is the world's #1 sour...  \n",
       "1  About the job Crossover is the world's #1 sour...  \n",
       "2  About the job Profile: ML EngineersExperience:...  \n",
       "3  About the job Designation: Data AnalystLocatio...  \n",
       "4  About the job The ideal candidate will use the...  "
      ]
     },
     "execution_count": 4,
     "metadata": {},
     "output_type": "execute_result"
    }
   ],
   "source": [
    "df.head()"
   ]
  },
  {
   "attachments": {},
   "cell_type": "markdown",
   "metadata": {},
   "source": [
    "**Cheaking The Last 5 Rows**"
   ]
  },
  {
   "cell_type": "code",
   "execution_count": 5,
   "metadata": {
    "colab": {
     "base_uri": "https://localhost:8080/",
     "height": 565
    },
    "id": "ejghyxjnhQai",
    "outputId": "a076d14b-a195-4e26-d314-edfa3403bbcb"
   },
   "outputs": [
    {
     "data": {
      "text/html": [
       "<div>\n",
       "<style scoped>\n",
       "    .dataframe tbody tr th:only-of-type {\n",
       "        vertical-align: middle;\n",
       "    }\n",
       "\n",
       "    .dataframe tbody tr th {\n",
       "        vertical-align: top;\n",
       "    }\n",
       "\n",
       "    .dataframe thead th {\n",
       "        text-align: right;\n",
       "    }\n",
       "</style>\n",
       "<table border=\"1\" class=\"dataframe\">\n",
       "  <thead>\n",
       "    <tr style=\"text-align: right;\">\n",
       "      <th></th>\n",
       "      <th>job_ID</th>\n",
       "      <th>job</th>\n",
       "      <th>location</th>\n",
       "      <th>company_id</th>\n",
       "      <th>company_name</th>\n",
       "      <th>work_type</th>\n",
       "      <th>full_time_remote</th>\n",
       "      <th>no_of_employ</th>\n",
       "      <th>no_of_application</th>\n",
       "      <th>posted_day_ago</th>\n",
       "      <th>alumni</th>\n",
       "      <th>Hiring_person</th>\n",
       "      <th>linkedin_followers</th>\n",
       "      <th>hiring_person_link</th>\n",
       "      <th>job_details</th>\n",
       "    </tr>\n",
       "  </thead>\n",
       "  <tbody>\n",
       "    <tr>\n",
       "      <th>7922</th>\n",
       "      <td>3472039871</td>\n",
       "      <td>Back End Developer</td>\n",
       "      <td>Kochi, Kerala, India</td>\n",
       "      <td>NaN</td>\n",
       "      <td>Orion Innovation</td>\n",
       "      <td>Hybrid</td>\n",
       "      <td>Full-time · Associate</td>\n",
       "      <td>5,001-10,000 employees · IT Services and IT Co...</td>\n",
       "      <td>25</td>\n",
       "      <td>2 days</td>\n",
       "      <td>24 company alumni</td>\n",
       "      <td>Poornima Viswanathan</td>\n",
       "      <td>NaN</td>\n",
       "      <td>https://www.linkedin.com/in/poornima-viswanath...</td>\n",
       "      <td>About the job The ideal candidate will show in...</td>\n",
       "    </tr>\n",
       "    <tr>\n",
       "      <th>7923</th>\n",
       "      <td>3473194471</td>\n",
       "      <td>Software Engineer - Senior</td>\n",
       "      <td>Gurugram, Haryana, India</td>\n",
       "      <td>NaN</td>\n",
       "      <td>Uplers</td>\n",
       "      <td>On-site</td>\n",
       "      <td>Full-time · Mid-Senior level</td>\n",
       "      <td>1,001-5,000 employees · IT Services and IT Con...</td>\n",
       "      <td>18</td>\n",
       "      <td>2 days</td>\n",
       "      <td>3 company alumni</td>\n",
       "      <td>Tejveer Singh</td>\n",
       "      <td>NaN</td>\n",
       "      <td>https://www.linkedin.com/in/tejveer-singh-a348...</td>\n",
       "      <td>About the job Experience: 4 - 8 yearsProfile: ...</td>\n",
       "    </tr>\n",
       "    <tr>\n",
       "      <th>7924</th>\n",
       "      <td>3461005032</td>\n",
       "      <td>Vue JS</td>\n",
       "      <td>Hyderabad, Telangana, India</td>\n",
       "      <td>NaN</td>\n",
       "      <td>Tata Consultancy Services</td>\n",
       "      <td>On-site</td>\n",
       "      <td>Full-time · Mid-Senior level</td>\n",
       "      <td>10,001+ employees · IT Services and IT Consulting</td>\n",
       "      <td>15</td>\n",
       "      <td>6 days</td>\n",
       "      <td>10,080 company alumni</td>\n",
       "      <td>ANNIE ANTONY</td>\n",
       "      <td>11,923,634 followers</td>\n",
       "      <td>https://www.linkedin.com/in/annie-antony-a1041...</td>\n",
       "      <td>About the job Role- Vue js DeveloperExperience...</td>\n",
       "    </tr>\n",
       "    <tr>\n",
       "      <th>7925</th>\n",
       "      <td>3474305684</td>\n",
       "      <td>iOS Developer</td>\n",
       "      <td>Bengaluru, Karnataka, India</td>\n",
       "      <td>NaN</td>\n",
       "      <td>Uplers</td>\n",
       "      <td>Remote</td>\n",
       "      <td>Full-time · Mid-Senior level</td>\n",
       "      <td>1,001-5,000 employees · IT Services and IT Con...</td>\n",
       "      <td>17</td>\n",
       "      <td>1 day</td>\n",
       "      <td>3 company alumni</td>\n",
       "      <td>Arjun Jaggi</td>\n",
       "      <td>NaN</td>\n",
       "      <td>https://www.linkedin.com/in/arjunjaggi7</td>\n",
       "      <td>About the job Profile: iOS DeveloperExperience...</td>\n",
       "    </tr>\n",
       "    <tr>\n",
       "      <th>7926</th>\n",
       "      <td>3459352801</td>\n",
       "      <td>Power train function developer</td>\n",
       "      <td>Bengaluru, Karnataka, India</td>\n",
       "      <td>NaN</td>\n",
       "      <td>Akkodis</td>\n",
       "      <td>Hybrid</td>\n",
       "      <td>Full-time · Mid-Senior level</td>\n",
       "      <td>10,001+ employees · IT Services and IT Consulting</td>\n",
       "      <td>43</td>\n",
       "      <td>1 week</td>\n",
       "      <td>27 company alumni</td>\n",
       "      <td>NaN</td>\n",
       "      <td>1,421,090 followers</td>\n",
       "      <td>NaN</td>\n",
       "      <td>About the job JD Powertrain Function Developer...</td>\n",
       "    </tr>\n",
       "  </tbody>\n",
       "</table>\n",
       "</div>"
      ],
      "text/plain": [
       "          job_ID                             job                     location  \\\n",
       "7922  3472039871              Back End Developer         Kochi, Kerala, India   \n",
       "7923  3473194471      Software Engineer - Senior     Gurugram, Haryana, India   \n",
       "7924  3461005032                          Vue JS  Hyderabad, Telangana, India   \n",
       "7925  3474305684                   iOS Developer  Bengaluru, Karnataka, India   \n",
       "7926  3459352801  Power train function developer  Bengaluru, Karnataka, India   \n",
       "\n",
       "      company_id               company_name work_type  \\\n",
       "7922         NaN           Orion Innovation    Hybrid   \n",
       "7923         NaN                     Uplers   On-site   \n",
       "7924         NaN  Tata Consultancy Services   On-site   \n",
       "7925         NaN                     Uplers    Remote   \n",
       "7926         NaN                    Akkodis    Hybrid   \n",
       "\n",
       "                  full_time_remote  \\\n",
       "7922         Full-time · Associate   \n",
       "7923  Full-time · Mid-Senior level   \n",
       "7924  Full-time · Mid-Senior level   \n",
       "7925  Full-time · Mid-Senior level   \n",
       "7926  Full-time · Mid-Senior level   \n",
       "\n",
       "                                           no_of_employ no_of_application  \\\n",
       "7922  5,001-10,000 employees · IT Services and IT Co...                25   \n",
       "7923  1,001-5,000 employees · IT Services and IT Con...                18   \n",
       "7924  10,001+ employees · IT Services and IT Consulting                15   \n",
       "7925  1,001-5,000 employees · IT Services and IT Con...                17   \n",
       "7926  10,001+ employees · IT Services and IT Consulting                43   \n",
       "\n",
       "     posted_day_ago                 alumni         Hiring_person  \\\n",
       "7922         2 days      24 company alumni  Poornima Viswanathan   \n",
       "7923         2 days       3 company alumni         Tejveer Singh   \n",
       "7924         6 days  10,080 company alumni          ANNIE ANTONY   \n",
       "7925          1 day       3 company alumni           Arjun Jaggi   \n",
       "7926         1 week      27 company alumni                   NaN   \n",
       "\n",
       "        linkedin_followers                                 hiring_person_link  \\\n",
       "7922                   NaN  https://www.linkedin.com/in/poornima-viswanath...   \n",
       "7923                   NaN  https://www.linkedin.com/in/tejveer-singh-a348...   \n",
       "7924  11,923,634 followers  https://www.linkedin.com/in/annie-antony-a1041...   \n",
       "7925                   NaN            https://www.linkedin.com/in/arjunjaggi7   \n",
       "7926   1,421,090 followers                                                NaN   \n",
       "\n",
       "                                            job_details  \n",
       "7922  About the job The ideal candidate will show in...  \n",
       "7923  About the job Experience: 4 - 8 yearsProfile: ...  \n",
       "7924  About the job Role- Vue js DeveloperExperience...  \n",
       "7925  About the job Profile: iOS DeveloperExperience...  \n",
       "7926  About the job JD Powertrain Function Developer...  "
      ]
     },
     "execution_count": 5,
     "metadata": {},
     "output_type": "execute_result"
    }
   ],
   "source": [
    "df.tail()"
   ]
  },
  {
   "attachments": {},
   "cell_type": "markdown",
   "metadata": {},
   "source": [
    "**Cheaking 5 Ramdon Rows**"
   ]
  },
  {
   "cell_type": "code",
   "execution_count": 6,
   "metadata": {
    "colab": {
     "base_uri": "https://localhost:8080/",
     "height": 548
    },
    "id": "6EfHrJ9UC_VO",
    "outputId": "3853d1d4-3201-45f8-a61a-b193e563cc4c"
   },
   "outputs": [
    {
     "data": {
      "text/html": [
       "<div>\n",
       "<style scoped>\n",
       "    .dataframe tbody tr th:only-of-type {\n",
       "        vertical-align: middle;\n",
       "    }\n",
       "\n",
       "    .dataframe tbody tr th {\n",
       "        vertical-align: top;\n",
       "    }\n",
       "\n",
       "    .dataframe thead th {\n",
       "        text-align: right;\n",
       "    }\n",
       "</style>\n",
       "<table border=\"1\" class=\"dataframe\">\n",
       "  <thead>\n",
       "    <tr style=\"text-align: right;\">\n",
       "      <th></th>\n",
       "      <th>job_ID</th>\n",
       "      <th>job</th>\n",
       "      <th>location</th>\n",
       "      <th>company_id</th>\n",
       "      <th>company_name</th>\n",
       "      <th>work_type</th>\n",
       "      <th>full_time_remote</th>\n",
       "      <th>no_of_employ</th>\n",
       "      <th>no_of_application</th>\n",
       "      <th>posted_day_ago</th>\n",
       "      <th>alumni</th>\n",
       "      <th>Hiring_person</th>\n",
       "      <th>linkedin_followers</th>\n",
       "      <th>hiring_person_link</th>\n",
       "      <th>job_details</th>\n",
       "    </tr>\n",
       "  </thead>\n",
       "  <tbody>\n",
       "    <tr>\n",
       "      <th>6808</th>\n",
       "      <td>3468575752</td>\n",
       "      <td>Senior Business Analyst</td>\n",
       "      <td>Bengaluru, Karnataka, India</td>\n",
       "      <td>NaN</td>\n",
       "      <td>Gameskraft</td>\n",
       "      <td>On-site</td>\n",
       "      <td>Full-time · Mid-Senior level</td>\n",
       "      <td>501-1,000 employees · Computer Games</td>\n",
       "      <td>99</td>\n",
       "      <td>2 hours</td>\n",
       "      <td>6 company alumni</td>\n",
       "      <td>Muzamil pasha</td>\n",
       "      <td>30,279 followers</td>\n",
       "      <td>https://www.linkedin.com/in/muzamil-pasha-72a2...</td>\n",
       "      <td>About the job About Gameskraft Established in ...</td>\n",
       "    </tr>\n",
       "    <tr>\n",
       "      <th>1672</th>\n",
       "      <td>3472857805</td>\n",
       "      <td>Wordpress Developer</td>\n",
       "      <td>Sahibzada Ajit Singh Nagar, Punjab, India</td>\n",
       "      <td>NaN</td>\n",
       "      <td>SNtrix</td>\n",
       "      <td>On-site</td>\n",
       "      <td>Full-time</td>\n",
       "      <td>11-50 employees</td>\n",
       "      <td>hours</td>\n",
       "      <td>11 hours</td>\n",
       "      <td>NaN</td>\n",
       "      <td>Nitin Choudhary</td>\n",
       "      <td>1,297 followers</td>\n",
       "      <td>https://www.linkedin.com/in/nitin-choudhary-15...</td>\n",
       "      <td>About the job PHP WordPress Developer , locati...</td>\n",
       "    </tr>\n",
       "    <tr>\n",
       "      <th>4134</th>\n",
       "      <td>3467344403</td>\n",
       "      <td>Data Analyst</td>\n",
       "      <td>Mumbai, Maharashtra, India</td>\n",
       "      <td>NaN</td>\n",
       "      <td>UST</td>\n",
       "      <td>On-site</td>\n",
       "      <td>Full-time · Mid-Senior level</td>\n",
       "      <td>10,001+ employees · IT Services and IT Consulting</td>\n",
       "      <td>day</td>\n",
       "      <td>1 day</td>\n",
       "      <td>3 company alumni</td>\n",
       "      <td>NaN</td>\n",
       "      <td>774,752 followers</td>\n",
       "      <td>NaN</td>\n",
       "      <td>About the job Role: Data Analyst UST is a lead...</td>\n",
       "    </tr>\n",
       "    <tr>\n",
       "      <th>4324</th>\n",
       "      <td>3460388589</td>\n",
       "      <td>Python Programmer</td>\n",
       "      <td>Gurugram, Haryana, India</td>\n",
       "      <td>NaN</td>\n",
       "      <td>Acuity Knowledge Partners</td>\n",
       "      <td>Hybrid</td>\n",
       "      <td>Full-time · Mid-Senior level</td>\n",
       "      <td>5,001-10,000 employees · Financial Services</td>\n",
       "      <td>days</td>\n",
       "      <td>6 days</td>\n",
       "      <td>3 company alumni</td>\n",
       "      <td>Pallav Pushpraj</td>\n",
       "      <td>NaN</td>\n",
       "      <td>https://www.linkedin.com/in/pallav-pushpraj-73...</td>\n",
       "      <td>About the job Mandatory Skills: Proficiency in...</td>\n",
       "    </tr>\n",
       "    <tr>\n",
       "      <th>5490</th>\n",
       "      <td>3477602264</td>\n",
       "      <td>Dental Assistant</td>\n",
       "      <td>Jalandhar, Punjab, India</td>\n",
       "      <td>NaN</td>\n",
       "      <td>Clove Dental</td>\n",
       "      <td>On-site</td>\n",
       "      <td>Full-time</td>\n",
       "      <td>1,001-5,000 employees</td>\n",
       "      <td>1</td>\n",
       "      <td>1 hour</td>\n",
       "      <td>NaN</td>\n",
       "      <td>Harish Gupta</td>\n",
       "      <td>NaN</td>\n",
       "      <td>https://www.linkedin.com/in/harish-gupta-2ab14...</td>\n",
       "      <td>About the job We are hiring a dental assistant...</td>\n",
       "    </tr>\n",
       "  </tbody>\n",
       "</table>\n",
       "</div>"
      ],
      "text/plain": [
       "          job_ID                      job  \\\n",
       "6808  3468575752  Senior Business Analyst   \n",
       "1672  3472857805      Wordpress Developer   \n",
       "4134  3467344403             Data Analyst   \n",
       "4324  3460388589        Python Programmer   \n",
       "5490  3477602264         Dental Assistant   \n",
       "\n",
       "                                       location  company_id  \\\n",
       "6808                Bengaluru, Karnataka, India         NaN   \n",
       "1672  Sahibzada Ajit Singh Nagar, Punjab, India         NaN   \n",
       "4134                 Mumbai, Maharashtra, India         NaN   \n",
       "4324                   Gurugram, Haryana, India         NaN   \n",
       "5490                   Jalandhar, Punjab, India         NaN   \n",
       "\n",
       "                   company_name work_type              full_time_remote  \\\n",
       "6808                 Gameskraft   On-site  Full-time · Mid-Senior level   \n",
       "1672                     SNtrix   On-site                     Full-time   \n",
       "4134                        UST   On-site  Full-time · Mid-Senior level   \n",
       "4324  Acuity Knowledge Partners    Hybrid  Full-time · Mid-Senior level   \n",
       "5490               Clove Dental   On-site                     Full-time   \n",
       "\n",
       "                                           no_of_employ no_of_application  \\\n",
       "6808               501-1,000 employees · Computer Games                99   \n",
       "1672                                    11-50 employees             hours   \n",
       "4134  10,001+ employees · IT Services and IT Consulting               day   \n",
       "4324        5,001-10,000 employees · Financial Services              days   \n",
       "5490                              1,001-5,000 employees                 1   \n",
       "\n",
       "     posted_day_ago            alumni    Hiring_person linkedin_followers  \\\n",
       "6808        2 hours  6 company alumni    Muzamil pasha   30,279 followers   \n",
       "1672       11 hours               NaN  Nitin Choudhary    1,297 followers   \n",
       "4134          1 day  3 company alumni              NaN  774,752 followers   \n",
       "4324         6 days  3 company alumni  Pallav Pushpraj                NaN   \n",
       "5490         1 hour               NaN     Harish Gupta                NaN   \n",
       "\n",
       "                                     hiring_person_link  \\\n",
       "6808  https://www.linkedin.com/in/muzamil-pasha-72a2...   \n",
       "1672  https://www.linkedin.com/in/nitin-choudhary-15...   \n",
       "4134                                                NaN   \n",
       "4324  https://www.linkedin.com/in/pallav-pushpraj-73...   \n",
       "5490  https://www.linkedin.com/in/harish-gupta-2ab14...   \n",
       "\n",
       "                                            job_details  \n",
       "6808  About the job About Gameskraft Established in ...  \n",
       "1672  About the job PHP WordPress Developer , locati...  \n",
       "4134  About the job Role: Data Analyst UST is a lead...  \n",
       "4324  About the job Mandatory Skills: Proficiency in...  \n",
       "5490  About the job We are hiring a dental assistant...  "
      ]
     },
     "execution_count": 6,
     "metadata": {},
     "output_type": "execute_result"
    }
   ],
   "source": [
    "df.sample(5)"
   ]
  },
  {
   "attachments": {},
   "cell_type": "markdown",
   "metadata": {},
   "source": [
    "## Data Cleaning"
   ]
  },
  {
   "attachments": {},
   "cell_type": "markdown",
   "metadata": {},
   "source": [
    "**Cheaking The Null Value Presant In The Dataframe**"
   ]
  },
  {
   "cell_type": "code",
   "execution_count": 7,
   "metadata": {
    "colab": {
     "base_uri": "https://localhost:8080/"
    },
    "id": "BF_BY9hpjOgO",
    "outputId": "6ce1e26d-4081-4a5c-9d5c-616cfa313fe9"
   },
   "outputs": [
    {
     "data": {
      "text/plain": [
       "job_ID                   0\n",
       "job                     33\n",
       "location                33\n",
       "company_id            7927\n",
       "company_name            35\n",
       "work_type              191\n",
       "full_time_remote        79\n",
       "no_of_employ           324\n",
       "no_of_application       40\n",
       "posted_day_ago           7\n",
       "alumni                3069\n",
       "Hiring_person         2207\n",
       "linkedin_followers    3113\n",
       "hiring_person_link    2207\n",
       "job_details             46\n",
       "dtype: int64"
      ]
     },
     "execution_count": 7,
     "metadata": {},
     "output_type": "execute_result"
    }
   ],
   "source": [
    "df.isnull().sum()"
   ]
  },
  {
   "attachments": {},
   "cell_type": "markdown",
   "metadata": {},
   "source": [
    "**Column-wise null values percentage**"
   ]
  },
  {
   "cell_type": "code",
   "execution_count": 8,
   "metadata": {},
   "outputs": [
    {
     "data": {
      "text/plain": [
       "job_ID                  0.000000\n",
       "job                     0.416299\n",
       "location                0.416299\n",
       "company_id            100.000000\n",
       "company_name            0.441529\n",
       "work_type               2.409487\n",
       "full_time_remote        0.996594\n",
       "no_of_employ            4.087297\n",
       "no_of_application       0.504605\n",
       "posted_day_ago          0.088306\n",
       "alumni                 38.715782\n",
       "Hiring_person          27.841554\n",
       "linkedin_followers     39.270846\n",
       "hiring_person_link     27.841554\n",
       "job_details             0.580295\n",
       "dtype: float64"
      ]
     },
     "execution_count": 8,
     "metadata": {},
     "output_type": "execute_result"
    }
   ],
   "source": [
    "df.isnull().sum()/df.shape[0]*100"
   ]
  },
  {
   "attachments": {},
   "cell_type": "markdown",
   "metadata": {},
   "source": [
    "**Cheacking the data type and non null value present in the dataframe**"
   ]
  },
  {
   "cell_type": "code",
   "execution_count": 9,
   "metadata": {
    "colab": {
     "base_uri": "https://localhost:8080/"
    },
    "id": "XkPzLIAWkp_E",
    "outputId": "29702b70-be75-4ab8-d6a8-ded8aca631fd"
   },
   "outputs": [
    {
     "name": "stdout",
     "output_type": "stream",
     "text": [
      "<class 'pandas.core.frame.DataFrame'>\n",
      "RangeIndex: 7927 entries, 0 to 7926\n",
      "Data columns (total 15 columns):\n",
      " #   Column              Non-Null Count  Dtype  \n",
      "---  ------              --------------  -----  \n",
      " 0   job_ID              7927 non-null   int64  \n",
      " 1   job                 7894 non-null   object \n",
      " 2   location            7894 non-null   object \n",
      " 3   company_id          0 non-null      float64\n",
      " 4   company_name        7892 non-null   object \n",
      " 5   work_type           7736 non-null   object \n",
      " 6   full_time_remote    7848 non-null   object \n",
      " 7   no_of_employ        7603 non-null   object \n",
      " 8   no_of_application   7887 non-null   object \n",
      " 9   posted_day_ago      7920 non-null   object \n",
      " 10  alumni              4858 non-null   object \n",
      " 11  Hiring_person       5720 non-null   object \n",
      " 12  linkedin_followers  4814 non-null   object \n",
      " 13  hiring_person_link  5720 non-null   object \n",
      " 14  job_details         7881 non-null   object \n",
      "dtypes: float64(1), int64(1), object(13)\n",
      "memory usage: 929.1+ KB\n"
     ]
    }
   ],
   "source": [
    "df.info()"
   ]
  },
  {
   "attachments": {},
   "cell_type": "markdown",
   "metadata": {},
   "source": [
    "**Cheking the dublicate value presant in the dataset**"
   ]
  },
  {
   "cell_type": "code",
   "execution_count": 10,
   "metadata": {
    "colab": {
     "base_uri": "https://localhost:8080/"
    },
    "id": "CsDC-9qFlDRO",
    "outputId": "24abf13f-126f-4fb2-d631-f8d5649260e3"
   },
   "outputs": [
    {
     "data": {
      "text/plain": [
       "job_ID                2084\n",
       "job                   2078\n",
       "location              2078\n",
       "company_id               0\n",
       "company_name          2077\n",
       "work_type             2025\n",
       "full_time_remote      2072\n",
       "no_of_employ          1989\n",
       "no_of_application     2077\n",
       "posted_day_ago        2083\n",
       "alumni                1272\n",
       "Hiring_person         1563\n",
       "linkedin_followers    1284\n",
       "hiring_person_link    1563\n",
       "job_details           2076\n",
       "dtype: int64"
      ]
     },
     "execution_count": 10,
     "metadata": {},
     "output_type": "execute_result"
    }
   ],
   "source": [
    "df[df.duplicated(subset=['job_ID'])].count()"
   ]
  },
  {
   "attachments": {},
   "cell_type": "markdown",
   "metadata": {
    "id": "E2glH0e2oWEs"
   },
   "source": [
    "### Data Quality Dimensions\n",
    "\n",
    "- Completeness -> is data missing?\n",
    "- Validity -> is data invalid -> negative height -> duplicate patient id\n",
    "- Accuracy -> data is valid but not accurate -> weight -> 1kg\n",
    "- Consistency -> both valid and accurate but written differently -> New Youk and NY"
   ]
  },
  {
   "attachments": {},
   "cell_type": "markdown",
   "metadata": {
    "id": "akX4aHL0pI8J"
   },
   "source": [
    "#### Steps involved in Data cleaning\n",
    "- Define\n",
    "- Code\n",
    "- Test\n",
    "\n",
    "`Always make sure to create a copy of your pandas dataframe before you start the cleaning process`"
   ]
  },
  {
   "attachments": {},
   "cell_type": "markdown",
   "metadata": {},
   "source": [
    "**Creating a copy of dataframe**"
   ]
  },
  {
   "cell_type": "code",
   "execution_count": 11,
   "metadata": {
    "id": "ATiYurukpMzD"
   },
   "outputs": [],
   "source": [
    "job_df=df.copy()"
   ]
  },
  {
   "attachments": {},
   "cell_type": "markdown",
   "metadata": {
    "id": "1yD8YPDycB_W"
   },
   "source": [
    "### Define\n",
    "- removing dublicate values from the dataframe\n",
    "-replace the null values or remove it based on analysis \n",
    "- company_id is a blank column So, Assigning a unique identifier for each company based on their order of appearance in the DataFrame"
   ]
  },
  {
   "attachments": {},
   "cell_type": "markdown",
   "metadata": {},
   "source": [
    "**Checking duplicate values**"
   ]
  },
  {
   "cell_type": "code",
   "execution_count": 12,
   "metadata": {
    "colab": {
     "base_uri": "https://localhost:8080/",
     "height": 1000
    },
    "id": "vPHA7Nuc_8wP",
    "outputId": "7cae3f1c-87b7-45ff-d8da-a4ed302bfe2f"
   },
   "outputs": [
    {
     "data": {
      "text/html": [
       "<div>\n",
       "<style scoped>\n",
       "    .dataframe tbody tr th:only-of-type {\n",
       "        vertical-align: middle;\n",
       "    }\n",
       "\n",
       "    .dataframe tbody tr th {\n",
       "        vertical-align: top;\n",
       "    }\n",
       "\n",
       "    .dataframe thead th {\n",
       "        text-align: right;\n",
       "    }\n",
       "</style>\n",
       "<table border=\"1\" class=\"dataframe\">\n",
       "  <thead>\n",
       "    <tr style=\"text-align: right;\">\n",
       "      <th></th>\n",
       "      <th>job_ID</th>\n",
       "      <th>job</th>\n",
       "      <th>location</th>\n",
       "      <th>company_id</th>\n",
       "      <th>company_name</th>\n",
       "      <th>work_type</th>\n",
       "      <th>full_time_remote</th>\n",
       "      <th>no_of_employ</th>\n",
       "      <th>no_of_application</th>\n",
       "      <th>posted_day_ago</th>\n",
       "      <th>alumni</th>\n",
       "      <th>Hiring_person</th>\n",
       "      <th>linkedin_followers</th>\n",
       "      <th>hiring_person_link</th>\n",
       "      <th>job_details</th>\n",
       "    </tr>\n",
       "  </thead>\n",
       "  <tbody>\n",
       "    <tr>\n",
       "      <th>283</th>\n",
       "      <td>3471657636</td>\n",
       "      <td>Data Analyst, Trilogy (Remote) - $60,000/year USD</td>\n",
       "      <td>Delhi, Delhi, India</td>\n",
       "      <td>NaN</td>\n",
       "      <td>Crossover</td>\n",
       "      <td>Remote</td>\n",
       "      <td>Full-time · Associate</td>\n",
       "      <td>1,001-5,000 employees · IT Services and IT Con...</td>\n",
       "      <td>200</td>\n",
       "      <td>9 hours</td>\n",
       "      <td>12 company alumni</td>\n",
       "      <td>NaN</td>\n",
       "      <td>5,396,069 followers</td>\n",
       "      <td>NaN</td>\n",
       "      <td>About the job Crossover is the world's #1 sour...</td>\n",
       "    </tr>\n",
       "    <tr>\n",
       "      <th>284</th>\n",
       "      <td>3471669068</td>\n",
       "      <td>Data Analyst, Trilogy (Remote) - $60,000/year USD</td>\n",
       "      <td>New Delhi, Delhi, India</td>\n",
       "      <td>NaN</td>\n",
       "      <td>Crossover</td>\n",
       "      <td>Remote</td>\n",
       "      <td>Full-time · Associate</td>\n",
       "      <td>1,001-5,000 employees · IT Services and IT Con...</td>\n",
       "      <td>hours</td>\n",
       "      <td>9 hours</td>\n",
       "      <td>12 company alumni</td>\n",
       "      <td>NaN</td>\n",
       "      <td>5,396,064 followers</td>\n",
       "      <td>NaN</td>\n",
       "      <td>About the job Crossover is the world's #1 sour...</td>\n",
       "    </tr>\n",
       "    <tr>\n",
       "      <th>285</th>\n",
       "      <td>3473336242</td>\n",
       "      <td>Shopify Developer</td>\n",
       "      <td>Gurugram, Haryana, India</td>\n",
       "      <td>NaN</td>\n",
       "      <td>ADesignGuy</td>\n",
       "      <td>Hybrid</td>\n",
       "      <td>Internship</td>\n",
       "      <td>11-50 employees</td>\n",
       "      <td>minute</td>\n",
       "      <td>1 minute</td>\n",
       "      <td>NaN</td>\n",
       "      <td>Vashisth Bhushan</td>\n",
       "      <td>2,164 followers</td>\n",
       "      <td>https://www.linkedin.com/in/vashisth00</td>\n",
       "      <td>About the job Job Title: Shopify Developer (In...</td>\n",
       "    </tr>\n",
       "    <tr>\n",
       "      <th>298</th>\n",
       "      <td>3472808738</td>\n",
       "      <td>Shopify Developer</td>\n",
       "      <td>Delhi, India</td>\n",
       "      <td>NaN</td>\n",
       "      <td>Digital Impressions</td>\n",
       "      <td>On-site</td>\n",
       "      <td>NaN</td>\n",
       "      <td>NaN</td>\n",
       "      <td>hours</td>\n",
       "      <td>8 hours</td>\n",
       "      <td>NaN</td>\n",
       "      <td>NaN</td>\n",
       "      <td>NaN</td>\n",
       "      <td>NaN</td>\n",
       "      <td>About the job The ideal candidate will be resp...</td>\n",
       "    </tr>\n",
       "    <tr>\n",
       "      <th>300</th>\n",
       "      <td>3470730035</td>\n",
       "      <td>Data Engineer (Python)</td>\n",
       "      <td>Gurugram, Haryana, India</td>\n",
       "      <td>NaN</td>\n",
       "      <td>Mobile Programming LLC</td>\n",
       "      <td>On-site</td>\n",
       "      <td>Full-time</td>\n",
       "      <td>1,001-5,000 employees</td>\n",
       "      <td>46</td>\n",
       "      <td>21 hours</td>\n",
       "      <td>5 company alumni</td>\n",
       "      <td>Ajay Tanwar</td>\n",
       "      <td>269,378 followers</td>\n",
       "      <td>https://www.linkedin.com/in/ajay-tanwar-8081b3251</td>\n",
       "      <td>About the job Data Engineer (Python) Experienc...</td>\n",
       "    </tr>\n",
       "    <tr>\n",
       "      <th>...</th>\n",
       "      <td>...</td>\n",
       "      <td>...</td>\n",
       "      <td>...</td>\n",
       "      <td>...</td>\n",
       "      <td>...</td>\n",
       "      <td>...</td>\n",
       "      <td>...</td>\n",
       "      <td>...</td>\n",
       "      <td>...</td>\n",
       "      <td>...</td>\n",
       "      <td>...</td>\n",
       "      <td>...</td>\n",
       "      <td>...</td>\n",
       "      <td>...</td>\n",
       "      <td>...</td>\n",
       "    </tr>\n",
       "    <tr>\n",
       "      <th>7913</th>\n",
       "      <td>3464523737</td>\n",
       "      <td>Informatica Developer</td>\n",
       "      <td>Kochi, Kerala, India</td>\n",
       "      <td>NaN</td>\n",
       "      <td>Tata Consultancy Services</td>\n",
       "      <td>On-site</td>\n",
       "      <td>Full-time</td>\n",
       "      <td>10,001+ employees · IT Services and IT Consulting</td>\n",
       "      <td>31</td>\n",
       "      <td>3 days</td>\n",
       "      <td>10,080 company alumni</td>\n",
       "      <td>Angel Mathews</td>\n",
       "      <td>11,923,625 followers</td>\n",
       "      <td>https://www.linkedin.com/in/angel-mathews-3256...</td>\n",
       "      <td>About the job Greetings from TATA Consultancy ...</td>\n",
       "    </tr>\n",
       "    <tr>\n",
       "      <th>7914</th>\n",
       "      <td>3471321322</td>\n",
       "      <td>Business Support/Partner Alliance Coordinator</td>\n",
       "      <td>Navi Mumbai, Maharashtra, India</td>\n",
       "      <td>NaN</td>\n",
       "      <td>cloudxchange.io</td>\n",
       "      <td>On-site</td>\n",
       "      <td>Full-time · Associate</td>\n",
       "      <td>51-200 employees · IT Services and IT Consulting</td>\n",
       "      <td>21</td>\n",
       "      <td>3 days</td>\n",
       "      <td>1 company alumni</td>\n",
       "      <td>Annette Roberts</td>\n",
       "      <td>NaN</td>\n",
       "      <td>https://www.linkedin.com/in/annette-roberts</td>\n",
       "      <td>About the job Cloudxchange.io is India’s Leadi...</td>\n",
       "    </tr>\n",
       "    <tr>\n",
       "      <th>7915</th>\n",
       "      <td>3468025847</td>\n",
       "      <td>Xceptor Developer</td>\n",
       "      <td>Chennai, Tamil Nadu, India</td>\n",
       "      <td>NaN</td>\n",
       "      <td>Virtusa</td>\n",
       "      <td>Hybrid</td>\n",
       "      <td>Full-time · Mid-Senior level</td>\n",
       "      <td>10,001+ employees · IT Services and IT Consulting</td>\n",
       "      <td>9</td>\n",
       "      <td>3 days</td>\n",
       "      <td>412 company alumni</td>\n",
       "      <td>Nandha Ramadass</td>\n",
       "      <td>782,441 followers</td>\n",
       "      <td>https://www.linkedin.com/in/nandha-ramadass-43...</td>\n",
       "      <td>About the job 4+ Years of Experience in Xcepto...</td>\n",
       "    </tr>\n",
       "    <tr>\n",
       "      <th>7920</th>\n",
       "      <td>3466165399</td>\n",
       "      <td>LTE Developer</td>\n",
       "      <td>Hyderabad, Telangana, India</td>\n",
       "      <td>NaN</td>\n",
       "      <td>Tata Consultancy Services</td>\n",
       "      <td>Hybrid</td>\n",
       "      <td>Full-time</td>\n",
       "      <td>10,001+ employees · IT Services and IT Consulting</td>\n",
       "      <td>45</td>\n",
       "      <td>1 day</td>\n",
       "      <td>10,080 company alumni</td>\n",
       "      <td>Madhuri Mahajan</td>\n",
       "      <td>11,923,632 followers</td>\n",
       "      <td>https://www.linkedin.com/in/madhuri-mahajan-b0...</td>\n",
       "      <td>About the job Dear Candidate, Greetings from T...</td>\n",
       "    </tr>\n",
       "    <tr>\n",
       "      <th>7921</th>\n",
       "      <td>3460393178</td>\n",
       "      <td>Python Developer</td>\n",
       "      <td>Bangalore Urban, Karnataka, India</td>\n",
       "      <td>NaN</td>\n",
       "      <td>Tata Consultancy Services</td>\n",
       "      <td>On-site</td>\n",
       "      <td>Full-time · Associate</td>\n",
       "      <td>10,001+ employees · IT Services and IT Consulting</td>\n",
       "      <td>200</td>\n",
       "      <td>6 days</td>\n",
       "      <td>10,080 company alumni</td>\n",
       "      <td>NaN</td>\n",
       "      <td>11,923,633 followers</td>\n",
       "      <td>NaN</td>\n",
       "      <td>About the job Role- Python DeveloperRequired T...</td>\n",
       "    </tr>\n",
       "  </tbody>\n",
       "</table>\n",
       "<p>2084 rows × 15 columns</p>\n",
       "</div>"
      ],
      "text/plain": [
       "          job_ID                                                job  \\\n",
       "283   3471657636  Data Analyst, Trilogy (Remote) - $60,000/year USD   \n",
       "284   3471669068  Data Analyst, Trilogy (Remote) - $60,000/year USD   \n",
       "285   3473336242                                  Shopify Developer   \n",
       "298   3472808738                                  Shopify Developer   \n",
       "300   3470730035                             Data Engineer (Python)   \n",
       "...          ...                                                ...   \n",
       "7913  3464523737                              Informatica Developer   \n",
       "7914  3471321322      Business Support/Partner Alliance Coordinator   \n",
       "7915  3468025847                                  Xceptor Developer   \n",
       "7920  3466165399                                      LTE Developer   \n",
       "7921  3460393178                                   Python Developer   \n",
       "\n",
       "                               location  company_id  \\\n",
       "283                 Delhi, Delhi, India         NaN   \n",
       "284             New Delhi, Delhi, India         NaN   \n",
       "285            Gurugram, Haryana, India         NaN   \n",
       "298                        Delhi, India         NaN   \n",
       "300            Gurugram, Haryana, India         NaN   \n",
       "...                                 ...         ...   \n",
       "7913               Kochi, Kerala, India         NaN   \n",
       "7914    Navi Mumbai, Maharashtra, India         NaN   \n",
       "7915         Chennai, Tamil Nadu, India         NaN   \n",
       "7920        Hyderabad, Telangana, India         NaN   \n",
       "7921  Bangalore Urban, Karnataka, India         NaN   \n",
       "\n",
       "                   company_name work_type              full_time_remote  \\\n",
       "283                   Crossover    Remote         Full-time · Associate   \n",
       "284                   Crossover    Remote         Full-time · Associate   \n",
       "285                  ADesignGuy    Hybrid                    Internship   \n",
       "298         Digital Impressions   On-site                           NaN   \n",
       "300      Mobile Programming LLC   On-site                     Full-time   \n",
       "...                         ...       ...                           ...   \n",
       "7913  Tata Consultancy Services   On-site                     Full-time   \n",
       "7914            cloudxchange.io   On-site         Full-time · Associate   \n",
       "7915                    Virtusa    Hybrid  Full-time · Mid-Senior level   \n",
       "7920  Tata Consultancy Services    Hybrid                     Full-time   \n",
       "7921  Tata Consultancy Services   On-site         Full-time · Associate   \n",
       "\n",
       "                                           no_of_employ no_of_application  \\\n",
       "283   1,001-5,000 employees · IT Services and IT Con...               200   \n",
       "284   1,001-5,000 employees · IT Services and IT Con...             hours   \n",
       "285                                     11-50 employees            minute   \n",
       "298                                                 NaN             hours   \n",
       "300                               1,001-5,000 employees                46   \n",
       "...                                                 ...               ...   \n",
       "7913  10,001+ employees · IT Services and IT Consulting                31   \n",
       "7914   51-200 employees · IT Services and IT Consulting                21   \n",
       "7915  10,001+ employees · IT Services and IT Consulting                 9   \n",
       "7920  10,001+ employees · IT Services and IT Consulting                45   \n",
       "7921  10,001+ employees · IT Services and IT Consulting               200   \n",
       "\n",
       "     posted_day_ago                 alumni     Hiring_person  \\\n",
       "283         9 hours      12 company alumni               NaN   \n",
       "284         9 hours      12 company alumni               NaN   \n",
       "285        1 minute                    NaN  Vashisth Bhushan   \n",
       "298         8 hours                    NaN               NaN   \n",
       "300        21 hours       5 company alumni       Ajay Tanwar   \n",
       "...             ...                    ...               ...   \n",
       "7913         3 days  10,080 company alumni     Angel Mathews   \n",
       "7914         3 days       1 company alumni   Annette Roberts   \n",
       "7915         3 days     412 company alumni   Nandha Ramadass   \n",
       "7920          1 day  10,080 company alumni   Madhuri Mahajan   \n",
       "7921         6 days  10,080 company alumni               NaN   \n",
       "\n",
       "        linkedin_followers                                 hiring_person_link  \\\n",
       "283    5,396,069 followers                                                NaN   \n",
       "284    5,396,064 followers                                                NaN   \n",
       "285        2,164 followers             https://www.linkedin.com/in/vashisth00   \n",
       "298                    NaN                                                NaN   \n",
       "300      269,378 followers  https://www.linkedin.com/in/ajay-tanwar-8081b3251   \n",
       "...                    ...                                                ...   \n",
       "7913  11,923,625 followers  https://www.linkedin.com/in/angel-mathews-3256...   \n",
       "7914                   NaN        https://www.linkedin.com/in/annette-roberts   \n",
       "7915     782,441 followers  https://www.linkedin.com/in/nandha-ramadass-43...   \n",
       "7920  11,923,632 followers  https://www.linkedin.com/in/madhuri-mahajan-b0...   \n",
       "7921  11,923,633 followers                                                NaN   \n",
       "\n",
       "                                            job_details  \n",
       "283   About the job Crossover is the world's #1 sour...  \n",
       "284   About the job Crossover is the world's #1 sour...  \n",
       "285   About the job Job Title: Shopify Developer (In...  \n",
       "298   About the job The ideal candidate will be resp...  \n",
       "300   About the job Data Engineer (Python) Experienc...  \n",
       "...                                                 ...  \n",
       "7913  About the job Greetings from TATA Consultancy ...  \n",
       "7914  About the job Cloudxchange.io is India’s Leadi...  \n",
       "7915  About the job 4+ Years of Experience in Xcepto...  \n",
       "7920  About the job Dear Candidate, Greetings from T...  \n",
       "7921  About the job Role- Python DeveloperRequired T...  \n",
       "\n",
       "[2084 rows x 15 columns]"
      ]
     },
     "execution_count": 12,
     "metadata": {},
     "output_type": "execute_result"
    }
   ],
   "source": [
    "job_df[df.duplicated(subset=['job_ID'])]"
   ]
  },
  {
   "attachments": {},
   "cell_type": "markdown",
   "metadata": {},
   "source": [
    "**Removing the duplicates values and reset the index values**"
   ]
  },
  {
   "cell_type": "code",
   "execution_count": 13,
   "metadata": {
    "id": "SRV2ZI1wAURU"
   },
   "outputs": [],
   "source": [
    "job_df.drop_duplicates(subset=['job_ID'],inplace=True)\n",
    "job_df.reset_index(inplace=True)\n",
    "job_df.drop('index',axis=1,inplace=True)"
   ]
  },
  {
   "attachments": {},
   "cell_type": "markdown",
   "metadata": {},
   "source": [
    "**After removing the duplicates dataframe shape**"
   ]
  },
  {
   "cell_type": "code",
   "execution_count": 14,
   "metadata": {},
   "outputs": [
    {
     "data": {
      "text/plain": [
       "(5843, 15)"
      ]
     },
     "execution_count": 14,
     "metadata": {},
     "output_type": "execute_result"
    }
   ],
   "source": [
    "job_df.shape"
   ]
  },
  {
   "attachments": {},
   "cell_type": "markdown",
   "metadata": {},
   "source": [
    "**Assigns a unique numerical identifier to each company in the 'company_name' column and adds it in a 'company_id' column \n",
    "based on the company's order of appearance in the DataFrame.**"
   ]
  },
  {
   "cell_type": "code",
   "execution_count": 15,
   "metadata": {
    "id": "aUVU7TJep3DQ"
   },
   "outputs": [],
   "source": [
    "job_df['company_id']=job_df.groupby('company_name').ngroup() + 1"
   ]
  },
  {
   "attachments": {},
   "cell_type": "markdown",
   "metadata": {},
   "source": [
    "**Assigns a unique numerical identifier to each company in the 'job_ID' column and adds it in a 'details_id' column \n",
    "based on the Job's order of appearance in the DataFrame.**"
   ]
  },
  {
   "cell_type": "code",
   "execution_count": 16,
   "metadata": {},
   "outputs": [],
   "source": [
    "# Assign a unique identifier to each job in the job dataframe\n",
    "job_df['details_id'] = job_df.groupby('job_ID').ngroup() + 1"
   ]
  },
  {
   "cell_type": "code",
   "execution_count": 17,
   "metadata": {},
   "outputs": [
    {
     "data": {
      "text/html": [
       "<div>\n",
       "<style scoped>\n",
       "    .dataframe tbody tr th:only-of-type {\n",
       "        vertical-align: middle;\n",
       "    }\n",
       "\n",
       "    .dataframe tbody tr th {\n",
       "        vertical-align: top;\n",
       "    }\n",
       "\n",
       "    .dataframe thead th {\n",
       "        text-align: right;\n",
       "    }\n",
       "</style>\n",
       "<table border=\"1\" class=\"dataframe\">\n",
       "  <thead>\n",
       "    <tr style=\"text-align: right;\">\n",
       "      <th></th>\n",
       "      <th>job_ID</th>\n",
       "      <th>job</th>\n",
       "      <th>location</th>\n",
       "      <th>company_id</th>\n",
       "      <th>company_name</th>\n",
       "      <th>work_type</th>\n",
       "      <th>full_time_remote</th>\n",
       "      <th>no_of_employ</th>\n",
       "      <th>no_of_application</th>\n",
       "      <th>posted_day_ago</th>\n",
       "      <th>alumni</th>\n",
       "      <th>Hiring_person</th>\n",
       "      <th>linkedin_followers</th>\n",
       "      <th>hiring_person_link</th>\n",
       "      <th>job_details</th>\n",
       "      <th>details_id</th>\n",
       "    </tr>\n",
       "  </thead>\n",
       "  <tbody>\n",
       "    <tr>\n",
       "      <th>0</th>\n",
       "      <td>3471657636</td>\n",
       "      <td>Data Analyst, Trilogy (Remote) - $60,000/year USD</td>\n",
       "      <td>Delhi, Delhi, India</td>\n",
       "      <td>524.0</td>\n",
       "      <td>Crossover</td>\n",
       "      <td>Remote</td>\n",
       "      <td>Full-time · Associate</td>\n",
       "      <td>1,001-5,000 employees · IT Services and IT Con...</td>\n",
       "      <td>200</td>\n",
       "      <td>8 hours</td>\n",
       "      <td>12 company alumni</td>\n",
       "      <td>NaN</td>\n",
       "      <td>5,395,547 followers</td>\n",
       "      <td>NaN</td>\n",
       "      <td>About the job Crossover is the world's #1 sour...</td>\n",
       "      <td>2697</td>\n",
       "    </tr>\n",
       "  </tbody>\n",
       "</table>\n",
       "</div>"
      ],
      "text/plain": [
       "       job_ID                                                job  \\\n",
       "0  3471657636  Data Analyst, Trilogy (Remote) - $60,000/year USD   \n",
       "\n",
       "              location  company_id company_name work_type  \\\n",
       "0  Delhi, Delhi, India       524.0    Crossover    Remote   \n",
       "\n",
       "        full_time_remote                                       no_of_employ  \\\n",
       "0  Full-time · Associate  1,001-5,000 employees · IT Services and IT Con...   \n",
       "\n",
       "  no_of_application posted_day_ago             alumni Hiring_person  \\\n",
       "0               200        8 hours  12 company alumni           NaN   \n",
       "\n",
       "    linkedin_followers hiring_person_link  \\\n",
       "0  5,395,547 followers                NaN   \n",
       "\n",
       "                                         job_details  details_id  \n",
       "0  About the job Crossover is the world's #1 sour...        2697  "
      ]
     },
     "execution_count": 17,
     "metadata": {},
     "output_type": "execute_result"
    }
   ],
   "source": [
    "job_df.head(1)"
   ]
  },
  {
   "attachments": {},
   "cell_type": "markdown",
   "metadata": {},
   "source": [
    "**Drop The unnessesary columns**"
   ]
  },
  {
   "cell_type": "code",
   "execution_count": 18,
   "metadata": {},
   "outputs": [],
   "source": [
    "job_df.drop(['alumni','hiring_person_link'],axis=1,inplace=True)"
   ]
  },
  {
   "cell_type": "code",
   "execution_count": 19,
   "metadata": {
    "colab": {
     "base_uri": "https://localhost:8080/",
     "height": 583
    },
    "id": "H4-mlAyJqY59",
    "outputId": "2cb1dd36-b2e5-4fb2-b856-30e45c95800e"
   },
   "outputs": [
    {
     "data": {
      "text/html": [
       "<div>\n",
       "<style scoped>\n",
       "    .dataframe tbody tr th:only-of-type {\n",
       "        vertical-align: middle;\n",
       "    }\n",
       "\n",
       "    .dataframe tbody tr th {\n",
       "        vertical-align: top;\n",
       "    }\n",
       "\n",
       "    .dataframe thead th {\n",
       "        text-align: right;\n",
       "    }\n",
       "</style>\n",
       "<table border=\"1\" class=\"dataframe\">\n",
       "  <thead>\n",
       "    <tr style=\"text-align: right;\">\n",
       "      <th></th>\n",
       "      <th>job_ID</th>\n",
       "      <th>job</th>\n",
       "      <th>location</th>\n",
       "      <th>company_id</th>\n",
       "      <th>company_name</th>\n",
       "      <th>work_type</th>\n",
       "      <th>full_time_remote</th>\n",
       "      <th>no_of_employ</th>\n",
       "      <th>no_of_application</th>\n",
       "      <th>posted_day_ago</th>\n",
       "      <th>Hiring_person</th>\n",
       "      <th>linkedin_followers</th>\n",
       "      <th>job_details</th>\n",
       "      <th>details_id</th>\n",
       "    </tr>\n",
       "  </thead>\n",
       "  <tbody>\n",
       "    <tr>\n",
       "      <th>0</th>\n",
       "      <td>3471657636</td>\n",
       "      <td>Data Analyst, Trilogy (Remote) - $60,000/year USD</td>\n",
       "      <td>Delhi, Delhi, India</td>\n",
       "      <td>524.0</td>\n",
       "      <td>Crossover</td>\n",
       "      <td>Remote</td>\n",
       "      <td>Full-time · Associate</td>\n",
       "      <td>1,001-5,000 employees · IT Services and IT Con...</td>\n",
       "      <td>200</td>\n",
       "      <td>8 hours</td>\n",
       "      <td>NaN</td>\n",
       "      <td>5,395,547 followers</td>\n",
       "      <td>About the job Crossover is the world's #1 sour...</td>\n",
       "      <td>2697</td>\n",
       "    </tr>\n",
       "    <tr>\n",
       "      <th>1</th>\n",
       "      <td>3471669068</td>\n",
       "      <td>Data Analyst, Trilogy (Remote) - $60,000/year USD</td>\n",
       "      <td>New Delhi, Delhi, India</td>\n",
       "      <td>524.0</td>\n",
       "      <td>Crossover</td>\n",
       "      <td>Remote</td>\n",
       "      <td>Full-time · Associate</td>\n",
       "      <td>1,001-5,000 employees · IT Services and IT Con...</td>\n",
       "      <td>184</td>\n",
       "      <td>8 hours</td>\n",
       "      <td>NaN</td>\n",
       "      <td>5,395,547 followers</td>\n",
       "      <td>About the job Crossover is the world's #1 sour...</td>\n",
       "      <td>2724</td>\n",
       "    </tr>\n",
       "    <tr>\n",
       "      <th>2</th>\n",
       "      <td>3474349934</td>\n",
       "      <td>Data Analyst - WFH</td>\n",
       "      <td>Greater Bengaluru Area</td>\n",
       "      <td>2242.0</td>\n",
       "      <td>Uplers</td>\n",
       "      <td>Remote</td>\n",
       "      <td>Full-time · Mid-Senior level</td>\n",
       "      <td>1,001-5,000 employees · IT Services and IT Con...</td>\n",
       "      <td>200</td>\n",
       "      <td>9 hours</td>\n",
       "      <td>Shahid Ahmad</td>\n",
       "      <td>NaN</td>\n",
       "      <td>About the job Profile: ML EngineersExperience:...</td>\n",
       "      <td>3668</td>\n",
       "    </tr>\n",
       "    <tr>\n",
       "      <th>3</th>\n",
       "      <td>3472816027</td>\n",
       "      <td>Data Analyst</td>\n",
       "      <td>Gurugram, Haryana, India</td>\n",
       "      <td>1553.0</td>\n",
       "      <td>PVAR SERVICES</td>\n",
       "      <td>On-site</td>\n",
       "      <td>Full-time</td>\n",
       "      <td>1-10 employees</td>\n",
       "      <td>200</td>\n",
       "      <td>7 hours</td>\n",
       "      <td>Vartika Singh</td>\n",
       "      <td>2,094 followers</td>\n",
       "      <td>About the job Designation: Data AnalystLocatio...</td>\n",
       "      <td>3083</td>\n",
       "    </tr>\n",
       "    <tr>\n",
       "      <th>4</th>\n",
       "      <td>3473311511</td>\n",
       "      <td>Data Analyst</td>\n",
       "      <td>Mohali district, Punjab, India</td>\n",
       "      <td>2147.0</td>\n",
       "      <td>Timeline Freight Brokers</td>\n",
       "      <td>On-site</td>\n",
       "      <td>Full-time</td>\n",
       "      <td>1-10 employees</td>\n",
       "      <td>8</td>\n",
       "      <td>26 minutes</td>\n",
       "      <td>Manisha (Gisele Smith)</td>\n",
       "      <td>NaN</td>\n",
       "      <td>About the job The ideal candidate will use the...</td>\n",
       "      <td>3359</td>\n",
       "    </tr>\n",
       "  </tbody>\n",
       "</table>\n",
       "</div>"
      ],
      "text/plain": [
       "       job_ID                                                job  \\\n",
       "0  3471657636  Data Analyst, Trilogy (Remote) - $60,000/year USD   \n",
       "1  3471669068  Data Analyst, Trilogy (Remote) - $60,000/year USD   \n",
       "2  3474349934                                 Data Analyst - WFH   \n",
       "3  3472816027                                       Data Analyst   \n",
       "4  3473311511                                       Data Analyst   \n",
       "\n",
       "                         location  company_id              company_name  \\\n",
       "0             Delhi, Delhi, India       524.0                 Crossover   \n",
       "1         New Delhi, Delhi, India       524.0                 Crossover   \n",
       "2          Greater Bengaluru Area      2242.0                    Uplers   \n",
       "3        Gurugram, Haryana, India      1553.0             PVAR SERVICES   \n",
       "4  Mohali district, Punjab, India      2147.0  Timeline Freight Brokers   \n",
       "\n",
       "  work_type              full_time_remote  \\\n",
       "0    Remote         Full-time · Associate   \n",
       "1    Remote         Full-time · Associate   \n",
       "2    Remote  Full-time · Mid-Senior level   \n",
       "3   On-site                     Full-time   \n",
       "4   On-site                     Full-time   \n",
       "\n",
       "                                        no_of_employ no_of_application  \\\n",
       "0  1,001-5,000 employees · IT Services and IT Con...               200   \n",
       "1  1,001-5,000 employees · IT Services and IT Con...               184   \n",
       "2  1,001-5,000 employees · IT Services and IT Con...               200   \n",
       "3                                     1-10 employees               200   \n",
       "4                                     1-10 employees                 8   \n",
       "\n",
       "  posted_day_ago           Hiring_person   linkedin_followers  \\\n",
       "0        8 hours                     NaN  5,395,547 followers   \n",
       "1        8 hours                     NaN  5,395,547 followers   \n",
       "2        9 hours            Shahid Ahmad                  NaN   \n",
       "3        7 hours           Vartika Singh      2,094 followers   \n",
       "4     26 minutes  Manisha (Gisele Smith)                  NaN   \n",
       "\n",
       "                                         job_details  details_id  \n",
       "0  About the job Crossover is the world's #1 sour...        2697  \n",
       "1  About the job Crossover is the world's #1 sour...        2724  \n",
       "2  About the job Profile: ML EngineersExperience:...        3668  \n",
       "3  About the job Designation: Data AnalystLocatio...        3083  \n",
       "4  About the job The ideal candidate will use the...        3359  "
      ]
     },
     "execution_count": 19,
     "metadata": {},
     "output_type": "execute_result"
    }
   ],
   "source": [
    "job_df.head()"
   ]
  },
  {
   "attachments": {},
   "cell_type": "markdown",
   "metadata": {
    "id": "b5duqzmVJrvJ"
   },
   "source": [
    "### **Handling missing values**\n",
    "  - All the column has the null value except `job_ID` and `company_id`\n",
    "  - `job` has **27** Null values -- This column has the less null value we can remove all the null values\n",
    "  - `location` has **27** Null values -- This column also has less null value so we can directly remove all\n",
    "  - `company_name` has **28** Null values -- This column also has less null value so we can directly remove all\n",
    "  - `work_type` has **132** Null values -- Since the data in this column object type we can replace it with the mode \n",
    "  -`full_time_remote` has **67** Null values -- This column also has less null value so we can directly remove all\n",
    "  - `no_of_employ` has **229** Null values -- This column also has less null value so we can directly remove all\n",
    "  -`no_of_application` has **33** Null values -- either we can remove it or replace it with the 0 because i know for a fact there is null values because at that time there is no application\n",
    "  -`posted_day_ago` has **6** Null values -- This column also has less null value so we can directly remove all\n",
    "  - `Hiring_person` has **1686** Null values -- In this we are going to replace the null values with 'Not Available'\n",
    "  -`linkedin_followers` has **2313** -- In this column there is a posiblity there is 0 followers so null is placed insist of it but i am going to replace it with the mean.\n",
    "  -`job_details` has **44** Null values -- This column also has less null value so we can directly remove all"
   ]
  },
  {
   "attachments": {},
   "cell_type": "markdown",
   "metadata": {},
   "source": [
    "**Cheaking the null values**"
   ]
  },
  {
   "cell_type": "code",
   "execution_count": 20,
   "metadata": {
    "colab": {
     "base_uri": "https://localhost:8080/"
    },
    "id": "mtY8oi8Mldgu",
    "outputId": "43ba8a8a-9073-4b16-f8a0-c68e69e10edc"
   },
   "outputs": [
    {
     "data": {
      "text/plain": [
       "job_ID                   0\n",
       "job                     27\n",
       "location                27\n",
       "company_id              28\n",
       "company_name            28\n",
       "work_type              132\n",
       "full_time_remote        67\n",
       "no_of_employ           229\n",
       "no_of_application       33\n",
       "posted_day_ago           6\n",
       "Hiring_person         1686\n",
       "linkedin_followers    2313\n",
       "job_details             38\n",
       "details_id               0\n",
       "dtype: int64"
      ]
     },
     "execution_count": 20,
     "metadata": {},
     "output_type": "execute_result"
    }
   ],
   "source": [
    "job_df.isnull().sum()"
   ]
  },
  {
   "attachments": {},
   "cell_type": "markdown",
   "metadata": {},
   "source": [
    "**Columns wise null percentage**"
   ]
  },
  {
   "cell_type": "code",
   "execution_count": 21,
   "metadata": {},
   "outputs": [
    {
     "data": {
      "text/plain": [
       "job_ID                 0.000000\n",
       "job                    0.462091\n",
       "location               0.462091\n",
       "company_id             0.479206\n",
       "company_name           0.479206\n",
       "work_type              2.259113\n",
       "full_time_remote       1.146671\n",
       "no_of_employ           3.919220\n",
       "no_of_application      0.564778\n",
       "posted_day_ago         0.102687\n",
       "Hiring_person         28.855040\n",
       "linkedin_followers    39.585829\n",
       "job_details            0.650351\n",
       "details_id             0.000000\n",
       "dtype: float64"
      ]
     },
     "execution_count": 21,
     "metadata": {},
     "output_type": "execute_result"
    }
   ],
   "source": [
    "job_df.isnull().sum()/job_df.shape[0]*100"
   ]
  },
  {
   "attachments": {},
   "cell_type": "markdown",
   "metadata": {},
   "source": [
    "**Removing unwanted srings from the dataFrame**"
   ]
  },
  {
   "cell_type": "code",
   "execution_count": 22,
   "metadata": {
    "id": "oZKpoJOF6EGE"
   },
   "outputs": [],
   "source": [
    "job_df=job_df.replace({'company alumni':'','followers':'','employees':''},regex=True)\n",
    "job_df[['job','no_of_employ','linkedin_followers']]=job_df[['job','no_of_employ','linkedin_followers']].replace({',':''},regex=True)\n",
    "job_df['linkedin_followers'] = pd.to_numeric(job_df['linkedin_followers'], errors='coerce')"
   ]
  },
  {
   "attachments": {},
   "cell_type": "markdown",
   "metadata": {},
   "source": [
    "**Remove the null values**"
   ]
  },
  {
   "cell_type": "code",
   "execution_count": 23,
   "metadata": {
    "colab": {
     "base_uri": "https://localhost:8080/"
    },
    "id": "gDUhzOgJxC1M",
    "outputId": "79163106-05e4-498d-aad3-3f2d20c1f829"
   },
   "outputs": [
    {
     "data": {
      "text/plain": [
       "job_ID                0\n",
       "job                   0\n",
       "location              0\n",
       "company_id            0\n",
       "company_name          0\n",
       "work_type             0\n",
       "full_time_remote      0\n",
       "no_of_employ          0\n",
       "no_of_application     0\n",
       "posted_day_ago        0\n",
       "Hiring_person         0\n",
       "linkedin_followers    0\n",
       "job_details           0\n",
       "details_id            0\n",
       "dtype: int64"
      ]
     },
     "execution_count": 23,
     "metadata": {},
     "output_type": "execute_result"
    }
   ],
   "source": [
    "job_df.dropna(subset=['job','no_of_employ','location','company_name','full_time_remote','posted_day_ago','job_details'],inplace=True)\n",
    "job_df.work_type.fillna(df.work_type.mode()[0],inplace=True)\n",
    "job_df.Hiring_person.fillna('Not Available',inplace=True)\n",
    "job_df.linkedin_followers.fillna(job_df.linkedin_followers.mean(),inplace=True)\n",
    "job_df.isnull().sum()"
   ]
  },
  {
   "attachments": {},
   "cell_type": "markdown",
   "metadata": {
    "id": "i7tWhatVf2LG"
   },
   "source": [
    "### Define\n",
    "\n",
    "\n",
    "1.   Validity\n",
    "    - In the Posted_day_ago there is inconsistency in the units some are in minutes and some of them in hours. So, converting them into the same unit `create seprate a funtion`\n",
    "  - In the Alumni column removing the string (\"company alumni\") because we want to convert it intoo the int data type  `by df.col.str.replace() or df.replace()`\n",
    "  - In linkedin_followers column we are also going to remove unnecessary stings and removing the (',') `by df.col.str.replace() or df.replace()`\n",
    "  - In Full_time_remote column we are going to seprate the involvement and level in each individual column with the healp of seprator('·') `by  split()`\n",
    "    - In No_of_employ column we are going to seprate the employees_count and industry in each individual column with the help of seprator('·') `by split()`\n",
    "  - In the location column there is three individual values so going to seprate them into three columns country,state,city `by split()`"
   ]
  },
  {
   "cell_type": "code",
   "execution_count": 24,
   "metadata": {
    "id": "eODlcZMVf48y"
   },
   "outputs": [],
   "source": [
    "def convert_posted_day_ago_to_minutes(df):\n",
    "    # Filter the DataFrame to only include rows where \"posted_day_ago\" is not null\n",
    "    df = df[df['posted_day_ago'].notnull()]\n",
    "\n",
    "    # Use regular expressions to extract the numeric value and the time unit (hours, minutes, days, weeks, or months)\n",
    "    regex_pattern = r'(\\d+)\\s+(hour|minute|day|week|month)s?'\n",
    "    matches = df['posted_day_ago'].str.extract(regex_pattern, expand=True)\n",
    "\n",
    "    # Convert the numeric values to integers and multiply by the appropriate factor for each time unit\n",
    "    # Factor for hours: 60\n",
    "    # Factor for minutes: 1\n",
    "    # Factor for days: 1440 (24 * 60)\n",
    "    # Factor for weeks: 10080 (7 * 24 * 60)\n",
    "    # Factor for months: 43800 (30 * 24 * 60)\n",
    "    factor = matches[1].replace({'hour': 60, 'minute': 1, 'day': 1440, 'week': 10080, 'month': 43800})\n",
    "    df['posted_day_ago'] = matches[0].astype(float) * factor.astype(float)\n",
    "\n",
    "    return df\n"
   ]
  },
  {
   "cell_type": "code",
   "execution_count": 25,
   "metadata": {
    "id": "NZ4mvb8S2Qsp"
   },
   "outputs": [],
   "source": [
    "# converting all the value in the same unit minutes\n",
    "job_df.posted_day_ago.dropna(inplace=True)\n",
    "job_df=convert_posted_day_ago_to_minutes(job_df)"
   ]
  },
  {
   "cell_type": "code",
   "execution_count": 26,
   "metadata": {
    "colab": {
     "base_uri": "https://localhost:8080/",
     "height": 565
    },
    "id": "cvy6UaMEZOCg",
    "outputId": "04bea184-8027-474c-c0dd-ceadb659bd23"
   },
   "outputs": [
    {
     "data": {
      "text/html": [
       "<div>\n",
       "<style scoped>\n",
       "    .dataframe tbody tr th:only-of-type {\n",
       "        vertical-align: middle;\n",
       "    }\n",
       "\n",
       "    .dataframe tbody tr th {\n",
       "        vertical-align: top;\n",
       "    }\n",
       "\n",
       "    .dataframe thead th {\n",
       "        text-align: right;\n",
       "    }\n",
       "</style>\n",
       "<table border=\"1\" class=\"dataframe\">\n",
       "  <thead>\n",
       "    <tr style=\"text-align: right;\">\n",
       "      <th></th>\n",
       "      <th>job_ID</th>\n",
       "      <th>job</th>\n",
       "      <th>location</th>\n",
       "      <th>company_id</th>\n",
       "      <th>company_name</th>\n",
       "      <th>work_type</th>\n",
       "      <th>full_time_remote</th>\n",
       "      <th>no_of_employ</th>\n",
       "      <th>no_of_application</th>\n",
       "      <th>posted_day_ago</th>\n",
       "      <th>Hiring_person</th>\n",
       "      <th>linkedin_followers</th>\n",
       "      <th>job_details</th>\n",
       "      <th>details_id</th>\n",
       "    </tr>\n",
       "  </thead>\n",
       "  <tbody>\n",
       "    <tr>\n",
       "      <th>0</th>\n",
       "      <td>3471657636</td>\n",
       "      <td>Data Analyst Trilogy (Remote) - $60000/year USD</td>\n",
       "      <td>Delhi, Delhi, India</td>\n",
       "      <td>524.0</td>\n",
       "      <td>Crossover</td>\n",
       "      <td>Remote</td>\n",
       "      <td>Full-time · Associate</td>\n",
       "      <td>1001-5000  · IT Services and IT Consulting</td>\n",
       "      <td>200</td>\n",
       "      <td>480.0</td>\n",
       "      <td>Not Available</td>\n",
       "      <td>5.395547e+06</td>\n",
       "      <td>About the job Crossover is the world's #1 sour...</td>\n",
       "      <td>2697</td>\n",
       "    </tr>\n",
       "    <tr>\n",
       "      <th>1</th>\n",
       "      <td>3471669068</td>\n",
       "      <td>Data Analyst Trilogy (Remote) - $60000/year USD</td>\n",
       "      <td>New Delhi, Delhi, India</td>\n",
       "      <td>524.0</td>\n",
       "      <td>Crossover</td>\n",
       "      <td>Remote</td>\n",
       "      <td>Full-time · Associate</td>\n",
       "      <td>1001-5000  · IT Services and IT Consulting</td>\n",
       "      <td>184</td>\n",
       "      <td>480.0</td>\n",
       "      <td>Not Available</td>\n",
       "      <td>5.395547e+06</td>\n",
       "      <td>About the job Crossover is the world's #1 sour...</td>\n",
       "      <td>2724</td>\n",
       "    </tr>\n",
       "    <tr>\n",
       "      <th>2</th>\n",
       "      <td>3474349934</td>\n",
       "      <td>Data Analyst - WFH</td>\n",
       "      <td>Greater Bengaluru Area</td>\n",
       "      <td>2242.0</td>\n",
       "      <td>Uplers</td>\n",
       "      <td>Remote</td>\n",
       "      <td>Full-time · Mid-Senior level</td>\n",
       "      <td>1001-5000  · IT Services and IT Consulting</td>\n",
       "      <td>200</td>\n",
       "      <td>540.0</td>\n",
       "      <td>Shahid Ahmad</td>\n",
       "      <td>9.821152e+05</td>\n",
       "      <td>About the job Profile: ML EngineersExperience:...</td>\n",
       "      <td>3668</td>\n",
       "    </tr>\n",
       "    <tr>\n",
       "      <th>3</th>\n",
       "      <td>3472816027</td>\n",
       "      <td>Data Analyst</td>\n",
       "      <td>Gurugram, Haryana, India</td>\n",
       "      <td>1553.0</td>\n",
       "      <td>PVAR SERVICES</td>\n",
       "      <td>On-site</td>\n",
       "      <td>Full-time</td>\n",
       "      <td>1-10</td>\n",
       "      <td>200</td>\n",
       "      <td>420.0</td>\n",
       "      <td>Vartika Singh</td>\n",
       "      <td>2.094000e+03</td>\n",
       "      <td>About the job Designation: Data AnalystLocatio...</td>\n",
       "      <td>3083</td>\n",
       "    </tr>\n",
       "    <tr>\n",
       "      <th>4</th>\n",
       "      <td>3473311511</td>\n",
       "      <td>Data Analyst</td>\n",
       "      <td>Mohali district, Punjab, India</td>\n",
       "      <td>2147.0</td>\n",
       "      <td>Timeline Freight Brokers</td>\n",
       "      <td>On-site</td>\n",
       "      <td>Full-time</td>\n",
       "      <td>1-10</td>\n",
       "      <td>8</td>\n",
       "      <td>26.0</td>\n",
       "      <td>Manisha (Gisele Smith)</td>\n",
       "      <td>9.821152e+05</td>\n",
       "      <td>About the job The ideal candidate will use the...</td>\n",
       "      <td>3359</td>\n",
       "    </tr>\n",
       "  </tbody>\n",
       "</table>\n",
       "</div>"
      ],
      "text/plain": [
       "       job_ID                                              job  \\\n",
       "0  3471657636  Data Analyst Trilogy (Remote) - $60000/year USD   \n",
       "1  3471669068  Data Analyst Trilogy (Remote) - $60000/year USD   \n",
       "2  3474349934                               Data Analyst - WFH   \n",
       "3  3472816027                                     Data Analyst   \n",
       "4  3473311511                                     Data Analyst   \n",
       "\n",
       "                         location  company_id              company_name  \\\n",
       "0             Delhi, Delhi, India       524.0                 Crossover   \n",
       "1         New Delhi, Delhi, India       524.0                 Crossover   \n",
       "2          Greater Bengaluru Area      2242.0                    Uplers   \n",
       "3        Gurugram, Haryana, India      1553.0             PVAR SERVICES   \n",
       "4  Mohali district, Punjab, India      2147.0  Timeline Freight Brokers   \n",
       "\n",
       "  work_type              full_time_remote  \\\n",
       "0    Remote         Full-time · Associate   \n",
       "1    Remote         Full-time · Associate   \n",
       "2    Remote  Full-time · Mid-Senior level   \n",
       "3   On-site                     Full-time   \n",
       "4   On-site                     Full-time   \n",
       "\n",
       "                                 no_of_employ no_of_application  \\\n",
       "0  1001-5000  · IT Services and IT Consulting               200   \n",
       "1  1001-5000  · IT Services and IT Consulting               184   \n",
       "2  1001-5000  · IT Services and IT Consulting               200   \n",
       "3                                       1-10                200   \n",
       "4                                       1-10                  8   \n",
       "\n",
       "   posted_day_ago           Hiring_person  linkedin_followers  \\\n",
       "0           480.0           Not Available        5.395547e+06   \n",
       "1           480.0           Not Available        5.395547e+06   \n",
       "2           540.0            Shahid Ahmad        9.821152e+05   \n",
       "3           420.0           Vartika Singh        2.094000e+03   \n",
       "4            26.0  Manisha (Gisele Smith)        9.821152e+05   \n",
       "\n",
       "                                         job_details  details_id  \n",
       "0  About the job Crossover is the world's #1 sour...        2697  \n",
       "1  About the job Crossover is the world's #1 sour...        2724  \n",
       "2  About the job Profile: ML EngineersExperience:...        3668  \n",
       "3  About the job Designation: Data AnalystLocatio...        3083  \n",
       "4  About the job The ideal candidate will use the...        3359  "
      ]
     },
     "execution_count": 26,
     "metadata": {},
     "output_type": "execute_result"
    }
   ],
   "source": [
    "# cheaking\n",
    "job_df.head()"
   ]
  },
  {
   "attachments": {},
   "cell_type": "markdown",
   "metadata": {
    "id": "cvWyHIRV-jQr"
   },
   "source": [
    "### Saprating the columns"
   ]
  },
  {
   "cell_type": "code",
   "execution_count": 27,
   "metadata": {},
   "outputs": [
    {
     "data": {
      "text/plain": [
       "0        1001-5000  · IT Services and IT Consulting\n",
       "1        1001-5000  · IT Services and IT Consulting\n",
       "2        1001-5000  · IT Services and IT Consulting\n",
       "3                                             1-10 \n",
       "4                                             1-10 \n",
       "                           ...                     \n",
       "5838    5001-10000  · IT Services and IT Consulting\n",
       "5839     1001-5000  · IT Services and IT Consulting\n",
       "5840        10001+  · IT Services and IT Consulting\n",
       "5841     1001-5000  · IT Services and IT Consulting\n",
       "5842        10001+  · IT Services and IT Consulting\n",
       "Name: no_of_employ, Length: 5597, dtype: object"
      ]
     },
     "execution_count": 27,
     "metadata": {},
     "output_type": "execute_result"
    }
   ],
   "source": [
    "job_df.no_of_employ"
   ]
  },
  {
   "cell_type": "code",
   "execution_count": 28,
   "metadata": {
    "id": "qNgCpf_l9oIq"
   },
   "outputs": [],
   "source": [
    "# Split 'no_of_employ' column on '·' separator and store in new columns\n",
    "job_df[['no_of_employ', 'company_sector']] = pd.DataFrame(job_df['no_of_employ'].str.split('·').tolist(), index=job_df.index)\n",
    "\n",
    "# Split 'full_time_remote' column on '·' separator and store in new columns\n",
    "job_df[['full_time_remote', 'Job_level']] = pd.DataFrame(job_df['full_time_remote'].str.split('·').tolist(), index=job_df.index)\n"
   ]
  },
  {
   "cell_type": "code",
   "execution_count": 29,
   "metadata": {
    "colab": {
     "base_uri": "https://localhost:8080/",
     "height": 565
    },
    "id": "T5SNekQgBziZ",
    "outputId": "f5bba183-f678-47d3-d648-9c4dc9e4f1ab"
   },
   "outputs": [
    {
     "data": {
      "text/html": [
       "<div>\n",
       "<style scoped>\n",
       "    .dataframe tbody tr th:only-of-type {\n",
       "        vertical-align: middle;\n",
       "    }\n",
       "\n",
       "    .dataframe tbody tr th {\n",
       "        vertical-align: top;\n",
       "    }\n",
       "\n",
       "    .dataframe thead th {\n",
       "        text-align: right;\n",
       "    }\n",
       "</style>\n",
       "<table border=\"1\" class=\"dataframe\">\n",
       "  <thead>\n",
       "    <tr style=\"text-align: right;\">\n",
       "      <th></th>\n",
       "      <th>job_ID</th>\n",
       "      <th>job</th>\n",
       "      <th>location</th>\n",
       "      <th>company_id</th>\n",
       "      <th>company_name</th>\n",
       "      <th>work_type</th>\n",
       "      <th>full_time_remote</th>\n",
       "      <th>no_of_employ</th>\n",
       "      <th>no_of_application</th>\n",
       "      <th>posted_day_ago</th>\n",
       "      <th>Hiring_person</th>\n",
       "      <th>linkedin_followers</th>\n",
       "      <th>job_details</th>\n",
       "      <th>details_id</th>\n",
       "      <th>company_sector</th>\n",
       "      <th>Job_level</th>\n",
       "    </tr>\n",
       "  </thead>\n",
       "  <tbody>\n",
       "    <tr>\n",
       "      <th>0</th>\n",
       "      <td>3471657636</td>\n",
       "      <td>Data Analyst Trilogy (Remote) - $60000/year USD</td>\n",
       "      <td>Delhi, Delhi, India</td>\n",
       "      <td>524.0</td>\n",
       "      <td>Crossover</td>\n",
       "      <td>Remote</td>\n",
       "      <td>Full-time</td>\n",
       "      <td>1001-5000</td>\n",
       "      <td>200</td>\n",
       "      <td>480.0</td>\n",
       "      <td>Not Available</td>\n",
       "      <td>5.395547e+06</td>\n",
       "      <td>About the job Crossover is the world's #1 sour...</td>\n",
       "      <td>2697</td>\n",
       "      <td>IT Services and IT Consulting</td>\n",
       "      <td>Associate</td>\n",
       "    </tr>\n",
       "    <tr>\n",
       "      <th>1</th>\n",
       "      <td>3471669068</td>\n",
       "      <td>Data Analyst Trilogy (Remote) - $60000/year USD</td>\n",
       "      <td>New Delhi, Delhi, India</td>\n",
       "      <td>524.0</td>\n",
       "      <td>Crossover</td>\n",
       "      <td>Remote</td>\n",
       "      <td>Full-time</td>\n",
       "      <td>1001-5000</td>\n",
       "      <td>184</td>\n",
       "      <td>480.0</td>\n",
       "      <td>Not Available</td>\n",
       "      <td>5.395547e+06</td>\n",
       "      <td>About the job Crossover is the world's #1 sour...</td>\n",
       "      <td>2724</td>\n",
       "      <td>IT Services and IT Consulting</td>\n",
       "      <td>Associate</td>\n",
       "    </tr>\n",
       "    <tr>\n",
       "      <th>2</th>\n",
       "      <td>3474349934</td>\n",
       "      <td>Data Analyst - WFH</td>\n",
       "      <td>Greater Bengaluru Area</td>\n",
       "      <td>2242.0</td>\n",
       "      <td>Uplers</td>\n",
       "      <td>Remote</td>\n",
       "      <td>Full-time</td>\n",
       "      <td>1001-5000</td>\n",
       "      <td>200</td>\n",
       "      <td>540.0</td>\n",
       "      <td>Shahid Ahmad</td>\n",
       "      <td>9.821152e+05</td>\n",
       "      <td>About the job Profile: ML EngineersExperience:...</td>\n",
       "      <td>3668</td>\n",
       "      <td>IT Services and IT Consulting</td>\n",
       "      <td>Mid-Senior level</td>\n",
       "    </tr>\n",
       "    <tr>\n",
       "      <th>3</th>\n",
       "      <td>3472816027</td>\n",
       "      <td>Data Analyst</td>\n",
       "      <td>Gurugram, Haryana, India</td>\n",
       "      <td>1553.0</td>\n",
       "      <td>PVAR SERVICES</td>\n",
       "      <td>On-site</td>\n",
       "      <td>Full-time</td>\n",
       "      <td>1-10</td>\n",
       "      <td>200</td>\n",
       "      <td>420.0</td>\n",
       "      <td>Vartika Singh</td>\n",
       "      <td>2.094000e+03</td>\n",
       "      <td>About the job Designation: Data AnalystLocatio...</td>\n",
       "      <td>3083</td>\n",
       "      <td>None</td>\n",
       "      <td>None</td>\n",
       "    </tr>\n",
       "    <tr>\n",
       "      <th>4</th>\n",
       "      <td>3473311511</td>\n",
       "      <td>Data Analyst</td>\n",
       "      <td>Mohali district, Punjab, India</td>\n",
       "      <td>2147.0</td>\n",
       "      <td>Timeline Freight Brokers</td>\n",
       "      <td>On-site</td>\n",
       "      <td>Full-time</td>\n",
       "      <td>1-10</td>\n",
       "      <td>8</td>\n",
       "      <td>26.0</td>\n",
       "      <td>Manisha (Gisele Smith)</td>\n",
       "      <td>9.821152e+05</td>\n",
       "      <td>About the job The ideal candidate will use the...</td>\n",
       "      <td>3359</td>\n",
       "      <td>None</td>\n",
       "      <td>None</td>\n",
       "    </tr>\n",
       "  </tbody>\n",
       "</table>\n",
       "</div>"
      ],
      "text/plain": [
       "       job_ID                                              job  \\\n",
       "0  3471657636  Data Analyst Trilogy (Remote) - $60000/year USD   \n",
       "1  3471669068  Data Analyst Trilogy (Remote) - $60000/year USD   \n",
       "2  3474349934                               Data Analyst - WFH   \n",
       "3  3472816027                                     Data Analyst   \n",
       "4  3473311511                                     Data Analyst   \n",
       "\n",
       "                         location  company_id              company_name  \\\n",
       "0             Delhi, Delhi, India       524.0                 Crossover   \n",
       "1         New Delhi, Delhi, India       524.0                 Crossover   \n",
       "2          Greater Bengaluru Area      2242.0                    Uplers   \n",
       "3        Gurugram, Haryana, India      1553.0             PVAR SERVICES   \n",
       "4  Mohali district, Punjab, India      2147.0  Timeline Freight Brokers   \n",
       "\n",
       "  work_type full_time_remote no_of_employ no_of_application  posted_day_ago  \\\n",
       "0    Remote       Full-time   1001-5000                 200           480.0   \n",
       "1    Remote       Full-time   1001-5000                 184           480.0   \n",
       "2    Remote       Full-time   1001-5000                 200           540.0   \n",
       "3   On-site        Full-time        1-10                200           420.0   \n",
       "4   On-site        Full-time        1-10                  8            26.0   \n",
       "\n",
       "            Hiring_person  linkedin_followers  \\\n",
       "0           Not Available        5.395547e+06   \n",
       "1           Not Available        5.395547e+06   \n",
       "2            Shahid Ahmad        9.821152e+05   \n",
       "3           Vartika Singh        2.094000e+03   \n",
       "4  Manisha (Gisele Smith)        9.821152e+05   \n",
       "\n",
       "                                         job_details  details_id  \\\n",
       "0  About the job Crossover is the world's #1 sour...        2697   \n",
       "1  About the job Crossover is the world's #1 sour...        2724   \n",
       "2  About the job Profile: ML EngineersExperience:...        3668   \n",
       "3  About the job Designation: Data AnalystLocatio...        3083   \n",
       "4  About the job The ideal candidate will use the...        3359   \n",
       "\n",
       "                   company_sector          Job_level  \n",
       "0   IT Services and IT Consulting          Associate  \n",
       "1   IT Services and IT Consulting          Associate  \n",
       "2   IT Services and IT Consulting   Mid-Senior level  \n",
       "3                            None               None  \n",
       "4                            None               None  "
      ]
     },
     "execution_count": 29,
     "metadata": {},
     "output_type": "execute_result"
    }
   ],
   "source": [
    "#Testing\n",
    "job_df.head()"
   ]
  },
  {
   "cell_type": "code",
   "execution_count": 30,
   "metadata": {
    "colab": {
     "base_uri": "https://localhost:8080/"
    },
    "id": "cUImi2jyChtG",
    "outputId": "d4e2e24c-38d2-4e38-93e5-12470a4e49ec"
   },
   "outputs": [
    {
     "data": {
      "text/plain": [
       "job_ID                   0\n",
       "job                      0\n",
       "location                 0\n",
       "company_id               0\n",
       "company_name             0\n",
       "work_type                0\n",
       "full_time_remote         0\n",
       "no_of_employ             0\n",
       "no_of_application        0\n",
       "posted_day_ago           3\n",
       "Hiring_person            0\n",
       "linkedin_followers       0\n",
       "job_details              0\n",
       "details_id               0\n",
       "company_sector        1957\n",
       "Job_level             2070\n",
       "dtype: int64"
      ]
     },
     "execution_count": 30,
     "metadata": {},
     "output_type": "execute_result"
    }
   ],
   "source": [
    "# checking the null value\n",
    "job_df.isnull().sum()"
   ]
  },
  {
   "attachments": {},
   "cell_type": "markdown",
   "metadata": {
    "id": "_61LxvhwE7PJ"
   },
   "source": [
    "#### Handling the null value gentared after seprating the column\n",
    "- `company_sector` has 1957 Null value --  In this column we are replacing with the 'Not Avilable\n",
    "- `Job_level` has 2070 Null value -- In this column we are replacing with the 'Not Avilable'\n",
    "- `posted_day_ago` has 3 Null value -- Removing all the null value"
   ]
  },
  {
   "cell_type": "code",
   "execution_count": 31,
   "metadata": {
    "id": "N9kTQ9JPEv0n"
   },
   "outputs": [],
   "source": [
    "# code\n",
    "\n",
    "job_df.company_sector.fillna('Not Avilable',inplace=True)\n",
    "job_df.Job_level.fillna('Not Avilable',inplace=True)\n",
    "job_df.dropna(subset=['posted_day_ago'],inplace=True)"
   ]
  },
  {
   "cell_type": "code",
   "execution_count": 32,
   "metadata": {
    "colab": {
     "base_uri": "https://localhost:8080/"
    },
    "id": "fclvi9elItar",
    "outputId": "71c4fdf9-d484-4612-aedf-1ef4436cc660",
    "scrolled": true
   },
   "outputs": [
    {
     "data": {
      "text/plain": [
       "job_ID                0\n",
       "job                   0\n",
       "location              0\n",
       "company_id            0\n",
       "company_name          0\n",
       "work_type             0\n",
       "full_time_remote      0\n",
       "no_of_employ          0\n",
       "no_of_application     0\n",
       "posted_day_ago        0\n",
       "Hiring_person         0\n",
       "linkedin_followers    0\n",
       "job_details           0\n",
       "details_id            0\n",
       "company_sector        0\n",
       "Job_level             0\n",
       "dtype: int64"
      ]
     },
     "execution_count": 32,
     "metadata": {},
     "output_type": "execute_result"
    }
   ],
   "source": [
    "# test\n",
    "\n",
    "job_df.isnull().sum()"
   ]
  },
  {
   "cell_type": "code",
   "execution_count": 33,
   "metadata": {
    "colab": {
     "base_uri": "https://localhost:8080/"
    },
    "id": "N7L46_4GYqPK",
    "outputId": "ef8115bd-6a7f-4105-9090-09ff6931e541"
   },
   "outputs": [
    {
     "data": {
      "text/plain": [
       "306         Sahibzada Ajit Singh Nagar, Punjab, India\n",
       "551         Sahibzada Ajit Singh Nagar, Punjab, India\n",
       "656         Sahibzada Ajit Singh Nagar, Punjab, India\n",
       "671         Sahibzada Ajit Singh Nagar, Punjab, India\n",
       "795         Sahibzada Ajit Singh Nagar, Punjab, India\n",
       "1140        Sahibzada Ajit Singh Nagar, Punjab, India\n",
       "1215    Kolkata metropolitan area, West Bengal, India\n",
       "1265        Sahibzada Ajit Singh Nagar, Punjab, India\n",
       "1291        Sahibzada Ajit Singh Nagar, Punjab, India\n",
       "1645        Sahibzada Ajit Singh Nagar, Punjab, India\n",
       "1666        Sahibzada Ajit Singh Nagar, Punjab, India\n",
       "1745    Kolkata metropolitan area, West Bengal, India\n",
       "2093        Sahibzada Ajit Singh Nagar, Punjab, India\n",
       "2125        Sahibzada Ajit Singh Nagar, Punjab, India\n",
       "2183    Kolkata metropolitan area, West Bengal, India\n",
       "3338    Kolkata metropolitan area, West Bengal, India\n",
       "4034    Kolkata metropolitan area, West Bengal, India\n",
       "5216    Kolkata metropolitan area, West Bengal, India\n",
       "5229        Sahibzada Ajit Singh Nagar, Punjab, India\n",
       "5689        Gautam Buddha Nagar, Uttar Pradesh, India\n",
       "Name: location, dtype: object"
      ]
     },
     "execution_count": 33,
     "metadata": {},
     "output_type": "execute_result"
    }
   ],
   "source": [
    "job_df.location[job_df.location.str.split().str.len()==6]"
   ]
  },
  {
   "attachments": {},
   "cell_type": "markdown",
   "metadata": {
    "id": "dj-ucF6yZVjz"
   },
   "source": [
    "### Seprating the city and state from `location`"
   ]
  },
  {
   "cell_type": "code",
   "execution_count": 34,
   "metadata": {
    "colab": {
     "base_uri": "https://localhost:8080/",
     "height": 565
    },
    "id": "IT3svadb4bBA",
    "outputId": "a6f4d8c8-7b11-4ca4-d9ba-fad876d13950"
   },
   "outputs": [],
   "source": [
    "# seprating the state\n",
    "job_df['City']=job_df['location'][(job_df.location !='India')].str.split(',').str[0]"
   ]
  },
  {
   "attachments": {},
   "cell_type": "markdown",
   "metadata": {},
   "source": [
    "#### Create a function to convert citys to states"
   ]
  },
  {
   "cell_type": "code",
   "execution_count": 35,
   "metadata": {},
   "outputs": [],
   "source": [
    "def find_state(x):\n",
    "    \"\"\"\n",
    "    Returns the state corresponding to the given area.\n",
    "\n",
    "    Parameters:\n",
    "        x (str): The name of the area.\n",
    "\n",
    "    Returns:\n",
    "        str: The corresponding state.\n",
    "\n",
    "    \"\"\"\n",
    "    if x == 'Greater Bengaluru Area':\n",
    "        return 'Karnataka'\n",
    "    elif x == 'Mumbai Metropolitan Region':\n",
    "        return 'Maharashtra'\n",
    "    elif x == 'Greater Kolkata Area':\n",
    "        return 'West Bengal'\n",
    "    elif x == 'Pune/Pimpri-Chinchwad Area':\n",
    "        return 'Maharashtra'\n",
    "    elif x == 'Greater Hyderabad Area':\n",
    "        return 'Telangana'\n",
    "    elif x == 'Greater Delhi Area':\n",
    "        return 'Delhi'\n",
    "    elif x == 'Greater Coimbatore Area':\n",
    "        return 'Tamil Nadu'\n",
    "    elif x == 'Greater Chennai Area':\n",
    "        return 'Tamil Nadu'\n",
    "    elif x == 'Greater Ahmedabad Area':\n",
    "        return 'Gujarat'\n",
    "    elif x == 'Greater Nagpur Area':\n",
    "        return 'Maharashtra'\n",
    "    else:\n",
    "        return 'error'\n"
   ]
  },
  {
   "attachments": {},
   "cell_type": "markdown",
   "metadata": {},
   "source": [
    "#### Install the geopy module"
   ]
  },
  {
   "cell_type": "code",
   "execution_count": 36,
   "metadata": {},
   "outputs": [],
   "source": [
    "!pip install geopy -q"
   ]
  },
  {
   "attachments": {},
   "cell_type": "markdown",
   "metadata": {},
   "source": [
    "#### Create a function to find the states with the help of citys"
   ]
  },
  {
   "cell_type": "code",
   "execution_count": 37,
   "metadata": {},
   "outputs": [],
   "source": [
    "from geopy.geocoders import Nominatim\n",
    "from functools import lru_cache\n",
    "geolocator = Nominatim(user_agent=\"apps\")\n",
    "@lru_cache(maxsize=None)\n",
    "def extract_state(x):\n",
    "    try:\n",
    "#         geocode = lambda query, **kw: _geocode(\"%s, Cleveland OH\" % query, **kw)\n",
    "        location = geolocator.geocode(x,addressdetails=True)\n",
    "        return location.raw['address']['state']\n",
    "    except Exception as e:\n",
    "        print(e)\n",
    "        return find_state(x)\n",
    "    "
   ]
  },
  {
   "attachments": {},
   "cell_type": "markdown",
   "metadata": {},
   "source": [
    "#### Create a function to find the City with the help of citys"
   ]
  },
  {
   "cell_type": "code",
   "execution_count": 38,
   "metadata": {},
   "outputs": [],
   "source": [
    "from geopy.geocoders import Nominatim\n",
    "from functools import lru_cache\n",
    "geolocator = Nominatim(user_agent=\"apps\")\n",
    "@lru_cache(maxsize=None)\n",
    "def extract_city(x):\n",
    "    try:\n",
    "#         geocode = lambda query, **kw: _geocode(\"%s, Cleveland OH\" % query, **kw)\n",
    "        location = geolocator.geocode(x,addressdetails=True)\n",
    "        return location.raw['address']['city']\n",
    "    except Exception as e:\n",
    "#         print(e)\n",
    "        return np.nan"
   ]
  },
  {
   "attachments": {},
   "cell_type": "markdown",
   "metadata": {},
   "source": [
    "#### Applying the extract_state function to the dataframe `state` column"
   ]
  },
  {
   "cell_type": "code",
   "execution_count": 39,
   "metadata": {},
   "outputs": [
    {
     "name": "stdout",
     "output_type": "stream",
     "text": [
      "'NoneType' object has no attribute 'raw'\n",
      "'state'\n",
      "'NoneType' object has no attribute 'raw'\n",
      "'NoneType' object has no attribute 'raw'\n",
      "'NoneType' object has no attribute 'raw'\n",
      "'NoneType' object has no attribute 'raw'\n",
      "'NoneType' object has no attribute 'raw'\n",
      "'state'\n",
      "'NoneType' object has no attribute 'raw'\n",
      "'NoneType' object has no attribute 'raw'\n",
      "'NoneType' object has no attribute 'raw'\n",
      "'NoneType' object has no attribute 'raw'\n"
     ]
    }
   ],
   "source": [
    "job_df['State']=job_df['City'].apply(extract_state)"
   ]
  },
  {
   "cell_type": "code",
   "execution_count": 40,
   "metadata": {},
   "outputs": [
    {
     "name": "stderr",
     "output_type": "stream",
     "text": [
      "C:\\Users\\Shashank\\AppData\\Local\\Temp\\ipykernel_20600\\198067603.py:1: SettingWithCopyWarning: \n",
      "A value is trying to be set on a copy of a slice from a DataFrame\n",
      "\n",
      "See the caveats in the documentation: https://pandas.pydata.org/pandas-docs/stable/user_guide/indexing.html#returning-a-view-versus-a-copy\n",
      "  job_df[['State']].replace({'Trentino-Alto Adige/Südtirol':np.nan},inplace=True)\n"
     ]
    }
   ],
   "source": [
    "job_df[['State']].replace({'Trentino-Alto Adige/Südtirol':np.nan},inplace=True)"
   ]
  },
  {
   "attachments": {},
   "cell_type": "markdown",
   "metadata": {},
   "source": [
    "**we are getting some error during applying the above fuction.\n",
    "So, getting the missing values from the location column**"
   ]
  },
  {
   "cell_type": "code",
   "execution_count": 41,
   "metadata": {},
   "outputs": [
    {
     "data": {
      "text/plain": [
       "140     error\n",
       "231     error\n",
       "761     error\n",
       "1068    error\n",
       "1185    error\n",
       "1215    error\n",
       "1520    error\n",
       "1728    error\n",
       "1745    error\n",
       "1881    error\n",
       "1931    error\n",
       "2179    error\n",
       "2183    error\n",
       "3148    error\n",
       "3166    error\n",
       "3188    error\n",
       "3273    error\n",
       "3275    error\n",
       "3305    error\n",
       "3324    error\n",
       "3338    error\n",
       "3424    error\n",
       "3448    error\n",
       "3668    error\n",
       "3920    error\n",
       "4034    error\n",
       "4549    error\n",
       "4568    error\n",
       "4646    error\n",
       "4716    error\n",
       "5071    error\n",
       "5216    error\n",
       "5237    error\n",
       "5336    error\n",
       "5562    error\n",
       "5751    error\n",
       "Name: State, dtype: object"
      ]
     },
     "execution_count": 41,
     "metadata": {},
     "output_type": "execute_result"
    }
   ],
   "source": [
    "job_df['State'][job_df['State']=='error']"
   ]
  },
  {
   "cell_type": "code",
   "execution_count": 42,
   "metadata": {},
   "outputs": [
    {
     "name": "stdout",
     "output_type": "stream",
     "text": [
      "36\n"
     ]
    }
   ],
   "source": [
    "print(job_df['State'][job_df['State']=='error'].count())"
   ]
  },
  {
   "cell_type": "code",
   "execution_count": 43,
   "metadata": {},
   "outputs": [
    {
     "name": "stderr",
     "output_type": "stream",
     "text": [
      "C:\\Users\\Shashank\\AppData\\Local\\Temp\\ipykernel_20600\\1564140780.py:1: SettingWithCopyWarning: \n",
      "A value is trying to be set on a copy of a slice from a DataFrame\n",
      "\n",
      "See the caveats in the documentation: https://pandas.pydata.org/pandas-docs/stable/user_guide/indexing.html#returning-a-view-versus-a-copy\n",
      "  job_df['State'][job_df['State']=='error']=job_df['location'][job_df['State']=='error'].str.split(',').str[1]\n"
     ]
    }
   ],
   "source": [
    "job_df['State'][job_df['State']=='error']=job_df['location'][job_df['State']=='error'].str.split(',').str[1]"
   ]
  },
  {
   "attachments": {},
   "cell_type": "markdown",
   "metadata": {},
   "source": [
    "**Checking the noise values present in the City column**"
   ]
  },
  {
   "cell_type": "code",
   "execution_count": 44,
   "metadata": {},
   "outputs": [
    {
     "data": {
      "text/plain": [
       "array(['Delhi', 'New Delhi', 'Greater Bengaluru Area', 'Gurugram',\n",
       "       'Mohali district', 'Bengaluru', 'Noida', 'Hyderabad', nan,\n",
       "       'Chennai', 'Kolkata', 'Madurai', 'Pune', 'Mumbai', 'Kochi',\n",
       "       'Ahmedabad', 'Vadodara', 'Hosur', 'Coimbatore', 'Chengannur',\n",
       "       'Mumbai Metropolitan Region', 'Bhopal', 'Maharashtra', 'Surat',\n",
       "       'Jaipur', 'Chandigarh', 'Trivandrum', 'Delhi Cantonment', 'Thane',\n",
       "       'Gujarat', 'Navi Mumbai', 'Greater Kolkata Area',\n",
       "       'Bangalore Urban', 'Gurgaon', 'Nagpur', 'Kalyan', 'Dehradun',\n",
       "       'Kozhikode', 'Ludhiana', 'Tenkasi', 'Amritsar', 'Patna',\n",
       "       'Tamil Nadu', 'Thiruvananthapuram', 'Sahibzada Ajit Singh Nagar',\n",
       "       'Telangana', 'Indore', 'Pune/Pimpri-Chinchwad Area', 'Kerala',\n",
       "       'Lucknow', 'Greater Hyderabad Area', 'Guindy', 'Vapi',\n",
       "       'Greater Delhi Area', 'Bangalore Urban district', 'Rajkot',\n",
       "       'Faridabad', 'Visakhapatnam', 'APAC', 'Kanpur', 'Bandra',\n",
       "       'Thiruvarur', 'Puducherry', 'Mangaluru', 'Aurangabad',\n",
       "       'Gurgaon Rural', 'Pimpri Chinchwad', 'Kolkata metropolitan area',\n",
       "       'Goa', 'Gandhinagar', 'Greater Coimbatore Area', 'Ghaziabad',\n",
       "       'Hoshiarpur', 'Manesar', 'Bhubaneshwar', 'South Delhi', 'Saket',\n",
       "       'Karunagappally', 'Rohini', 'Dumka', 'Srinagar', 'Jabalpur',\n",
       "       'Haryana', 'Greater Chennai Area', 'Ernakulam', 'Rupnagar',\n",
       "       'Siwani', 'Vishakhapatnam', 'Ulhasnagar', 'Bengaluru East',\n",
       "       'Punjab', 'Kangra', 'Kanpur Nagar', 'Alipur', 'Nagercoil', 'Jammu',\n",
       "       'Jalandhar', 'Greater Ahmedabad Area', 'Pollachi', 'Mangalagiri',\n",
       "       'Varanasi', 'Jamshedpur', 'Bhubaneswar', 'Agra', 'Ranchi',\n",
       "       'Vijayawada', 'Udaipur', 'Greater Nagpur Area', 'Jodhpur',\n",
       "       'Secunderābād', 'Golaghat district', 'Rajarhat', 'Velachery',\n",
       "       'Kolhapur', 'Silao', 'Tiruchengodu', 'Uttar Pradesh', 'Dwarka',\n",
       "       'Jalgaon', 'Preet Vihar', 'North West Delhi', 'West Delhi',\n",
       "       'Vasant Vihar', 'Berhampore', 'Raipur', 'Defence Colony',\n",
       "       'Patel Nagar', 'Pochampalli', 'Dadri', 'Ahmednagar', 'Midnapore',\n",
       "       'Tiruchirappalli', 'Thiruvananthapuram Taluk', 'Karnataka',\n",
       "       'Gautam Buddha Nagar', 'Sriperumbudur'], dtype=object)"
      ]
     },
     "execution_count": 44,
     "metadata": {},
     "output_type": "execute_result"
    }
   ],
   "source": [
    "job_df['City'].unique()"
   ]
  },
  {
   "attachments": {},
   "cell_type": "markdown",
   "metadata": {},
   "source": [
    "**Now used extract_city function on a `City` Column to get the Delhi city.**"
   ]
  },
  {
   "cell_type": "code",
   "execution_count": 45,
   "metadata": {},
   "outputs": [
    {
     "name": "stderr",
     "output_type": "stream",
     "text": [
      "C:\\Users\\Shashank\\AppData\\Local\\Temp\\ipykernel_20600\\994967429.py:1: SettingWithCopyWarning: \n",
      "A value is trying to be set on a copy of a slice from a DataFrame\n",
      "\n",
      "See the caveats in the documentation: https://pandas.pydata.org/pandas-docs/stable/user_guide/indexing.html#returning-a-view-versus-a-copy\n",
      "  job_df['City'][job_df['City'].isnull()]=job_df['State'][job_df['City'].isnull()].apply(extract_city)\n"
     ]
    }
   ],
   "source": [
    "job_df['City'][job_df['City'].isnull()]=job_df['State'][job_df['City'].isnull()].apply(extract_city)"
   ]
  },
  {
   "attachments": {},
   "cell_type": "markdown",
   "metadata": {},
   "source": [
    "#### There are `42` states are presant in the city column "
   ]
  },
  {
   "cell_type": "code",
   "execution_count": 46,
   "metadata": {},
   "outputs": [
    {
     "data": {
      "text/plain": [
       "City     42\n",
       "State    42\n",
       "dtype: int64"
      ]
     },
     "execution_count": 46,
     "metadata": {},
     "output_type": "execute_result"
    }
   ],
   "source": [
    "job_df[['City','State']][(job_df.City==job_df.State)&(job_df.City!='Delhi')].count()"
   ]
  },
  {
   "attachments": {},
   "cell_type": "markdown",
   "metadata": {},
   "source": [
    "**Replacing those city cells in which state names stored**"
   ]
  },
  {
   "cell_type": "code",
   "execution_count": 47,
   "metadata": {},
   "outputs": [
    {
     "name": "stderr",
     "output_type": "stream",
     "text": [
      "C:\\Users\\Shashank\\AppData\\Local\\Temp\\ipykernel_20600\\3802033688.py:1: SettingWithCopyWarning: \n",
      "A value is trying to be set on a copy of a slice from a DataFrame\n",
      "\n",
      "See the caveats in the documentation: https://pandas.pydata.org/pandas-docs/stable/user_guide/indexing.html#returning-a-view-versus-a-copy\n",
      "  job_df['City'][(job_df.City==job_df.State)&(job_df.City!='Delhi')]=np.nan\n"
     ]
    }
   ],
   "source": [
    "job_df['City'][(job_df.City==job_df.State)&(job_df.City!='Delhi')]=np.nan"
   ]
  },
  {
   "attachments": {},
   "cell_type": "markdown",
   "metadata": {},
   "source": [
    "**There are `538` Null value are present in the city column**"
   ]
  },
  {
   "cell_type": "code",
   "execution_count": 48,
   "metadata": {},
   "outputs": [
    {
     "data": {
      "text/plain": [
       "State      0\n",
       "City     580\n",
       "dtype: int64"
      ]
     },
     "execution_count": 48,
     "metadata": {},
     "output_type": "execute_result"
    }
   ],
   "source": [
    "job_df[['State','City']].isnull().sum()"
   ]
  },
  {
   "attachments": {},
   "cell_type": "markdown",
   "metadata": {},
   "source": [
    "**Checking the noise values present in the State column**"
   ]
  },
  {
   "cell_type": "code",
   "execution_count": 49,
   "metadata": {},
   "outputs": [
    {
     "data": {
      "text/plain": [
       "array(['Delhi', 'Karnataka', 'Haryana', 'North West', 'Uttar Pradesh',\n",
       "       'Telangana', 'Trentino-Alto Adige/Südtirol', 'Tamil Nadu',\n",
       "       'West Bengal', 'Maharashtra', 'Kerala', 'Gujarat',\n",
       "       'Madhya Pradesh', 'Auvergne-Rhône-Alpes', 'Rajasthan',\n",
       "       ' Chandigarh', 'Uttarakhand', 'Punjab', 'Bihar', 'Andhra Pradesh',\n",
       "       'Apac', 'Puducherry', ' India', ' Haryana', ' West Bengal', 'Goa',\n",
       "       'Odisha', ' Delhi', 'Jharkhand', 'Jammu and Kashmir',\n",
       "       ' Andhra Pradesh', 'Himachal Pradesh', 'Assam', 'রংপুর বিভাগ',\n",
       "       'Chhattisgarh'], dtype=object)"
      ]
     },
     "execution_count": 49,
     "metadata": {},
     "output_type": "execute_result"
    }
   ],
   "source": [
    "job_df.State.unique()"
   ]
  },
  {
   "attachments": {},
   "cell_type": "markdown",
   "metadata": {},
   "source": [
    "**In the State column instead of null values 'Trentino-Alto Adige/Südtirol' is presant**\n",
    "- replacing it with the null values"
   ]
  },
  {
   "cell_type": "code",
   "execution_count": 50,
   "metadata": {},
   "outputs": [
    {
     "data": {
      "text/plain": [
       "15      Trentino-Alto Adige/Südtirol\n",
       "20      Trentino-Alto Adige/Südtirol\n",
       "27      Trentino-Alto Adige/Südtirol\n",
       "42      Trentino-Alto Adige/Südtirol\n",
       "43      Trentino-Alto Adige/Südtirol\n",
       "                    ...             \n",
       "5765    Trentino-Alto Adige/Südtirol\n",
       "5781    Trentino-Alto Adige/Südtirol\n",
       "5803    Trentino-Alto Adige/Südtirol\n",
       "5808    Trentino-Alto Adige/Südtirol\n",
       "5817    Trentino-Alto Adige/Südtirol\n",
       "Name: State, Length: 580, dtype: object"
      ]
     },
     "execution_count": 50,
     "metadata": {},
     "output_type": "execute_result"
    }
   ],
   "source": [
    "job_df.State[job_df['City'].isnull()]"
   ]
  },
  {
   "cell_type": "code",
   "execution_count": 51,
   "metadata": {},
   "outputs": [],
   "source": [
    "job_df['State'] = job_df['State'].str.strip().replace({'Trentino-Alto Adige/Südtirol': np.nan})"
   ]
  },
  {
   "cell_type": "code",
   "execution_count": 52,
   "metadata": {
    "colab": {
     "base_uri": "https://localhost:8080/",
     "height": 565
    },
    "id": "Grafk2eq5YGO",
    "outputId": "854956cf-77e4-4e19-dc13-c80ea559dc60"
   },
   "outputs": [
    {
     "data": {
      "text/html": [
       "<div>\n",
       "<style scoped>\n",
       "    .dataframe tbody tr th:only-of-type {\n",
       "        vertical-align: middle;\n",
       "    }\n",
       "\n",
       "    .dataframe tbody tr th {\n",
       "        vertical-align: top;\n",
       "    }\n",
       "\n",
       "    .dataframe thead th {\n",
       "        text-align: right;\n",
       "    }\n",
       "</style>\n",
       "<table border=\"1\" class=\"dataframe\">\n",
       "  <thead>\n",
       "    <tr style=\"text-align: right;\">\n",
       "      <th></th>\n",
       "      <th>job_ID</th>\n",
       "      <th>job</th>\n",
       "      <th>location</th>\n",
       "      <th>company_id</th>\n",
       "      <th>company_name</th>\n",
       "      <th>work_type</th>\n",
       "      <th>full_time_remote</th>\n",
       "      <th>no_of_employ</th>\n",
       "      <th>no_of_application</th>\n",
       "      <th>posted_day_ago</th>\n",
       "      <th>Hiring_person</th>\n",
       "      <th>linkedin_followers</th>\n",
       "      <th>job_details</th>\n",
       "      <th>details_id</th>\n",
       "      <th>company_sector</th>\n",
       "      <th>Job_level</th>\n",
       "      <th>City</th>\n",
       "      <th>State</th>\n",
       "    </tr>\n",
       "  </thead>\n",
       "  <tbody>\n",
       "    <tr>\n",
       "      <th>0</th>\n",
       "      <td>3471657636</td>\n",
       "      <td>Data Analyst Trilogy (Remote) - $60000/year USD</td>\n",
       "      <td>Delhi, Delhi, India</td>\n",
       "      <td>524.0</td>\n",
       "      <td>Crossover</td>\n",
       "      <td>Remote</td>\n",
       "      <td>Full-time</td>\n",
       "      <td>1001-5000</td>\n",
       "      <td>200</td>\n",
       "      <td>480.0</td>\n",
       "      <td>Not Available</td>\n",
       "      <td>5.395547e+06</td>\n",
       "      <td>About the job Crossover is the world's #1 sour...</td>\n",
       "      <td>2697</td>\n",
       "      <td>IT Services and IT Consulting</td>\n",
       "      <td>Associate</td>\n",
       "      <td>Delhi</td>\n",
       "      <td>Delhi</td>\n",
       "    </tr>\n",
       "    <tr>\n",
       "      <th>1</th>\n",
       "      <td>3471669068</td>\n",
       "      <td>Data Analyst Trilogy (Remote) - $60000/year USD</td>\n",
       "      <td>New Delhi, Delhi, India</td>\n",
       "      <td>524.0</td>\n",
       "      <td>Crossover</td>\n",
       "      <td>Remote</td>\n",
       "      <td>Full-time</td>\n",
       "      <td>1001-5000</td>\n",
       "      <td>184</td>\n",
       "      <td>480.0</td>\n",
       "      <td>Not Available</td>\n",
       "      <td>5.395547e+06</td>\n",
       "      <td>About the job Crossover is the world's #1 sour...</td>\n",
       "      <td>2724</td>\n",
       "      <td>IT Services and IT Consulting</td>\n",
       "      <td>Associate</td>\n",
       "      <td>New Delhi</td>\n",
       "      <td>Delhi</td>\n",
       "    </tr>\n",
       "    <tr>\n",
       "      <th>2</th>\n",
       "      <td>3474349934</td>\n",
       "      <td>Data Analyst - WFH</td>\n",
       "      <td>Greater Bengaluru Area</td>\n",
       "      <td>2242.0</td>\n",
       "      <td>Uplers</td>\n",
       "      <td>Remote</td>\n",
       "      <td>Full-time</td>\n",
       "      <td>1001-5000</td>\n",
       "      <td>200</td>\n",
       "      <td>540.0</td>\n",
       "      <td>Shahid Ahmad</td>\n",
       "      <td>9.821152e+05</td>\n",
       "      <td>About the job Profile: ML EngineersExperience:...</td>\n",
       "      <td>3668</td>\n",
       "      <td>IT Services and IT Consulting</td>\n",
       "      <td>Mid-Senior level</td>\n",
       "      <td>Greater Bengaluru Area</td>\n",
       "      <td>Karnataka</td>\n",
       "    </tr>\n",
       "    <tr>\n",
       "      <th>3</th>\n",
       "      <td>3472816027</td>\n",
       "      <td>Data Analyst</td>\n",
       "      <td>Gurugram, Haryana, India</td>\n",
       "      <td>1553.0</td>\n",
       "      <td>PVAR SERVICES</td>\n",
       "      <td>On-site</td>\n",
       "      <td>Full-time</td>\n",
       "      <td>1-10</td>\n",
       "      <td>200</td>\n",
       "      <td>420.0</td>\n",
       "      <td>Vartika Singh</td>\n",
       "      <td>2.094000e+03</td>\n",
       "      <td>About the job Designation: Data AnalystLocatio...</td>\n",
       "      <td>3083</td>\n",
       "      <td>Not Avilable</td>\n",
       "      <td>Not Avilable</td>\n",
       "      <td>Gurugram</td>\n",
       "      <td>Haryana</td>\n",
       "    </tr>\n",
       "    <tr>\n",
       "      <th>4</th>\n",
       "      <td>3473311511</td>\n",
       "      <td>Data Analyst</td>\n",
       "      <td>Mohali district, Punjab, India</td>\n",
       "      <td>2147.0</td>\n",
       "      <td>Timeline Freight Brokers</td>\n",
       "      <td>On-site</td>\n",
       "      <td>Full-time</td>\n",
       "      <td>1-10</td>\n",
       "      <td>8</td>\n",
       "      <td>26.0</td>\n",
       "      <td>Manisha (Gisele Smith)</td>\n",
       "      <td>9.821152e+05</td>\n",
       "      <td>About the job The ideal candidate will use the...</td>\n",
       "      <td>3359</td>\n",
       "      <td>Not Avilable</td>\n",
       "      <td>Not Avilable</td>\n",
       "      <td>Mohali district</td>\n",
       "      <td>North West</td>\n",
       "    </tr>\n",
       "  </tbody>\n",
       "</table>\n",
       "</div>"
      ],
      "text/plain": [
       "       job_ID                                              job  \\\n",
       "0  3471657636  Data Analyst Trilogy (Remote) - $60000/year USD   \n",
       "1  3471669068  Data Analyst Trilogy (Remote) - $60000/year USD   \n",
       "2  3474349934                               Data Analyst - WFH   \n",
       "3  3472816027                                     Data Analyst   \n",
       "4  3473311511                                     Data Analyst   \n",
       "\n",
       "                         location  company_id              company_name  \\\n",
       "0             Delhi, Delhi, India       524.0                 Crossover   \n",
       "1         New Delhi, Delhi, India       524.0                 Crossover   \n",
       "2          Greater Bengaluru Area      2242.0                    Uplers   \n",
       "3        Gurugram, Haryana, India      1553.0             PVAR SERVICES   \n",
       "4  Mohali district, Punjab, India      2147.0  Timeline Freight Brokers   \n",
       "\n",
       "  work_type full_time_remote no_of_employ no_of_application  posted_day_ago  \\\n",
       "0    Remote       Full-time   1001-5000                 200           480.0   \n",
       "1    Remote       Full-time   1001-5000                 184           480.0   \n",
       "2    Remote       Full-time   1001-5000                 200           540.0   \n",
       "3   On-site        Full-time        1-10                200           420.0   \n",
       "4   On-site        Full-time        1-10                  8            26.0   \n",
       "\n",
       "            Hiring_person  linkedin_followers  \\\n",
       "0           Not Available        5.395547e+06   \n",
       "1           Not Available        5.395547e+06   \n",
       "2            Shahid Ahmad        9.821152e+05   \n",
       "3           Vartika Singh        2.094000e+03   \n",
       "4  Manisha (Gisele Smith)        9.821152e+05   \n",
       "\n",
       "                                         job_details  details_id  \\\n",
       "0  About the job Crossover is the world's #1 sour...        2697   \n",
       "1  About the job Crossover is the world's #1 sour...        2724   \n",
       "2  About the job Profile: ML EngineersExperience:...        3668   \n",
       "3  About the job Designation: Data AnalystLocatio...        3083   \n",
       "4  About the job The ideal candidate will use the...        3359   \n",
       "\n",
       "                   company_sector          Job_level                    City  \\\n",
       "0   IT Services and IT Consulting          Associate                   Delhi   \n",
       "1   IT Services and IT Consulting          Associate               New Delhi   \n",
       "2   IT Services and IT Consulting   Mid-Senior level  Greater Bengaluru Area   \n",
       "3                    Not Avilable       Not Avilable                Gurugram   \n",
       "4                    Not Avilable       Not Avilable         Mohali district   \n",
       "\n",
       "        State  \n",
       "0       Delhi  \n",
       "1       Delhi  \n",
       "2   Karnataka  \n",
       "3     Haryana  \n",
       "4  North West  "
      ]
     },
     "execution_count": 52,
     "metadata": {},
     "output_type": "execute_result"
    }
   ],
   "source": [
    "job_df.head()"
   ]
  },
  {
   "attachments": {},
   "cell_type": "markdown",
   "metadata": {},
   "source": [
    "There is nosise present in the job column into the brode category for example 'Analytics Manager','Security_Analyst_GRC' converted to 'Data Analyst'"
   ]
  },
  {
   "cell_type": "code",
   "execution_count": 53,
   "metadata": {
    "colab": {
     "base_uri": "https://localhost:8080/"
    },
    "id": "joRSyGCUnlSM",
    "outputId": "20bc47dc-7c2a-4a6f-e3ac-eb5d7cc261ed"
   },
   "outputs": [],
   "source": [
    "job_df.loc[job_df['job'].str.contains('data engineer|Data Enginer|Talend Developer|ETL Developer|Informatica Developer',case=False), 'job'] = 'Data Engineer'\n",
    "job_df.loc[job_df['job'].str.contains('data |Analytics Manager|Security_Analyst_GRC|Conversion Analyst|Analytics|Data Analytics|Data Analysis|Senior Analyst|Senior Research Analyst',case=False), 'job'] = 'Data Analyst'\n",
    "job_df.loc[job_df['job'].str.contains('business analyst|Strategy Analyst|Business Intelligence Analyst|Business System Analyst|Operations Analyst',case=False), 'job'] = 'Business Analyst'\n",
    "job_df.loc[job_df['job'].str.contains('database',case=False), 'job'] = 'Database Developer'\n",
    "job_df.loc[job_df['job'].str.contains('cloud',case=False), 'job'] = 'Cloud Engineer'\n",
    "job_df.loc[job_df['job'].str.contains('python',case=False), 'job'] = 'Python Developer'\n",
    "job_df.loc[job_df['job'].str.contains('angular',case=False), 'job'] = 'Angular Developer'\n",
    "job_df.loc[job_df['job'].str.contains('blockchain developer|Metaverse|blockchain',case=False), 'job'] = 'Blockchain Developer'\n",
    "job_df.loc[job_df['job'].str.contains('data science|Data Science|Senior Applied Scientist – Learning Analytics',case=False), 'job'] = 'Data Science'\n",
    "job_df.loc[job_df['job'].str.contains(r'\\bML\\b|machine learning',case=False), 'job']='Machine Learning Engineer'\n",
    "job_df.loc[job_df['job'].str.contains(r'\\bAI\\b|Artificial Intelligence Engineer',case=False), 'job']='AI Engineer'\n",
    "job_df.loc[job_df['job'].str.contains('sql',case=False), 'job']='SQL Developer'\n",
    "job_df.loc[job_df['job'].str.contains('bigdata|Big Data',case=False), 'job']='Bigdata Developer'\n",
    "job_df.loc[job_df['job'].str.contains('linux',case=False), 'job']='Linux Engineer'\n",
    "job_df.loc[job_df['job'].str.contains('java full stack',case=False), 'job']='Java Full Stack Develope'\n",
    "job_df.loc[job_df['job'].str.contains('java software engineer|AEM Developer|AEM-developer',case=False), 'job']='Java Software Engineer'\n",
    "job_df.loc[job_df['job'].str.contains('java',case=False), 'job']='Java Developer'\n",
    "job_df.loc[job_df['job'].str.contains('project manager|Product Manager',case=False), 'job']='Project Manager'\n",
    "job_df.loc[job_df['job'].str.contains('azure|devops|AWS Engineer|Build Engineer|GCP Engineer|DevSecOps',case=False), 'job']='DevOps Engineer'\n",
    "job_df.loc[job_df['job'].str.contains('PHP|Laravel Developer',case=False), 'job']='PHP Developer'\n",
    "job_df.loc[job_df['job'].str.contains('game',case=False), 'job']='Game Developer'\n",
    "job_df.loc[job_df['job'].str.contains(('android|mobile application'),case=False), 'job']='Mobile Application Developer'\n",
    "job_df.loc[job_df['job'].str.contains('automation tester|Automation',case=False), 'job']='Automation Tester'\n",
    "job_df.loc[job_df['job'].str.contains('quality analyst',case=False), 'job']='Quality Analyst'\n",
    "job_df.loc[job_df['job'].str.contains('ruby',case=False), 'job']=' Ruby on Rails Developer'\n",
    "job_df.loc[job_df['job'].str.contains('team lead',case=False), 'job']='Technical Team Lead'\n",
    "job_df.loc[job_df['job'].str.contains('.net',case=False), 'job']='.Net Developers'\n",
    "job_df.loc[(job_df['job'].str.contains('quality', case=False)) & ((job_df.job != 'Data Analyst') & (job_df.job != 'Business Analyst')), 'job'] = 'Quality Analyst'\n",
    "job_df.loc[job_df['job'].str.contains('reactjs|React|React.JS|Senior React Developer',case=False), 'job']='ReactJS Developer'\n",
    "job_df.loc[job_df['job'].str.contains('human resources|recruiter',case=False), 'job']='Human Resources Intern'\n",
    "job_df.loc[job_df['job'].str.contains('test automation',case=False), 'job']='Automation Tester'\n",
    "job_df.loc[job_df['job'].str.contains('salesforce',case=False), 'job']='Salesforce Developer'\n",
    "job_df.loc[job_df['job'].str.contains('business development|Senior Manager Analytics',case=False), 'job']='Business Development Manager'\n",
    "job_df.loc[job_df['job'].str.contains('lead developer',case=False), 'job']='Lead developer'\n",
    "job_df.loc[job_df['job'].str.contains('front-end',case=False), 'job']='Front-End Developer'\n",
    "job_df.loc[job_df['job'].str.contains('c\\+\\+',case=False), 'job']='C++ Developer'\n",
    "job_df.loc[job_df['job'].str.contains('wordpress',case=False), 'job']='Wordpress Developer'\n",
    "job_df.loc[job_df['job'].str.contains('software engineer|Algorithm Engineer|Snaplogic Developer|Visual Basic Developer|AS400|Virtusa is hiring for VAX/VMS|Urgent opening for Pega CDH - RTIM',case=False), 'job']='Software Engineer'\n",
    "job_df.loc[job_df['job'].str.contains(r'\\bc developer\\b',case=False), 'job']='C Developer'\n",
    "job_df.loc[job_df['job'].str.contains('full stack',case=False), 'job']='Full Stack Developer'\n",
    "job_df.loc[job_df['job'].str.contains('golang',case=False), 'job']='Golang Developer'\n",
    "job_df.loc[job_df['job'].str.contains('shopify',case=False), 'job']='Shopify Developer'\n",
    "job_df.loc[job_df['job'].str.contains('data scientist|Computer Vision|Data Science',case=False), 'job']='Data Scientist'\n",
    "job_df.loc[job_df['job'].str.contains('snowflake',case=False), 'job']='Snowflake Developer'\n",
    "job_df.loc[job_df['job'].str.contains('mainframe',case=False), 'job']='Mainframe Developer'\n",
    "job_df.loc[job_df['job'].str.contains(r'\\bSEO\\b|search engine|SEO Analyst|Google Analytics|eCommerce',case=False), 'job']='Search Engine Optimization'\n",
    "job_df.loc[job_df['job'].str.contains('unity',case=False), 'job']='Unity Developer'\n",
    "job_df.loc[job_df['job'].str.contains('ios|Apple App Developer',case=False), 'job']='iOS Developer'\n",
    "job_df.loc[job_df['job'].str.contains(r'\\bsales\\b|Telesales|Executive', case=False), 'job']='Sales Executive'\n",
    "job_df.loc[job_df['job'].str.contains(r'\\bBI\\b',case=False), 'job']='Power BI Developer'\n",
    "job_df.loc[job_df['job'].str.contains('customer|Voice Process',case=False), 'job']='Customer Service'\n",
    "job_df.loc[job_df['job'].str.contains('Scrum Master',case=False), 'job']='Scrum Master'\n",
    "job_df.loc[job_df['job'].str.contains('drupal',case=False), 'job']='Drupal Developer'\n",
    "job_df.loc[job_df['job'].str.contains('digital marketing',case=False), 'job']='Digital Marketing'\n",
    "job_df.loc[job_df['job'].str.contains('Back End Developer|Perl|MERN|Backend|Lead Back-end Developer|Mern stack|Mean Stack',case=False), 'job']='BackEnd Developer'\n",
    "job_df.loc[job_df['job'].str.contains('Relationship',case=False), 'job']='Relationship Manager'\n",
    "job_df.loc[job_df['job'].str.contains('node',case=False), 'job']='Node Js Developer'\n",
    "job_df.loc[job_df['job'].str.contains('Account|Experienced CA Fully qualified + Statutory Audit and Reporting with IFRS & GAAP (1-3Years) - Senior Analyst - Finance',case=False), 'job']='Accountant'\n",
    "job_df.loc[job_df['job'].str.contains('Web',case=False), 'job']='Web Developer'\n",
    "job_df.loc[job_df['job'].str.contains('Architect|Technical Lead',case=False), 'job']='Technology Architecture'\n",
    "job_df.loc[job_df['job'].str.contains('Frontend|Graphic Designer',case=False), 'job']='Frontend Developer'\n",
    "job_df.loc[job_df['job'].str.contains('Copywriter|Technical Editor',case=False), 'job']='Copywriter'\n",
    "job_df.loc[job_df['job'].str.contains('Tester|Test',case=False), 'job']='Software Testing'\n",
    "job_df.loc[job_df['job'].str.contains('Consultant',case=False), 'job']='Consultant'\n",
    "job_df.loc[job_df['job'].str.contains('SAP',case=False), 'job']='SAP Developer'\n",
    "job_df.loc[job_df['job'].str.contains('Vue',case=False), 'job']='Vue.js Developer'\n",
    "job_df.loc[job_df['job'].str.contains('Intern|Volunteers',case=False), 'job']='Internships'\n",
    "job_df.loc[job_df['job'].str.contains(r'\\bdata\\b', case=False) & ~job_df['job'].str.contains('data Analyst|data engineer|Data Scientist|Data Science', case=False), 'job']='Data Management'\n",
    "job_df.loc[job_df['job'].str.contains('Quantitative',case=False), 'job']='Quantitative Trader'\n",
    "job_df.loc[job_df['job'].str.contains('Finance|Senior Manager Risk Management|Pricing Manager|Tax Manager|Assistant Manager|Assistant Vice President',case=False), 'job']='Finance Manager'\n",
    "job_df.loc[job_df['job'].str.contains('Professor',case=False), 'job']='Professor'\n",
    "job_df.loc[job_df['job'].str.contains('Robotics',case=False), 'job']='Robotics'\n",
    "job_df.loc[job_df['job'].str.contains(r'\\bAnalyst\\b', case=False) & ~job_df['job'].str.contains('data Analyst|Business Analyst|Quality Analyst', case=False), 'job']='Analyst'\n",
    "job_df.loc[job_df['job'].str.contains('Teacher|Academic|Student|Educational Counselor|Onboarding Specialis|Academic Counsellor|Counsellor', case=False),'job']='Education and Counseling'\n",
    "job_df.loc[job_df['job'].str.contains('Oracle', case=False),'job']='Oracle Developer'\n",
    "job_df.loc[job_df['job'].str.contains('PowerApps|Power App', case=False),'job']='PowerApps Developer'\n",
    "job_df.loc[job_df['job'].str.contains(r'\\bC\\b', case=False),'job']='C Developer'\n",
    "job_df.loc[job_df['job'].str.contains(r'\\bMarketing\\b', case=False) & ~job_df['job'].str.contains('Digital Marketing', case=False), 'job']='Marketing'\n",
    "job_df.loc[job_df['job'].str.contains('Developer|Programmer', case=False) & ~job_df['job'].str.contains('Blockchain Developer|Salesforce Developer|ReactJS Developer|Net Developers|Ruby on Rails Developer|Mobile Application Developer|Game Developer|PHP Developer|Java Developer|Bigdata Developer|SQL Developer|Angular Developer|Python Developer|Database Developer|C Developer|PowerApps Developer|Oracle Developer|Vue.js Developer|SAP Developer|Frontend Developer|Web Developer|Node Js Developer|BackEnd Developer|Drupal Developer|Power BI Developer|iOS Developer|Unity Developer|Mainframe Developer|Snowflake Developer|Shopify Developer|Golang Developer|(Full Stack|C|Wordpress|C\\+\\+|Front-End|Lead) Developer', case=False), 'job']='Other Developer'\n",
    "job_df.loc[job_df['job'].str.contains('Support', case=False),'job']='Support Engineer'\n",
    "job_df.loc[job_df['job'].str.contains('System|IMS Engineer|Systems Engineer (BSW)|Solarwind Development Engineer|Site Reliability Engineer (SRE)|Platform Engineer|Infrastructure Engineer|UCC Engineer Documentation|Integration Engineer', case=False),'job']='System Engineer'\n",
    "job_df.loc[job_df['job'].str.contains('Engineer', case=False) & ~job_df['job'].str.contains('Software Engineer|DevOps Engineer|Java Software Engineer|Linux Engineer|AI Engineer|Machine Learning Engineer|Cloud Engineer|Data Engineer', case=False), 'job']='Other Engineering'\n",
    "job_df.loc[job_df['job'].str.contains('Manager|Leadership', case=False) & ~job_df['job'].str.contains('Business Development Manager|Finance Manager|Relationship Manager|Project Manager', case=False), 'job']='Managerial and Leadership Roles'\n",
    "job_df.loc[job_df['job'].str.contains(r'\\bLead\\b', case=False) & ~job_df['job'].str.contains('Lead developer', case=False), 'job']='Team Lead/ Project Lead'\n",
    "job_df.loc[job_df['job'].str.contains('Editor', case=False),'job']='Editor'\n",
    "job_df.loc[job_df['job'].str.contains('Associate', case=False),'job']='Associate'\n",
    "job_df.loc[job_df['job'].str.contains('Research', case=False),'job']='Researcher'\n",
    "job_df.loc[job_df['job'].str.contains('Financial', case=False),'job']='Financial Controller'\n",
    "job_df.loc[job_df['job'].str.contains('Head of', case=False),'job']='Head of Product'\n",
    "job_df.loc[job_df['job'].str.contains('Technical', case=False),'job']='Technical Trainer/Writer/Owner'\n",
    "job_df.loc[job_df['job'].str.contains('Storage', case=False),'job']=' Storage Administrator'"
   ]
  },
  {
   "attachments": {},
   "cell_type": "markdown",
   "metadata": {
    "id": "CamVMvIRid4T"
   },
   "source": [
    "**We convert all job titles into others for those individual titles has value_count() `1`**"
   ]
  },
  {
   "cell_type": "code",
   "execution_count": 54,
   "metadata": {
    "id": "Tc9lF8VGdU0E"
   },
   "outputs": [],
   "source": [
    "job_counts = job_df['job'].value_counts()\n",
    "unique_jobs = job_counts[job_counts == 1].index\n",
    "job_df.loc[job_df['job'].isin(unique_jobs), 'job'] = 'Other'"
   ]
  },
  {
   "attachments": {},
   "cell_type": "markdown",
   "metadata": {},
   "source": [
    "**After optimizing the job title there is 84 unique jobs are available**"
   ]
  },
  {
   "cell_type": "code",
   "execution_count": 55,
   "metadata": {
    "colab": {
     "base_uri": "https://localhost:8080/"
    },
    "id": "3_f0HjRBkNtF",
    "outputId": "b1389bae-084b-4e24-8dd9-3c82df703f70"
   },
   "outputs": [
    {
     "data": {
      "text/plain": [
       "84"
      ]
     },
     "execution_count": 55,
     "metadata": {},
     "output_type": "execute_result"
    }
   ],
   "source": [
    "job_df.job.nunique()"
   ]
  },
  {
   "cell_type": "code",
   "execution_count": 56,
   "metadata": {
    "colab": {
     "base_uri": "https://localhost:8080/",
     "height": 948
    },
    "id": "yAz4IIP-uRiW",
    "outputId": "47fee1fd-c8ae-4a5d-ab6e-853ba08e7aa1"
   },
   "outputs": [
    {
     "data": {
      "text/html": [
       "<div>\n",
       "<style scoped>\n",
       "    .dataframe tbody tr th:only-of-type {\n",
       "        vertical-align: middle;\n",
       "    }\n",
       "\n",
       "    .dataframe tbody tr th {\n",
       "        vertical-align: top;\n",
       "    }\n",
       "\n",
       "    .dataframe thead th {\n",
       "        text-align: right;\n",
       "    }\n",
       "</style>\n",
       "<table border=\"1\" class=\"dataframe\">\n",
       "  <thead>\n",
       "    <tr style=\"text-align: right;\">\n",
       "      <th></th>\n",
       "      <th>job_ID</th>\n",
       "      <th>job</th>\n",
       "      <th>location</th>\n",
       "      <th>company_id</th>\n",
       "      <th>company_name</th>\n",
       "      <th>work_type</th>\n",
       "      <th>full_time_remote</th>\n",
       "      <th>no_of_employ</th>\n",
       "      <th>no_of_application</th>\n",
       "      <th>posted_day_ago</th>\n",
       "      <th>Hiring_person</th>\n",
       "      <th>linkedin_followers</th>\n",
       "      <th>job_details</th>\n",
       "      <th>details_id</th>\n",
       "      <th>company_sector</th>\n",
       "      <th>Job_level</th>\n",
       "      <th>City</th>\n",
       "      <th>State</th>\n",
       "    </tr>\n",
       "  </thead>\n",
       "  <tbody>\n",
       "    <tr>\n",
       "      <th>751</th>\n",
       "      <td>3471885015</td>\n",
       "      <td>Other Developer</td>\n",
       "      <td>Gurugram, Haryana, India</td>\n",
       "      <td>2289.0</td>\n",
       "      <td>Ventures HRD Centre Private Limited</td>\n",
       "      <td>On-site</td>\n",
       "      <td>Full-time</td>\n",
       "      <td>51-200</td>\n",
       "      <td>7</td>\n",
       "      <td>900.0</td>\n",
       "      <td>Sumbul Khan</td>\n",
       "      <td>6.225000e+03</td>\n",
       "      <td>About the job We are hiring for Outsystems Dev...</td>\n",
       "      <td>2836</td>\n",
       "      <td>Not Avilable</td>\n",
       "      <td>Not Avilable</td>\n",
       "      <td>Gurugram</td>\n",
       "      <td>Haryana</td>\n",
       "    </tr>\n",
       "    <tr>\n",
       "      <th>5807</th>\n",
       "      <td>3464900778</td>\n",
       "      <td>BackEnd Developer</td>\n",
       "      <td>Noida, Uttar Pradesh, India</td>\n",
       "      <td>847.0</td>\n",
       "      <td>Genpact</td>\n",
       "      <td>Hybrid</td>\n",
       "      <td>Full-time</td>\n",
       "      <td>10001+</td>\n",
       "      <td>32</td>\n",
       "      <td>2880.0</td>\n",
       "      <td>Sunil Blowda</td>\n",
       "      <td>2.494257e+06</td>\n",
       "      <td>About the job Inviting applications for the ro...</td>\n",
       "      <td>835</td>\n",
       "      <td>IT Services and IT Consulting</td>\n",
       "      <td>Mid-Senior level</td>\n",
       "      <td>Noida</td>\n",
       "      <td>Uttar Pradesh</td>\n",
       "    </tr>\n",
       "    <tr>\n",
       "      <th>2633</th>\n",
       "      <td>3476293814</td>\n",
       "      <td>Software Testing</td>\n",
       "      <td>Lucknow, Uttar Pradesh, India</td>\n",
       "      <td>640.0</td>\n",
       "      <td>EPAM Anywhere</td>\n",
       "      <td>Remote</td>\n",
       "      <td>Full-time</td>\n",
       "      <td>1001-5000</td>\n",
       "      <td>hour</td>\n",
       "      <td>60.0</td>\n",
       "      <td>Aliaksandra Shauchuk</td>\n",
       "      <td>9.821152e+05</td>\n",
       "      <td>About the job We would be happy to consider yo...</td>\n",
       "      <td>4779</td>\n",
       "      <td>IT Services and IT Consulting</td>\n",
       "      <td>Mid-Senior level</td>\n",
       "      <td>Lucknow</td>\n",
       "      <td>Uttar Pradesh</td>\n",
       "    </tr>\n",
       "    <tr>\n",
       "      <th>5054</th>\n",
       "      <td>3471876427</td>\n",
       "      <td>Sales Executive</td>\n",
       "      <td>New Delhi, Delhi, India</td>\n",
       "      <td>2113.0</td>\n",
       "      <td>The CEO Magazine - India</td>\n",
       "      <td>On-site</td>\n",
       "      <td>Full-time</td>\n",
       "      <td>11-50</td>\n",
       "      <td>5</td>\n",
       "      <td>2880.0</td>\n",
       "      <td>Kunal Sharma</td>\n",
       "      <td>9.821152e+05</td>\n",
       "      <td>About the job looking for \"Sales Executive\" fo...</td>\n",
       "      <td>2799</td>\n",
       "      <td>Not Avilable</td>\n",
       "      <td>Not Avilable</td>\n",
       "      <td>New Delhi</td>\n",
       "      <td>Delhi</td>\n",
       "    </tr>\n",
       "    <tr>\n",
       "      <th>4347</th>\n",
       "      <td>3476290741</td>\n",
       "      <td>Software Testing</td>\n",
       "      <td>Lucknow, Uttar Pradesh, India</td>\n",
       "      <td>640.0</td>\n",
       "      <td>EPAM Anywhere</td>\n",
       "      <td>Remote</td>\n",
       "      <td>Full-time</td>\n",
       "      <td>1001-5000</td>\n",
       "      <td>hours</td>\n",
       "      <td>660.0</td>\n",
       "      <td>Anastasiya Volkova</td>\n",
       "      <td>4.503950e+05</td>\n",
       "      <td>About the job We would be happy to consider yo...</td>\n",
       "      <td>4522</td>\n",
       "      <td>IT Services and IT Consulting</td>\n",
       "      <td>Mid-Senior level</td>\n",
       "      <td>Lucknow</td>\n",
       "      <td>Uttar Pradesh</td>\n",
       "    </tr>\n",
       "  </tbody>\n",
       "</table>\n",
       "</div>"
      ],
      "text/plain": [
       "          job_ID                job                       location  \\\n",
       "751   3471885015    Other Developer       Gurugram, Haryana, India   \n",
       "5807  3464900778  BackEnd Developer    Noida, Uttar Pradesh, India   \n",
       "2633  3476293814   Software Testing  Lucknow, Uttar Pradesh, India   \n",
       "5054  3471876427    Sales Executive        New Delhi, Delhi, India   \n",
       "4347  3476290741   Software Testing  Lucknow, Uttar Pradesh, India   \n",
       "\n",
       "      company_id                         company_name work_type  \\\n",
       "751       2289.0  Ventures HRD Centre Private Limited   On-site   \n",
       "5807       847.0                              Genpact    Hybrid   \n",
       "2633       640.0                        EPAM Anywhere    Remote   \n",
       "5054      2113.0             The CEO Magazine - India   On-site   \n",
       "4347       640.0                        EPAM Anywhere    Remote   \n",
       "\n",
       "     full_time_remote no_of_employ no_of_application  posted_day_ago  \\\n",
       "751         Full-time      51-200                  7           900.0   \n",
       "5807       Full-time      10001+                  32          2880.0   \n",
       "2633       Full-time   1001-5000                hour            60.0   \n",
       "5054        Full-time       11-50                  5          2880.0   \n",
       "4347       Full-time   1001-5000               hours           660.0   \n",
       "\n",
       "             Hiring_person  linkedin_followers  \\\n",
       "751            Sumbul Khan        6.225000e+03   \n",
       "5807          Sunil Blowda        2.494257e+06   \n",
       "2633  Aliaksandra Shauchuk        9.821152e+05   \n",
       "5054          Kunal Sharma        9.821152e+05   \n",
       "4347    Anastasiya Volkova        4.503950e+05   \n",
       "\n",
       "                                            job_details  details_id  \\\n",
       "751   About the job We are hiring for Outsystems Dev...        2836   \n",
       "5807  About the job Inviting applications for the ro...         835   \n",
       "2633  About the job We would be happy to consider yo...        4779   \n",
       "5054  About the job looking for \"Sales Executive\" fo...        2799   \n",
       "4347  About the job We would be happy to consider yo...        4522   \n",
       "\n",
       "                      company_sector          Job_level       City  \\\n",
       "751                     Not Avilable       Not Avilable   Gurugram   \n",
       "5807   IT Services and IT Consulting   Mid-Senior level      Noida   \n",
       "2633   IT Services and IT Consulting   Mid-Senior level    Lucknow   \n",
       "5054                    Not Avilable       Not Avilable  New Delhi   \n",
       "4347   IT Services and IT Consulting   Mid-Senior level    Lucknow   \n",
       "\n",
       "              State  \n",
       "751         Haryana  \n",
       "5807  Uttar Pradesh  \n",
       "2633  Uttar Pradesh  \n",
       "5054          Delhi  \n",
       "4347  Uttar Pradesh  "
      ]
     },
     "execution_count": 56,
     "metadata": {},
     "output_type": "execute_result"
    }
   ],
   "source": [
    "job_df.sample(n=5)"
   ]
  },
  {
   "cell_type": "code",
   "execution_count": 57,
   "metadata": {
    "colab": {
     "base_uri": "https://localhost:8080/"
    },
    "id": "qNhqOPstpx5O",
    "outputId": "5c9dbac7-ec86-475f-c019-3ee3895fe4a6"
   },
   "outputs": [
    {
     "data": {
      "text/plain": [
       "Data Analyst              725\n",
       "Java Developer            669\n",
       "Software Testing          409\n",
       "Other Developer           395\n",
       "Business Analyst          231\n",
       "                         ... \n",
       "Content Writer              3\n",
       "Financial Controller        3\n",
       "Salesperson                 3\n",
       "Collections Specialist      2\n",
       " Storage Administrator      2\n",
       "Name: job, Length: 84, dtype: int64"
      ]
     },
     "execution_count": 57,
     "metadata": {},
     "output_type": "execute_result"
    }
   ],
   "source": [
    "job_df.job.value_counts()"
   ]
  },
  {
   "attachments": {},
   "cell_type": "markdown",
   "metadata": {},
   "source": [
    "#### removing the '+' symbol from the `no_of_employ` column"
   ]
  },
  {
   "cell_type": "code",
   "execution_count": 58,
   "metadata": {},
   "outputs": [],
   "source": [
    "job_df['no_of_employ']=job_df['no_of_employ'].str.replace('+','',regex=True)"
   ]
  },
  {
   "cell_type": "code",
   "execution_count": 59,
   "metadata": {},
   "outputs": [
    {
     "data": {
      "text/html": [
       "<div>\n",
       "<style scoped>\n",
       "    .dataframe tbody tr th:only-of-type {\n",
       "        vertical-align: middle;\n",
       "    }\n",
       "\n",
       "    .dataframe tbody tr th {\n",
       "        vertical-align: top;\n",
       "    }\n",
       "\n",
       "    .dataframe thead th {\n",
       "        text-align: right;\n",
       "    }\n",
       "</style>\n",
       "<table border=\"1\" class=\"dataframe\">\n",
       "  <thead>\n",
       "    <tr style=\"text-align: right;\">\n",
       "      <th></th>\n",
       "      <th>job_ID</th>\n",
       "      <th>job</th>\n",
       "      <th>location</th>\n",
       "      <th>company_id</th>\n",
       "      <th>company_name</th>\n",
       "      <th>work_type</th>\n",
       "      <th>full_time_remote</th>\n",
       "      <th>no_of_employ</th>\n",
       "      <th>no_of_application</th>\n",
       "      <th>posted_day_ago</th>\n",
       "      <th>Hiring_person</th>\n",
       "      <th>linkedin_followers</th>\n",
       "      <th>job_details</th>\n",
       "      <th>details_id</th>\n",
       "      <th>company_sector</th>\n",
       "      <th>Job_level</th>\n",
       "      <th>City</th>\n",
       "      <th>State</th>\n",
       "    </tr>\n",
       "  </thead>\n",
       "  <tbody>\n",
       "    <tr>\n",
       "      <th>0</th>\n",
       "      <td>3471657636</td>\n",
       "      <td>Data Analyst</td>\n",
       "      <td>Delhi, Delhi, India</td>\n",
       "      <td>524.0</td>\n",
       "      <td>Crossover</td>\n",
       "      <td>Remote</td>\n",
       "      <td>Full-time</td>\n",
       "      <td>1001-5000</td>\n",
       "      <td>200</td>\n",
       "      <td>480.0</td>\n",
       "      <td>Not Available</td>\n",
       "      <td>5.395547e+06</td>\n",
       "      <td>About the job Crossover is the world's #1 sour...</td>\n",
       "      <td>2697</td>\n",
       "      <td>IT Services and IT Consulting</td>\n",
       "      <td>Associate</td>\n",
       "      <td>Delhi</td>\n",
       "      <td>Delhi</td>\n",
       "    </tr>\n",
       "    <tr>\n",
       "      <th>1</th>\n",
       "      <td>3471669068</td>\n",
       "      <td>Data Analyst</td>\n",
       "      <td>New Delhi, Delhi, India</td>\n",
       "      <td>524.0</td>\n",
       "      <td>Crossover</td>\n",
       "      <td>Remote</td>\n",
       "      <td>Full-time</td>\n",
       "      <td>1001-5000</td>\n",
       "      <td>184</td>\n",
       "      <td>480.0</td>\n",
       "      <td>Not Available</td>\n",
       "      <td>5.395547e+06</td>\n",
       "      <td>About the job Crossover is the world's #1 sour...</td>\n",
       "      <td>2724</td>\n",
       "      <td>IT Services and IT Consulting</td>\n",
       "      <td>Associate</td>\n",
       "      <td>New Delhi</td>\n",
       "      <td>Delhi</td>\n",
       "    </tr>\n",
       "    <tr>\n",
       "      <th>2</th>\n",
       "      <td>3474349934</td>\n",
       "      <td>Data Analyst</td>\n",
       "      <td>Greater Bengaluru Area</td>\n",
       "      <td>2242.0</td>\n",
       "      <td>Uplers</td>\n",
       "      <td>Remote</td>\n",
       "      <td>Full-time</td>\n",
       "      <td>1001-5000</td>\n",
       "      <td>200</td>\n",
       "      <td>540.0</td>\n",
       "      <td>Shahid Ahmad</td>\n",
       "      <td>9.821152e+05</td>\n",
       "      <td>About the job Profile: ML EngineersExperience:...</td>\n",
       "      <td>3668</td>\n",
       "      <td>IT Services and IT Consulting</td>\n",
       "      <td>Mid-Senior level</td>\n",
       "      <td>Greater Bengaluru Area</td>\n",
       "      <td>Karnataka</td>\n",
       "    </tr>\n",
       "    <tr>\n",
       "      <th>3</th>\n",
       "      <td>3472816027</td>\n",
       "      <td>Data Analyst</td>\n",
       "      <td>Gurugram, Haryana, India</td>\n",
       "      <td>1553.0</td>\n",
       "      <td>PVAR SERVICES</td>\n",
       "      <td>On-site</td>\n",
       "      <td>Full-time</td>\n",
       "      <td>1-10</td>\n",
       "      <td>200</td>\n",
       "      <td>420.0</td>\n",
       "      <td>Vartika Singh</td>\n",
       "      <td>2.094000e+03</td>\n",
       "      <td>About the job Designation: Data AnalystLocatio...</td>\n",
       "      <td>3083</td>\n",
       "      <td>Not Avilable</td>\n",
       "      <td>Not Avilable</td>\n",
       "      <td>Gurugram</td>\n",
       "      <td>Haryana</td>\n",
       "    </tr>\n",
       "    <tr>\n",
       "      <th>4</th>\n",
       "      <td>3473311511</td>\n",
       "      <td>Data Analyst</td>\n",
       "      <td>Mohali district, Punjab, India</td>\n",
       "      <td>2147.0</td>\n",
       "      <td>Timeline Freight Brokers</td>\n",
       "      <td>On-site</td>\n",
       "      <td>Full-time</td>\n",
       "      <td>1-10</td>\n",
       "      <td>8</td>\n",
       "      <td>26.0</td>\n",
       "      <td>Manisha (Gisele Smith)</td>\n",
       "      <td>9.821152e+05</td>\n",
       "      <td>About the job The ideal candidate will use the...</td>\n",
       "      <td>3359</td>\n",
       "      <td>Not Avilable</td>\n",
       "      <td>Not Avilable</td>\n",
       "      <td>Mohali district</td>\n",
       "      <td>North West</td>\n",
       "    </tr>\n",
       "  </tbody>\n",
       "</table>\n",
       "</div>"
      ],
      "text/plain": [
       "       job_ID           job                        location  company_id  \\\n",
       "0  3471657636  Data Analyst             Delhi, Delhi, India       524.0   \n",
       "1  3471669068  Data Analyst         New Delhi, Delhi, India       524.0   \n",
       "2  3474349934  Data Analyst          Greater Bengaluru Area      2242.0   \n",
       "3  3472816027  Data Analyst        Gurugram, Haryana, India      1553.0   \n",
       "4  3473311511  Data Analyst  Mohali district, Punjab, India      2147.0   \n",
       "\n",
       "               company_name work_type full_time_remote no_of_employ  \\\n",
       "0                 Crossover    Remote       Full-time   1001-5000     \n",
       "1                 Crossover    Remote       Full-time   1001-5000     \n",
       "2                    Uplers    Remote       Full-time   1001-5000     \n",
       "3             PVAR SERVICES   On-site        Full-time        1-10    \n",
       "4  Timeline Freight Brokers   On-site        Full-time        1-10    \n",
       "\n",
       "  no_of_application  posted_day_ago           Hiring_person  \\\n",
       "0               200           480.0           Not Available   \n",
       "1               184           480.0           Not Available   \n",
       "2               200           540.0            Shahid Ahmad   \n",
       "3               200           420.0           Vartika Singh   \n",
       "4                 8            26.0  Manisha (Gisele Smith)   \n",
       "\n",
       "   linkedin_followers                                        job_details  \\\n",
       "0        5.395547e+06  About the job Crossover is the world's #1 sour...   \n",
       "1        5.395547e+06  About the job Crossover is the world's #1 sour...   \n",
       "2        9.821152e+05  About the job Profile: ML EngineersExperience:...   \n",
       "3        2.094000e+03  About the job Designation: Data AnalystLocatio...   \n",
       "4        9.821152e+05  About the job The ideal candidate will use the...   \n",
       "\n",
       "   details_id                  company_sector          Job_level  \\\n",
       "0        2697   IT Services and IT Consulting          Associate   \n",
       "1        2724   IT Services and IT Consulting          Associate   \n",
       "2        3668   IT Services and IT Consulting   Mid-Senior level   \n",
       "3        3083                    Not Avilable       Not Avilable   \n",
       "4        3359                    Not Avilable       Not Avilable   \n",
       "\n",
       "                     City       State  \n",
       "0                   Delhi       Delhi  \n",
       "1               New Delhi       Delhi  \n",
       "2  Greater Bengaluru Area   Karnataka  \n",
       "3                Gurugram     Haryana  \n",
       "4         Mohali district  North West  "
      ]
     },
     "execution_count": 59,
     "metadata": {},
     "output_type": "execute_result"
    }
   ],
   "source": [
    "job_df.head()"
   ]
  },
  {
   "attachments": {},
   "cell_type": "markdown",
   "metadata": {},
   "source": [
    "#### Assigning lower side to  `no_of_employ` and convert it into int data type"
   ]
  },
  {
   "cell_type": "code",
   "execution_count": 60,
   "metadata": {},
   "outputs": [],
   "source": [
    "job_df['no_of_employ']=job_df['no_of_employ'].str.split('-').str[0]\n",
    "job_df['no_of_employ']=job_df['no_of_employ'].astype(int)"
   ]
  },
  {
   "cell_type": "code",
   "execution_count": 61,
   "metadata": {},
   "outputs": [],
   "source": [
    "job_df.rename(columns={\"job\": \"designation\",'company_name':'name','company_sector':'industry','no_of_employ':'employees_count','full_time_remote':'involvement','Job_level':'level','no_of_application':'total_applicants'}, inplace=True)"
   ]
  },
  {
   "attachments": {},
   "cell_type": "markdown",
   "metadata": {},
   "source": [
    "**Removing extra space**"
   ]
  },
  {
   "cell_type": "code",
   "execution_count": 62,
   "metadata": {},
   "outputs": [],
   "source": [
    "job_df.involvement=job_df.involvement.replace({' ':'','11-50':np.nan,'1-10':np.nan},regex=True)"
   ]
  },
  {
   "cell_type": "code",
   "execution_count": 63,
   "metadata": {},
   "outputs": [
    {
     "data": {
      "text/plain": [
       "array(['Full-time', 'Contract', 'Internship', 'Part-time', 'Temporary',\n",
       "       nan, 'Associate', 'Volunteer'], dtype=object)"
      ]
     },
     "execution_count": 63,
     "metadata": {},
     "output_type": "execute_result"
    }
   ],
   "source": [
    "job_df.involvement.unique()"
   ]
  },
  {
   "cell_type": "code",
   "execution_count": 64,
   "metadata": {},
   "outputs": [
    {
     "data": {
      "text/plain": [
       "job_ID                  0\n",
       "designation             0\n",
       "location                0\n",
       "company_id              0\n",
       "name                    0\n",
       "work_type               0\n",
       "involvement             3\n",
       "employees_count         0\n",
       "total_applicants        0\n",
       "posted_day_ago          0\n",
       "Hiring_person           0\n",
       "linkedin_followers      0\n",
       "job_details             0\n",
       "details_id              0\n",
       "industry                0\n",
       "level                   0\n",
       "City                  580\n",
       "State                 538\n",
       "dtype: int64"
      ]
     },
     "execution_count": 64,
     "metadata": {},
     "output_type": "execute_result"
    }
   ],
   "source": [
    "job_df.isnull().sum()"
   ]
  },
  {
   "attachments": {},
   "cell_type": "markdown",
   "metadata": {},
   "source": [
    "**Null percentage of the DataFrame Columns**"
   ]
  },
  {
   "cell_type": "code",
   "execution_count": 65,
   "metadata": {},
   "outputs": [
    {
     "data": {
      "text/plain": [
       "involvement     0.05\n",
       "City           10.37\n",
       "State           9.62\n",
       "dtype: float64"
      ]
     },
     "execution_count": 65,
     "metadata": {},
     "output_type": "execute_result"
    }
   ],
   "source": [
    "round(job_df.isnull().sum()/job_df.shape[0]*100,2)[round(job_df.isnull().sum()/job_df.shape[0]*100,2)>0]"
   ]
  },
  {
   "attachments": {},
   "cell_type": "markdown",
   "metadata": {},
   "source": [
    "**Cheaking most for frequant value for each state.**"
   ]
  },
  {
   "attachments": {},
   "cell_type": "markdown",
   "metadata": {},
   "source": [
    "In the sate column there is 3 wrong States are there.`Apac`,`Auvergne-Rhône-Alpes`,`রংপুর বিভাগ`\n",
    "- In the sate colomn `Auvergne-Rhône-Alpes` is there insted of Gujarat"
   ]
  },
  {
   "cell_type": "code",
   "execution_count": 66,
   "metadata": {
    "scrolled": true
   },
   "outputs": [],
   "source": [
    "a=job_df.groupby('State')[['City']].agg(pd.Series.mode).reset_index()\n",
    "b = dict(zip(a['State'], a['City']))"
   ]
  },
  {
   "cell_type": "code",
   "execution_count": 67,
   "metadata": {
    "scrolled": false
   },
   "outputs": [
    {
     "data": {
      "text/html": [
       "<div>\n",
       "<style scoped>\n",
       "    .dataframe tbody tr th:only-of-type {\n",
       "        vertical-align: middle;\n",
       "    }\n",
       "\n",
       "    .dataframe tbody tr th {\n",
       "        vertical-align: top;\n",
       "    }\n",
       "\n",
       "    .dataframe thead th {\n",
       "        text-align: right;\n",
       "    }\n",
       "</style>\n",
       "<table border=\"1\" class=\"dataframe\">\n",
       "  <thead>\n",
       "    <tr style=\"text-align: right;\">\n",
       "      <th></th>\n",
       "      <th>State</th>\n",
       "      <th>City</th>\n",
       "    </tr>\n",
       "  </thead>\n",
       "  <tbody>\n",
       "    <tr>\n",
       "      <th>131</th>\n",
       "      <td>Auvergne-Rhône-Alpes</td>\n",
       "      <td>Surat</td>\n",
       "    </tr>\n",
       "    <tr>\n",
       "      <th>1219</th>\n",
       "      <td>Auvergne-Rhône-Alpes</td>\n",
       "      <td>Surat</td>\n",
       "    </tr>\n",
       "    <tr>\n",
       "      <th>1618</th>\n",
       "      <td>Auvergne-Rhône-Alpes</td>\n",
       "      <td>Surat</td>\n",
       "    </tr>\n",
       "    <tr>\n",
       "      <th>1688</th>\n",
       "      <td>Auvergne-Rhône-Alpes</td>\n",
       "      <td>Surat</td>\n",
       "    </tr>\n",
       "    <tr>\n",
       "      <th>2213</th>\n",
       "      <td>Auvergne-Rhône-Alpes</td>\n",
       "      <td>Surat</td>\n",
       "    </tr>\n",
       "  </tbody>\n",
       "</table>\n",
       "</div>"
      ],
      "text/plain": [
       "                     State   City\n",
       "131   Auvergne-Rhône-Alpes  Surat\n",
       "1219  Auvergne-Rhône-Alpes  Surat\n",
       "1618  Auvergne-Rhône-Alpes  Surat\n",
       "1688  Auvergne-Rhône-Alpes  Surat\n",
       "2213  Auvergne-Rhône-Alpes  Surat"
      ]
     },
     "execution_count": 67,
     "metadata": {},
     "output_type": "execute_result"
    }
   ],
   "source": [
    "job_df[['State','City']][job_df.State=='Auvergne-Rhône-Alpes'].head()"
   ]
  },
  {
   "attachments": {},
   "cell_type": "markdown",
   "metadata": {},
   "source": [
    "**Replacing the `Auvergne-Rhône-Alpes` with `Gujarat`**"
   ]
  },
  {
   "cell_type": "code",
   "execution_count": 68,
   "metadata": {},
   "outputs": [],
   "source": [
    "job_df.State=job_df.State.str.replace('Auvergne-Rhône-Alpes','Gujarat')"
   ]
  },
  {
   "attachments": {},
   "cell_type": "markdown",
   "metadata": {},
   "source": [
    "- checking how mamy rows are there in which`['Apac', 'রংপুর বিভাগ']` are in state column\n",
    "    - there are very less rows are there with the above condition.\n",
    "    - So removed them from the dataframe"
   ]
  },
  {
   "cell_type": "code",
   "execution_count": 69,
   "metadata": {},
   "outputs": [
    {
     "data": {
      "text/html": [
       "<div>\n",
       "<style scoped>\n",
       "    .dataframe tbody tr th:only-of-type {\n",
       "        vertical-align: middle;\n",
       "    }\n",
       "\n",
       "    .dataframe tbody tr th {\n",
       "        vertical-align: top;\n",
       "    }\n",
       "\n",
       "    .dataframe thead th {\n",
       "        text-align: right;\n",
       "    }\n",
       "</style>\n",
       "<table border=\"1\" class=\"dataframe\">\n",
       "  <thead>\n",
       "    <tr style=\"text-align: right;\">\n",
       "      <th></th>\n",
       "      <th>State</th>\n",
       "      <th>City</th>\n",
       "    </tr>\n",
       "  </thead>\n",
       "  <tbody>\n",
       "    <tr>\n",
       "      <th>906</th>\n",
       "      <td>Apac</td>\n",
       "      <td>APAC</td>\n",
       "    </tr>\n",
       "    <tr>\n",
       "      <th>1893</th>\n",
       "      <td>Apac</td>\n",
       "      <td>APAC</td>\n",
       "    </tr>\n",
       "    <tr>\n",
       "      <th>3826</th>\n",
       "      <td>রংপুর বিভাগ</td>\n",
       "      <td>Rajarhat</td>\n",
       "    </tr>\n",
       "    <tr>\n",
       "      <th>4766</th>\n",
       "      <td>Apac</td>\n",
       "      <td>APAC</td>\n",
       "    </tr>\n",
       "  </tbody>\n",
       "</table>\n",
       "</div>"
      ],
      "text/plain": [
       "            State      City\n",
       "906          Apac      APAC\n",
       "1893         Apac      APAC\n",
       "3826  রংপুর বিভাগ  Rajarhat\n",
       "4766         Apac      APAC"
      ]
     },
     "execution_count": 69,
     "metadata": {},
     "output_type": "execute_result"
    }
   ],
   "source": [
    "job_df[['State','City']][job_df['State'].isin(['Apac', 'রংপুর বিভাগ'])]"
   ]
  },
  {
   "cell_type": "code",
   "execution_count": 70,
   "metadata": {
    "scrolled": false
   },
   "outputs": [],
   "source": [
    "job_df=job_df[~job_df['State'].isin(['Apac', 'রংপুর বিভাগ'])]"
   ]
  },
  {
   "attachments": {},
   "cell_type": "markdown",
   "metadata": {},
   "source": [
    "- Removing the NAN value from involvement column\n",
    "- Replacing NAN Values from `State` and `City` columns with Mode"
   ]
  },
  {
   "cell_type": "code",
   "execution_count": 71,
   "metadata": {},
   "outputs": [],
   "source": [
    "job_df.dropna(subset='involvement',inplace=True)"
   ]
  },
  {
   "cell_type": "code",
   "execution_count": 72,
   "metadata": {},
   "outputs": [],
   "source": [
    "job_df.State.fillna(job_df.State.mode()[0],inplace=True)"
   ]
  },
  {
   "attachments": {},
   "cell_type": "markdown",
   "metadata": {},
   "source": [
    "- Creating the funtion for replacing the null values for the city column"
   ]
  },
  {
   "cell_type": "code",
   "execution_count": 73,
   "metadata": {},
   "outputs": [],
   "source": [
    "def fillnull_city(a):\n",
    "    if type(a)==str:\n",
    "        return str(b[a])\n",
    "    else:\n",
    "        return 'NAN'"
   ]
  },
  {
   "cell_type": "code",
   "execution_count": 74,
   "metadata": {},
   "outputs": [
    {
     "name": "stderr",
     "output_type": "stream",
     "text": [
      "C:\\Users\\Shashank\\AppData\\Local\\Temp\\ipykernel_20600\\1035151801.py:1: SettingWithCopyWarning: \n",
      "A value is trying to be set on a copy of a slice from a DataFrame\n",
      "\n",
      "See the caveats in the documentation: https://pandas.pydata.org/pandas-docs/stable/user_guide/indexing.html#returning-a-view-versus-a-copy\n",
      "  job_df['City'][job_df.City.isnull()]=job_df['State'][job_df.City.isnull()].apply(fillnull_city)\n"
     ]
    }
   ],
   "source": [
    "job_df['City'][job_df.City.isnull()]=job_df['State'][job_df.City.isnull()].apply(fillnull_city)"
   ]
  },
  {
   "cell_type": "code",
   "execution_count": 75,
   "metadata": {},
   "outputs": [
    {
     "data": {
      "text/plain": [
       "0"
      ]
     },
     "execution_count": 75,
     "metadata": {},
     "output_type": "execute_result"
    }
   ],
   "source": [
    "job_df.City.isnull().sum()"
   ]
  },
  {
   "cell_type": "code",
   "execution_count": 76,
   "metadata": {},
   "outputs": [
    {
     "data": {
      "text/html": [
       "<div>\n",
       "<style scoped>\n",
       "    .dataframe tbody tr th:only-of-type {\n",
       "        vertical-align: middle;\n",
       "    }\n",
       "\n",
       "    .dataframe tbody tr th {\n",
       "        vertical-align: top;\n",
       "    }\n",
       "\n",
       "    .dataframe thead th {\n",
       "        text-align: right;\n",
       "    }\n",
       "</style>\n",
       "<table border=\"1\" class=\"dataframe\">\n",
       "  <thead>\n",
       "    <tr style=\"text-align: right;\">\n",
       "      <th></th>\n",
       "      <th>job_ID</th>\n",
       "      <th>designation</th>\n",
       "      <th>location</th>\n",
       "      <th>company_id</th>\n",
       "      <th>name</th>\n",
       "      <th>work_type</th>\n",
       "      <th>involvement</th>\n",
       "      <th>employees_count</th>\n",
       "      <th>total_applicants</th>\n",
       "      <th>posted_day_ago</th>\n",
       "      <th>Hiring_person</th>\n",
       "      <th>linkedin_followers</th>\n",
       "      <th>job_details</th>\n",
       "      <th>details_id</th>\n",
       "      <th>industry</th>\n",
       "      <th>level</th>\n",
       "      <th>City</th>\n",
       "      <th>State</th>\n",
       "    </tr>\n",
       "  </thead>\n",
       "  <tbody>\n",
       "    <tr>\n",
       "      <th>0</th>\n",
       "      <td>3471657636</td>\n",
       "      <td>Data Analyst</td>\n",
       "      <td>Delhi, Delhi, India</td>\n",
       "      <td>524.0</td>\n",
       "      <td>Crossover</td>\n",
       "      <td>Remote</td>\n",
       "      <td>Full-time</td>\n",
       "      <td>1001</td>\n",
       "      <td>200</td>\n",
       "      <td>480.0</td>\n",
       "      <td>Not Available</td>\n",
       "      <td>5.395547e+06</td>\n",
       "      <td>About the job Crossover is the world's #1 sour...</td>\n",
       "      <td>2697</td>\n",
       "      <td>IT Services and IT Consulting</td>\n",
       "      <td>Associate</td>\n",
       "      <td>Delhi</td>\n",
       "      <td>Delhi</td>\n",
       "    </tr>\n",
       "    <tr>\n",
       "      <th>1</th>\n",
       "      <td>3471669068</td>\n",
       "      <td>Data Analyst</td>\n",
       "      <td>New Delhi, Delhi, India</td>\n",
       "      <td>524.0</td>\n",
       "      <td>Crossover</td>\n",
       "      <td>Remote</td>\n",
       "      <td>Full-time</td>\n",
       "      <td>1001</td>\n",
       "      <td>184</td>\n",
       "      <td>480.0</td>\n",
       "      <td>Not Available</td>\n",
       "      <td>5.395547e+06</td>\n",
       "      <td>About the job Crossover is the world's #1 sour...</td>\n",
       "      <td>2724</td>\n",
       "      <td>IT Services and IT Consulting</td>\n",
       "      <td>Associate</td>\n",
       "      <td>New Delhi</td>\n",
       "      <td>Delhi</td>\n",
       "    </tr>\n",
       "    <tr>\n",
       "      <th>2</th>\n",
       "      <td>3474349934</td>\n",
       "      <td>Data Analyst</td>\n",
       "      <td>Greater Bengaluru Area</td>\n",
       "      <td>2242.0</td>\n",
       "      <td>Uplers</td>\n",
       "      <td>Remote</td>\n",
       "      <td>Full-time</td>\n",
       "      <td>1001</td>\n",
       "      <td>200</td>\n",
       "      <td>540.0</td>\n",
       "      <td>Shahid Ahmad</td>\n",
       "      <td>9.821152e+05</td>\n",
       "      <td>About the job Profile: ML EngineersExperience:...</td>\n",
       "      <td>3668</td>\n",
       "      <td>IT Services and IT Consulting</td>\n",
       "      <td>Mid-Senior level</td>\n",
       "      <td>Greater Bengaluru Area</td>\n",
       "      <td>Karnataka</td>\n",
       "    </tr>\n",
       "    <tr>\n",
       "      <th>3</th>\n",
       "      <td>3472816027</td>\n",
       "      <td>Data Analyst</td>\n",
       "      <td>Gurugram, Haryana, India</td>\n",
       "      <td>1553.0</td>\n",
       "      <td>PVAR SERVICES</td>\n",
       "      <td>On-site</td>\n",
       "      <td>Full-time</td>\n",
       "      <td>1</td>\n",
       "      <td>200</td>\n",
       "      <td>420.0</td>\n",
       "      <td>Vartika Singh</td>\n",
       "      <td>2.094000e+03</td>\n",
       "      <td>About the job Designation: Data AnalystLocatio...</td>\n",
       "      <td>3083</td>\n",
       "      <td>Not Avilable</td>\n",
       "      <td>Not Avilable</td>\n",
       "      <td>Gurugram</td>\n",
       "      <td>Haryana</td>\n",
       "    </tr>\n",
       "    <tr>\n",
       "      <th>4</th>\n",
       "      <td>3473311511</td>\n",
       "      <td>Data Analyst</td>\n",
       "      <td>Mohali district, Punjab, India</td>\n",
       "      <td>2147.0</td>\n",
       "      <td>Timeline Freight Brokers</td>\n",
       "      <td>On-site</td>\n",
       "      <td>Full-time</td>\n",
       "      <td>1</td>\n",
       "      <td>8</td>\n",
       "      <td>26.0</td>\n",
       "      <td>Manisha (Gisele Smith)</td>\n",
       "      <td>9.821152e+05</td>\n",
       "      <td>About the job The ideal candidate will use the...</td>\n",
       "      <td>3359</td>\n",
       "      <td>Not Avilable</td>\n",
       "      <td>Not Avilable</td>\n",
       "      <td>Mohali district</td>\n",
       "      <td>North West</td>\n",
       "    </tr>\n",
       "  </tbody>\n",
       "</table>\n",
       "</div>"
      ],
      "text/plain": [
       "       job_ID   designation                        location  company_id  \\\n",
       "0  3471657636  Data Analyst             Delhi, Delhi, India       524.0   \n",
       "1  3471669068  Data Analyst         New Delhi, Delhi, India       524.0   \n",
       "2  3474349934  Data Analyst          Greater Bengaluru Area      2242.0   \n",
       "3  3472816027  Data Analyst        Gurugram, Haryana, India      1553.0   \n",
       "4  3473311511  Data Analyst  Mohali district, Punjab, India      2147.0   \n",
       "\n",
       "                       name work_type involvement  employees_count  \\\n",
       "0                 Crossover    Remote   Full-time             1001   \n",
       "1                 Crossover    Remote   Full-time             1001   \n",
       "2                    Uplers    Remote   Full-time             1001   \n",
       "3             PVAR SERVICES   On-site   Full-time                1   \n",
       "4  Timeline Freight Brokers   On-site   Full-time                1   \n",
       "\n",
       "  total_applicants  posted_day_ago           Hiring_person  \\\n",
       "0              200           480.0           Not Available   \n",
       "1              184           480.0           Not Available   \n",
       "2              200           540.0            Shahid Ahmad   \n",
       "3              200           420.0           Vartika Singh   \n",
       "4                8            26.0  Manisha (Gisele Smith)   \n",
       "\n",
       "   linkedin_followers                                        job_details  \\\n",
       "0        5.395547e+06  About the job Crossover is the world's #1 sour...   \n",
       "1        5.395547e+06  About the job Crossover is the world's #1 sour...   \n",
       "2        9.821152e+05  About the job Profile: ML EngineersExperience:...   \n",
       "3        2.094000e+03  About the job Designation: Data AnalystLocatio...   \n",
       "4        9.821152e+05  About the job The ideal candidate will use the...   \n",
       "\n",
       "   details_id                        industry              level  \\\n",
       "0        2697   IT Services and IT Consulting          Associate   \n",
       "1        2724   IT Services and IT Consulting          Associate   \n",
       "2        3668   IT Services and IT Consulting   Mid-Senior level   \n",
       "3        3083                    Not Avilable       Not Avilable   \n",
       "4        3359                    Not Avilable       Not Avilable   \n",
       "\n",
       "                     City       State  \n",
       "0                   Delhi       Delhi  \n",
       "1               New Delhi       Delhi  \n",
       "2  Greater Bengaluru Area   Karnataka  \n",
       "3                Gurugram     Haryana  \n",
       "4         Mohali district  North West  "
      ]
     },
     "execution_count": 76,
     "metadata": {},
     "output_type": "execute_result"
    }
   ],
   "source": [
    "job_df.head()"
   ]
  },
  {
   "cell_type": "code",
   "execution_count": 77,
   "metadata": {
    "scrolled": true
   },
   "outputs": [
    {
     "name": "stdout",
     "output_type": "stream",
     "text": [
      "job_ID [3471657636 3471669068 3474349934 ... 3461005032 3474305684 3459352801]\n",
      "--------------------------------------\n",
      "designation ['Data Analyst' 'Shopify Developer' 'Database Developer' 'Other'\n",
      " 'Other Developer' 'Salesforce Developer' 'Golang Developer'\n",
      " 'Lead developer' '.Net Developers' 'PHP Developer' 'SQL Developer'\n",
      " 'Java Developer' 'Other Engineering' 'Software Engineer'\n",
      " 'Python Developer' 'PowerApps Developer' 'Cloud Engineer'\n",
      " 'Snowflake Developer' 'Angular Developer' 'Oracle Developer'\n",
      " 'DevOps Engineer' 'Software Testing' 'Internships' 'Power BI Developer'\n",
      " 'Blockchain Developer' 'C Developer' ' Ruby on Rails Developer'\n",
      " 'Machine Learning Engineer' 'Game Developer' 'Mainframe Developer'\n",
      " 'Analyst' 'Unity Developer' 'Business Analyst'\n",
      " 'Mobile Application Developer' 'Full Stack Developer' 'Web Developer'\n",
      " 'Linux Engineer' 'Drupal Developer' 'Technology Architecture'\n",
      " 'Wordpress Developer' 'BackEnd Developer' 'Node Js Developer'\n",
      " 'Consultant' 'Associate' 'Researcher' 'Accountant' 'Finance Manager'\n",
      " 'Search Engine Optimization' 'Project Manager' 'Sales Executive'\n",
      " 'Business Development Manager' 'Digital Marketing' 'Scrum Master'\n",
      " 'Team Lead/ Project Lead' 'SAP Developer' 'Quality Analyst'\n",
      " 'Vue.js Developer' 'ReactJS Developer' 'Robotics' 'iOS Developer'\n",
      " 'Collections Specialist' 'AI Engineer' 'Managerial and Leadership Roles'\n",
      " 'Quantitative Trader' 'Marketing' 'Copywriter' 'Co-Founder' 'Editor'\n",
      " 'Customer Service' 'Frontend Developer' 'Front-End Developer'\n",
      " 'Data Scientist' 'Technical Trainer/Writer/Owner' 'Professor'\n",
      " 'Education and Counseling' 'Head of Product' 'Product Specialist'\n",
      " 'Content Writer' 'Data Management' 'Financial Controller'\n",
      " 'Bigdata Developer' 'Relationship Manager' 'Salesperson'\n",
      " ' Storage Administrator']\n",
      "--------------------------------------\n",
      "location ['Delhi, Delhi, India' 'New Delhi, Delhi, India' 'Greater Bengaluru Area'\n",
      " 'Gurugram, Haryana, India' 'Mohali district, Punjab, India'\n",
      " 'Bengaluru, Karnataka, India' 'Delhi, India'\n",
      " 'Noida, Uttar Pradesh, India' 'Hyderabad, Telangana, India' 'India'\n",
      " 'Chennai, Tamil Nadu, India' 'Kolkata, West Bengal, India'\n",
      " 'Madurai, Tamil Nadu, India' 'Pune, Maharashtra, India'\n",
      " 'Mumbai, Maharashtra, India' 'Kochi, Kerala, India'\n",
      " 'Ahmedabad, Gujarat, India' 'Vadodara, Gujarat, India'\n",
      " 'Hosur, Tamil Nadu, India' 'Coimbatore, Tamil Nadu, India'\n",
      " 'Chengannur, Kerala, India' 'Mumbai Metropolitan Region'\n",
      " 'Bhopal, Madhya Pradesh, India' 'Maharashtra, India'\n",
      " 'Surat, Gujarat, India' 'Jaipur, Rajasthan, India'\n",
      " 'Chandigarh, Chandigarh, India' 'Trivandrum, Kerala, India'\n",
      " 'Delhi Cantonment, Delhi, India' 'Thane, Maharashtra, India'\n",
      " 'Gujarat, India' 'Navi Mumbai, Maharashtra, India' 'Greater Kolkata Area'\n",
      " 'Bangalore Urban, Karnataka, India' 'Gurgaon, Haryana, India'\n",
      " 'Nagpur, Maharashtra, India' 'Kalyan, Maharashtra, India'\n",
      " 'Dehradun, Uttarakhand, India' 'Kozhikode, Kerala, India'\n",
      " 'Ludhiana, Punjab, India' 'Tenkasi, Tamil Nadu, India'\n",
      " 'Amritsar, Punjab, India' 'Patna, Bihar, India' 'Tamil Nadu, India'\n",
      " 'Thiruvananthapuram, Kerala, India'\n",
      " 'Sahibzada Ajit Singh Nagar, Punjab, India' 'Telangana, India'\n",
      " 'Indore, Madhya Pradesh, India' 'Pune/Pimpri-Chinchwad Area'\n",
      " 'Kerala, India' 'Lucknow, Uttar Pradesh, India' 'Greater Hyderabad Area'\n",
      " 'Guindy, Tamil Nadu, India' 'Vapi, Gujarat, India' 'Greater Delhi Area'\n",
      " 'Bangalore Urban district, India' 'Rajkot, Gujarat, India'\n",
      " 'Faridabad, Haryana, India' 'Visakhapatnam, Andhra Pradesh, India'\n",
      " 'Kanpur, Uttar Pradesh, India' 'Bandra, Maharashtra, India'\n",
      " 'Thiruvarur, Tamil Nadu, India' 'Puducherry, Puducherry, India'\n",
      " 'Mangaluru, Karnataka, India' 'Chandigarh, India'\n",
      " 'Aurangabad, Maharashtra, India' 'Gurgaon Rural, Haryana, India'\n",
      " 'Pimpri Chinchwad, Maharashtra, India'\n",
      " 'Kolkata metropolitan area, West Bengal, India' 'Goa, India'\n",
      " 'Gandhinagar, Gujarat, India' 'Greater Coimbatore Area'\n",
      " 'Ghaziabad, Uttar Pradesh, India' 'Hoshiarpur, Punjab, India'\n",
      " 'Manesar, Haryana, India' 'Bhubaneshwar, Odisha, India'\n",
      " 'South Delhi, Delhi, India' 'Saket, Delhi, India'\n",
      " 'Karunagappally, Kerala, India' 'Rohini, Delhi, India'\n",
      " 'Dumka, Jharkhand, India' 'Srinagar, Jammu & Kashmir, India'\n",
      " 'Jabalpur, Madhya Pradesh, India' 'Haryana, India' 'Greater Chennai Area'\n",
      " 'Ernakulam, Kerala, India' 'Rupnagar, Punjab, India'\n",
      " 'Siwani, Haryana, India' 'Vishakhapatnam, Andhra Pradesh, India'\n",
      " 'Ulhasnagar, Maharashtra, India' 'Bengaluru East, Karnataka, India'\n",
      " 'Punjab, India' 'Kangra, Himachal Pradesh, India'\n",
      " 'Kanpur Nagar, Uttar Pradesh, India' 'Alipur, Delhi, India'\n",
      " 'Nagercoil, Tamil Nadu, India' 'Jammu, Jammu & Kashmir, India'\n",
      " 'Jalandhar, Punjab, India' 'Greater Ahmedabad Area'\n",
      " 'Pollachi, Tamil Nadu, India' 'Mangalagiri, Andhra Pradesh, India'\n",
      " 'Varanasi, Uttar Pradesh, India' 'Jamshedpur, Jharkhand, India'\n",
      " 'Bhubaneswar, Odisha, India' 'Agra, Uttar Pradesh, India'\n",
      " 'Ranchi, Jharkhand, India' 'Vijayawada, Andhra Pradesh, India'\n",
      " 'Udaipur, Rajasthan, India' 'Greater Nagpur Area'\n",
      " 'Jodhpur, Rajasthan, India' 'Secunderābād, Telangana, India'\n",
      " 'Golaghat district, Assam, India' 'Velachery, Tamil Nadu, India'\n",
      " 'Kolhapur, Maharashtra, India' 'Silao, Bihar, India'\n",
      " 'Tiruchengodu, Tamil Nadu, India' 'Uttar Pradesh, India'\n",
      " 'Dwarka, Delhi, India' 'Jalgaon, Maharashtra, India'\n",
      " 'Preet Vihar, Delhi, India' 'North West Delhi, Delhi, India'\n",
      " 'West Delhi, Delhi, India' 'Vasant Vihar, Delhi, India'\n",
      " 'Berhampore, West Bengal, India' 'Raipur, Chhattisgarh, India'\n",
      " 'Defence Colony, Delhi, India' 'Patel Nagar, Delhi, India'\n",
      " 'Pochampalli, Tamil Nadu, India' 'Dadri, Uttar Pradesh, India'\n",
      " 'Ahmednagar, Maharashtra, India' 'Midnapore, West Bengal, India'\n",
      " 'Tiruchirappalli, Tamil Nadu, India'\n",
      " 'Thiruvananthapuram Taluk, Kerala, India' 'Karnataka, India'\n",
      " 'Gautam Buddha Nagar, Uttar Pradesh, India'\n",
      " 'Sriperumbudur, Tamil Nadu, India']\n",
      "--------------------------------------\n",
      "company_id [ 524. 2242. 1553. ...  642.  130.  106.]\n",
      "--------------------------------------\n",
      "name ['Crossover' 'Uplers' 'PVAR SERVICES' ... 'EPMware' 'Altvu' 'Akkodis']\n",
      "--------------------------------------\n",
      "work_type ['Remote' 'On-site' 'Hybrid']\n",
      "--------------------------------------\n",
      "involvement ['Full-time' 'Contract' 'Internship' 'Part-time' 'Temporary' 'Associate'\n",
      " 'Volunteer']\n",
      "--------------------------------------\n",
      "employees_count [ 1001     1 10001    51   201    11   501  5001]\n",
      "--------------------------------------\n",
      "total_applicants ['200' '184' '8' '2' '7' '22' '111' '36' '44' '29' '4' '19' '14' '13' '32'\n",
      " '20' 'hours' '5' '21' '27' '85' '97' '42' '1' '130' '127' 'minutes' '11'\n",
      " '16' '60' '3' '52' '50' '10' '61' '95' '39' '18' '6' '40' '138' '9' '26'\n",
      " '17' '78' '47' '104' '15' '110' '25' '38' '122' '34' '149' '83' '57' '66'\n",
      " '56' '80' '135' '158' '139' '54' '28' '23' '12' '175' '35' '87' '109'\n",
      " '71' '70' '24' '96' '48' '31' 'days' '68' '147' 'day' '65' '59' '102'\n",
      " '53' '125' '143' '142' '150' '195' '160' '99' '112' '67' '74' '134' '43'\n",
      " '98' '146' '55' '115' '108' '176' '113' '30' '76' '72' '129' '100' '172'\n",
      " 'hour' '51' '79' '69' '46' '132' '114' '136' '117' '106' '173' '73' '174'\n",
      " '145' '84' '190' '77' '81' '33' '166' '163' '94' '128' '161' '194' '152'\n",
      " '159' '137' '88' '162' '177' '105' '41' '49' '133' '187' '82' '123' '193'\n",
      " '91' '148' '45' '141' '58' '62' '198' '124' '93' '168' '64' '140' '86'\n",
      " '126' '155' '169' '192' 'minute' '116' '185' '156' '165' '170' '120'\n",
      " '180' '191' '101' '196' '118' '181' '189' '90' '153' '171' '75' '37' '89'\n",
      " '197' '107' '63' '131' '167' '92' '121' '186' '183' '119']\n",
      "--------------------------------------\n",
      "posted_day_ago [4.800e+02 5.400e+02 4.200e+02 2.600e+01 6.000e+02 2.500e+01 3.000e+02\n",
      " 1.200e+03 3.600e+02 6.000e+01 1.200e+02 7.200e+02 1.320e+03 2.400e+02\n",
      " 1.800e+02 1.440e+03 1.380e+03 3.700e+01 6.600e+02 8.400e+02 1.080e+03\n",
      " 1.140e+03 6.000e+00 1.260e+03 7.800e+02 9.000e+02 1.000e+01 7.200e+03\n",
      " 2.880e+03 1.100e+01 8.640e+03 5.000e+01 5.760e+03 1.300e+01 9.600e+02\n",
      " 1.020e+03 4.320e+03 1.700e+01 1.200e+01 4.700e+01 7.000e+00 5.600e+01\n",
      " 2.700e+01 5.300e+01 4.500e+01 4.000e+00 5.700e+01 1.008e+04 8.000e+00\n",
      " 3.200e+01 5.200e+01 3.900e+01 5.000e+00 9.000e+00 1.400e+01 1.600e+01\n",
      " 1.500e+01 1.800e+01 1.900e+01 2.000e+01 2.300e+01 2.200e+01 2.100e+01\n",
      " 2.400e+01 2.800e+01 2.900e+01 3.000e+01 3.500e+01 3.400e+01 3.800e+01\n",
      " 3.600e+01 4.100e+01 4.300e+01 4.600e+01 4.900e+01 5.100e+01 5.400e+01\n",
      " 5.500e+01 1.000e+00 3.000e+00 4.200e+01 4.400e+01 5.900e+01 3.300e+01\n",
      " 4.000e+01 5.800e+01 3.100e+01 4.800e+01]\n",
      "--------------------------------------\n",
      "Hiring_person ['Not Available' 'Shahid Ahmad' 'Vartika Singh' ... 'Abhi Nerurkar'\n",
      " 'SUNIL N' 'Poornima Viswanathan']\n",
      "--------------------------------------\n",
      "linkedin_followers [5.39554700e+06 9.82115191e+05 2.09400000e+03 ... 1.32800000e+04\n",
      " 1.19236340e+07 1.42109000e+06]\n",
      "--------------------------------------\n",
      "job_details [\"About the job Crossover is the world's #1 source of full-time remote jobs. Our clients offer top-tier pay for top-tier talent. We're recruiting this role for our client, Trilogy. Have you got what it takes? Are you looking for an entry-level role in the software industry that will give you the skills and exposure to move into any speciality later? We’re looking for curious individuals who love searching for meaningful answers. In this role, you’ll be given a business problem and will scour the internet for possible solutions. The problems will come from every area of our business: operations, finance, hiring, engineering, and more - giving you broad exposure. Not only will you gain knowledge, you’ll receive regular coaching and training from a team of global tech experts and operations professionals. Jumpstart your career with us today! What You Will Be Doing Research a variety of high-priority topics that are critical to the businessEvaluate results against provided evaluation criteria What You Won’t Be Doing Researching the same topics repeatedlyWorking on loosely-scoped research with desired outputs not clearly definedGetting lost chasing tangentially-related solutions; our systems and processes will help you focus your research and optimize your time Data Analyst Key Responsibilities Provide high-quality research data to support company-wide business decisions Basic Requirements Excellent written and verbal communication skillsBasic financial analysis skillsAbility to work in the US timezone About Trilogy Hundreds of software businesses run on the Trilogy Business Platform. For three decades, Trilogy has been known for 3 things: Relentlessly seeking top talent, Innovating new technology, and incubating new businesses. Our technological innovation is spearheaded by a passion for simple customer-facing designs. Our incubation of new businesses ranges from entirely new moon-shot ideas to rearchitecting existing projects for today's modern cloud-based stack. Trilogy is a place where you can be surrounded with great people, be proud of doing great work, and grow your career by leaps and bounds. There is so much to cover for this exciting role, and space here is limited. Hit the Apply button if you found this interesting and want to learn more. We look forward to meeting you! Working with Crossover This is a full-time (40 hours per week), long-term position. The position is immediately available and requires entering into an independent contractor agreement with Crossover. The compensation level for this role is $30 USD/hour, which equates to $60,000 USD/year assuming 40 hours per week and 50 weeks per year. The payment period is weekly. Consult www.crossover.com/help-and-faqs for more details on this topic. What to expect next: You will receive an email with a link to start your self-paced, online job application.Our hiring platform will guide you through a series of online “screening” assessments to check for basic job fit, job-related skills, and finally a few real-world job-specific assignments. Important! If you do not receive an email from us: First, emails may take up to 15 minutes to send, refresh and check again.Second, check your spam and junk folders for an email from Crossover.com, mark as “Not Spam” since you will receive other emails as well.Third, we will send to whatever email account you indicated on the Apply form - by default, that is the email address you use as your LinkedIn username and it might be different than the one you have already checked.If all else fails, just reset your password by visiting https://www.crossover.com/auth/password-recovery if you already applied using LinkedIn EasyApply. Crossover Job Code: LJ-4718-IN-Delhi-DataAnalyst.004\"\n",
      " \"About the job Crossover is the world's #1 source of full-time remote jobs. Our clients offer top-tier pay for top-tier talent. We're recruiting this role for our client, Trilogy. Have you got what it takes? Are you looking for an entry-level role in the software industry that will give you the skills and exposure to move into any speciality later? We’re looking for curious individuals who love searching for meaningful answers. In this role, you’ll be given a business problem and will scour the internet for possible solutions. The problems will come from every area of our business: operations, finance, hiring, engineering, and more - giving you broad exposure. Not only will you gain knowledge, you’ll receive regular coaching and training from a team of global tech experts and operations professionals. Jumpstart your career with us today! What You Will Be Doing Research a variety of high-priority topics that are critical to the businessEvaluate results against provided evaluation criteria What You Won’t Be Doing Researching the same topics repeatedlyWorking on loosely-scoped research with desired outputs not clearly definedGetting lost chasing tangentially-related solutions; our systems and processes will help you focus your research and optimize your time Data Analyst Key Responsibilities Provide high-quality research data to support company-wide business decisions Basic Requirements Excellent written and verbal communication skillsBasic financial analysis skillsAbility to work in the US timezone About Trilogy Hundreds of software businesses run on the Trilogy Business Platform. For three decades, Trilogy has been known for 3 things: Relentlessly seeking top talent, Innovating new technology, and incubating new businesses. Our technological innovation is spearheaded by a passion for simple customer-facing designs. Our incubation of new businesses ranges from entirely new moon-shot ideas to rearchitecting existing projects for today's modern cloud-based stack. Trilogy is a place where you can be surrounded with great people, be proud of doing great work, and grow your career by leaps and bounds. There is so much to cover for this exciting role, and space here is limited. Hit the Apply button if you found this interesting and want to learn more. We look forward to meeting you! Working with Crossover This is a full-time (40 hours per week), long-term position. The position is immediately available and requires entering into an independent contractor agreement with Crossover. The compensation level for this role is $30 USD/hour, which equates to $60,000 USD/year assuming 40 hours per week and 50 weeks per year. The payment period is weekly. Consult www.crossover.com/help-and-faqs for more details on this topic. What to expect next: You will receive an email with a link to start your self-paced, online job application.Our hiring platform will guide you through a series of online “screening” assessments to check for basic job fit, job-related skills, and finally a few real-world job-specific assignments. Important! If you do not receive an email from us: First, emails may take up to 15 minutes to send, refresh and check again.Second, check your spam and junk folders for an email from Crossover.com, mark as “Not Spam” since you will receive other emails as well.Third, we will send to whatever email account you indicated on the Apply form - by default, that is the email address you use as your LinkedIn username and it might be different than the one you have already checked.If all else fails, just reset your password by visiting https://www.crossover.com/auth/password-recovery if you already applied using LinkedIn EasyApply. Crossover Job Code: LJ-4718-IN-NewDelhi-DataAnalyst.017\"\n",
      " \"About the job Profile: ML EngineersExperience: 3+ YearsLocation: Permanent Remote What is Uplers Talent Network?Uplers Talent Network is a place where top talents meet the right opportunities. It is a platform for every candidate looking for a perfect opportunity to work with global companies on a contractual basis. Our talent network is a place for top Indian talents who can benefit from the platform and gain access to global career exposure. With us, you'll get the support, guidance, and opportunities that you need to take your career to the next level. So, if you're ready to embark on the journey of your next challenge, we're ready to be your engine! Contractual PositionA contractual position usually requires you to sign and agree to the terms of a contract before you begin working. This structure can offer a variety of commitments that allow you to refine established skills and create new ones. Uplers Talent Network brings contractual positions with benefits like:✔ Higher pay than industry standards✔ Full-time position✔ Ability to gain different skills in a short period✔ Control over your career Perks of joining Uplers Talent Network:Talent Success Coach: Get connected with a dedicated coach to guide you before, during as well as after your assignments with our clients.Payout: Get paid in global currencies and earn more than industry standards.Opportunity: Work with international companies and get global exposure with exciting projects.Mobility: Work from the comfort of your living room couch or even a breezy beach. How to become a part of our Talent Network?Create your own profile to get selected by our global clientsFill out the application formClear the 3-stage assessment processBecome a Uplers Certified Talent What are we looking for:We are looking for a highly capable machine learning engineer to optimize our machine learning systems. You will be evaluating existing machine learning (ML) processes, performing statistical analysis to resolve data set problems, and enhancing the accuracy of our AI software's predictive automation capabilities. To ensure success as a machine learning engineer, you should demonstrate solid data science knowledge and experience in a related ML role. A first-class machine learning engineer will be someone whose expertise translates into the enhanced performance of predictive automation software. Roles & Responsibilities:To research, modify, and apply data science and data analytics prototypes.To create and construct methods and plans for machine learningEmploying test findings to do statistical analysis and improve modelsTo search the internet for training datasets that are readily availableML systems and models should be trained and retrained as necessaryTo improve and broaden current ML frameworks and librariesTo create machine learning applications in accordance with client or customer needsTo investigate, test, and put into practice appropriate ML tools and algorithms.To evaluate the application cases and problem-solving potential of ML algorithms and rank them according to success likelihoodTo better comprehend data through exploration and visualization, as well as to spot discrepancies in data distribution that might affect a model’s effectiveness when used in practical situations Primary Skills:Data ModellingNatural Language Processing - Word2vec, Sentiment Analysis, Summarization, Gensim, and NLTKUnix & Linux ServersProgramming Languages - C, C++, Python and JavaSpark and Hadoop Requirements:Advanced math and statistics knowledge, particularly in the areas of calculus, linear algebra, and Bayesian statisticsAdvanced degree in math, computer science, statistics or a related fieldA master’s degree in artificial intelligence, deep learning, or a related disciplineStrong teamwork, problem-solving, and analytical skills.Abilities in software engineeringKnowledge of data scienceLanguages for coding and programming, such as Python, Java, C++, C, R, and JavaScriptPractical understanding of ML frameworksPractical familiarity with ML libraries and packagesRecognize software architecture, data modeling, and data structuresUnderstanding of computer architecture Uplift with UplersUplers believe in connecting people. Being a people-first organization, Uplers constantly strives for individuals who won't just keep up, but break new ground. Helping you find what’s next is what we’re all about. It doesn't surprise us that we are growing and becoming one of the most popular companies in the industry. All set to enter the #WorldOfAwesomeness?Hit the Apply button!\"\n",
      " ...\n",
      " \"About the job Experience: 4 - 8 yearsProfile: Senior Software EngineerLocation - Gurgaon, Haryana (Onsite)Pay - Upto 20 LPAShift Time - IST shift (9:00 AM and 6:30 PM) What is Uplers Talent Network?Uplers Talent Network is a place where top talents meet the right opportunities. It is a platform for every candidate looking for a perfect opportunity to work with global companies. Our talent network is a place for top Indian talents who can benefit from the platform. With us, you'll get the support, guidance, and opportunities that you need to take your career to the next level. So, if you're ready to embark on the journey of your next challenge, we're ready to be your engine! What you’ll be doing:Develop and ship highly available and scalable back end, front-end, and database software components.Grow and mentor software engineers and work with them to identify, design, prototype, and evaluate great product features.Extensively write high quality code using a maintainable, testable and collaborative agile process Deep dive into X’s world class software systems and technologies, and work side by side with product and design teamsImplement critical components and help define the architectural vision, collaborating with partner teams across the organization, and mentoring and developing more junior engineers Develop automated tests and deliver high quality code to production within a short development cycle in continuous integration and delivery environment.Propose, design, and build innovative tools and frameworks for use by engineering teams at X Candidate Attributes:Behavioural -Excellent communication skills with the ability to present complex technical information in a clear and concise manner to a variety of stakeholders.Demonstrated collaboration abilities in an engineering environment in driving development excellence and best practices. Technical -Hands-on and deep experience building applications and expert level proficiency in modern programming languages like JAVA, NodeJS, Python etc, database management with SQL and NoSQL etc, data pipelines with Kafka, RedShift etc, CI/CD development. Primary Skills -PHP,MySQLNode JSMongoDBReact JSJavaScript Uplift with UplersUplers believe in connecting people. Being a people-first organization, Uplers constantly strives for individuals who won't just keep up, but break new ground. Helping you find what’s next is what we’re all about. It doesn't surprise us that we are growing and becoming one of the most popular companies in the industry. All set to enter the #WorldOfAwesomeness?Hit the Apply button!\"\n",
      " 'About the job Role- Vue js DeveloperExperience: 5-10 yearsLocation - Hyderabad, Delhi NCR, Bangalore, Kochi, Bhubaneswar Desired Competencies :Developing user-facing modules using Vue.jsBuilding modular and reusable components and librariesCoordinate with other team members, including back-end developers, UX/UI designers and accessibility teamGood understanding of HTML5 and CSS3Good Knowledge with the JavaScript language and its modern ES6+ syntax and featuresExperience with Vue.js framework and its core principles such as components, reactivity, and the virtual DOMFamiliarity with Vuex, Vue RouterExperience with consuming RESTful APIsFamiliarity with automated JavaScript testing, specifically testing frameworks such as Mocha Good to have :Experience working in agile scrum development areaExperience working with JSP/Spring based applicationExperience with Slack, Wiki, Jira is plus'\n",
      " 'About the job JD Powertrain Function Developer-Specifying embedded functions in formal and semiformal methods-Development of controller algorithms-Defining Test and commissioning methods for the functions-Documentation of the work-System / function analysis for transmission and e-Drive systems-Simulation of the function in virtual Software-in-the Loop environment-Remote support for system and HIL testsRequirements:-Bachelor/Master in Electronics, Embedded, Software or Mechatronics systems-Knowledge of embedded controller systems-Good programming skills (MATLAB, C++, Java)-Good written and spoken English-Clear CommunicationSkill Set:- IBM DOORS (Requirements Engineering)- SysML (System Modelling Language)- MATLAB Simulink/Stateflow (Model-based Software Development)- dSpace TargetLink (Auto-code generation)- Vector CANape (Measurement Analysis Tool)- Embedded C (Programming Language)']\n",
      "--------------------------------------\n",
      "details_id [2697 2724 3668 ...  344 3594  245]\n",
      "--------------------------------------\n",
      "industry [' IT Services and IT Consulting' 'Not Avilable' ' Telecommunications'\n",
      " ' Renewable Energy Semiconductor Manufacturing' ' Market Research'\n",
      " ' Technology Information and Internet' ' Pharmaceutical Manufacturing'\n",
      " ' Information Technology & Services' ' Human Resources Services'\n",
      " ' Staffing and Recruiting' ' Business Consulting and Services'\n",
      " ' Information Services' ' Software Development' ' Financial Services'\n",
      " ' Airlines and Aviation' ' Outsourcing and Offshoring Consulting'\n",
      " ' Human Resources' ' Government Administration' ' Retail'\n",
      " ' Apparel & Fashion' ' Retail Groceries' ' Civil Engineering'\n",
      " ' Advertising Services' ' Media and Telecommunications'\n",
      " ' Non-profit Organizations' ' Banking' ' Internet Marketplace Platforms'\n",
      " ' Research Services' ' Oil and Gas' ' Semiconductors' ' Spectator Sports'\n",
      " ' Internet Publishing' ' Medical Device' ' Law Practice'\n",
      " ' Professional Training and Coaching'\n",
      " ' Personal Care Product Manufacturing' ' Sporting Goods Manufacturing'\n",
      " ' Maritime Transportation' ' Motor Vehicle Manufacturing'\n",
      " ' Computers and Electronics Manufacturing' ' Wireless Services'\n",
      " ' Book and Periodical Publishing' ' Real Estate'\n",
      " ' Computer Networking Products' ' Biotechnology Research'\n",
      " ' Entertainment Providers' ' Marketing Services'\n",
      " ' Computer and Network Security' ' Wellness and Fitness Services'\n",
      " ' Translation and Localization' ' Accounting' ' Research'\n",
      " ' Data Infrastructure and Analytics' ' Hospitals and Health Care'\n",
      " ' Insurance' ' Industrial Machinery Manufacturing'\n",
      " ' Retail Office Equipment' ' Aviation & Aerospace' ' Consumer Services'\n",
      " ' Automation Machinery Manufacturing' ' Food and Beverage Manufacturing'\n",
      " ' Education Administration Programs'\n",
      " ' Appliances Electrical and Electronics Manufacturing' ' Farming'\n",
      " ' Blockchain Services' ' Manufacturing'\n",
      " ' Packaging and Containers Manufacturing'\n",
      " ' Medical Equipment Manufacturing' ' E-learning' ' Automotive'\n",
      " ' Higher Education' ' Education' ' Semiconductor Manufacturing'\n",
      " ' E-Learning Providers' ' Consumer Electronics'\n",
      " ' Aviation and Aerospace Component Manufacturing'\n",
      " ' Medical and Diagnostic Laboratories' ' Food and Beverage Services'\n",
      " ' Wholesale Building Materials'\n",
      " ' Transportation Logistics Supply Chain and Storage' ' Media Production'\n",
      " ' Investment Management' ' Design Services' ' Professional Services'\n",
      " ' International Trade and Development' ' Education Management'\n",
      " ' Construction' ' Public Relations and Communications Services'\n",
      " ' Utilities' ' Computer Games' ' Primary and Secondary Education'\n",
      " ' Textile Manufacturing' ' Maritime' ' Outsourcing/Offshoring'\n",
      " ' Movies Videos and Sound' ' Machinery Manufacturing'\n",
      " ' Online Audio and Video Media'\n",
      " ' Broadcast Media Production and Distribution' ' Environmental Services'\n",
      " ' Retail Apparel and Fashion' ' Building Materials'\n",
      " ' Travel Arrangements' ' Wholesale Chemical and Allied Products']\n",
      "--------------------------------------\n",
      "level [' Associate' ' Mid-Senior level' 'Not Avilable' ' Entry level'\n",
      " ' Director' ' Executive' ' Internship']\n",
      "--------------------------------------\n",
      "City ['Delhi' 'New Delhi' 'Greater Bengaluru Area' 'Gurugram' 'Mohali district'\n",
      " 'Bengaluru' 'Noida' 'Hyderabad' 'Chennai' 'Kolkata' 'Madurai' 'Pune'\n",
      " 'Mumbai' 'Kochi' 'Ahmedabad' 'Vadodara' 'Hosur' 'Coimbatore' 'Chengannur'\n",
      " 'Mumbai Metropolitan Region' 'Bhopal' 'Surat' 'Jaipur' 'Chandigarh'\n",
      " 'Trivandrum' 'Delhi Cantonment' 'Thane' 'Navi Mumbai'\n",
      " 'Greater Kolkata Area' 'Bangalore Urban' 'Gurgaon' 'Nagpur' 'Kalyan'\n",
      " 'Dehradun' 'Kozhikode' 'Ludhiana' 'Tenkasi' 'Amritsar' 'Patna'\n",
      " 'Thiruvananthapuram' 'Sahibzada Ajit Singh Nagar' 'Indore'\n",
      " 'Pune/Pimpri-Chinchwad Area' 'Lucknow' 'Greater Hyderabad Area' 'Guindy'\n",
      " 'Vapi' 'Greater Delhi Area' 'Bangalore Urban district' 'Rajkot'\n",
      " 'Faridabad' 'Visakhapatnam' 'Kanpur' 'Bandra' 'Thiruvarur' '[]'\n",
      " 'Mangaluru' 'Aurangabad' 'Gurgaon Rural' 'Pimpri Chinchwad'\n",
      " 'Kolkata metropolitan area' 'Gandhinagar' 'Greater Coimbatore Area'\n",
      " 'Ghaziabad' 'Hoshiarpur' 'Manesar' 'Bhubaneshwar' 'South Delhi' 'Saket'\n",
      " 'Karunagappally' 'Rohini' 'Dumka' 'Srinagar' 'Jabalpur'\n",
      " 'Greater Chennai Area' 'Ernakulam' 'Rupnagar' 'Siwani' 'Vishakhapatnam'\n",
      " 'Ulhasnagar' 'Bengaluru East' 'Kangra' 'Kanpur Nagar' 'Alipur'\n",
      " 'Nagercoil' 'Jammu' 'Jalandhar' 'Greater Ahmedabad Area' 'Pollachi'\n",
      " 'Mangalagiri' 'Varanasi' 'Jamshedpur' 'Bhubaneswar' 'Agra' 'Ranchi'\n",
      " 'Vijayawada' 'Udaipur' 'Greater Nagpur Area' 'Jodhpur' 'Secunderābād'\n",
      " 'Golaghat district' 'Velachery' 'Kolhapur' 'Silao' 'Tiruchengodu'\n",
      " 'Dwarka' 'Jalgaon' 'Preet Vihar' 'North West Delhi' 'West Delhi'\n",
      " 'Vasant Vihar' 'Berhampore' 'Raipur' 'Defence Colony' 'Patel Nagar'\n",
      " 'Pochampalli' 'Dadri' 'Ahmednagar' 'Midnapore' 'Tiruchirappalli'\n",
      " 'Thiruvananthapuram Taluk' 'Gautam Buddha Nagar' 'Sriperumbudur']\n",
      "--------------------------------------\n",
      "State ['Delhi' 'Karnataka' 'Haryana' 'North West' 'Uttar Pradesh' 'Telangana'\n",
      " 'Tamil Nadu' 'West Bengal' 'Maharashtra' 'Kerala' 'Gujarat'\n",
      " 'Madhya Pradesh' 'Rajasthan' 'Chandigarh' 'Uttarakhand' 'Punjab' 'Bihar'\n",
      " 'Andhra Pradesh' 'Puducherry' 'India' 'Goa' 'Odisha' 'Jharkhand'\n",
      " 'Jammu and Kashmir' 'Himachal Pradesh' 'Assam' 'Chhattisgarh']\n",
      "--------------------------------------\n"
     ]
    }
   ],
   "source": [
    "for i in job_df:\n",
    "    print(i,job_df[i].unique())\n",
    "    print('--------------------------------------')"
   ]
  },
  {
   "cell_type": "code",
   "execution_count": 78,
   "metadata": {},
   "outputs": [
    {
     "name": "stderr",
     "output_type": "stream",
     "text": [
      "C:\\Users\\Shashank\\AppData\\Local\\Temp\\ipykernel_20600\\512409579.py:1: SettingWithCopyWarning: \n",
      "A value is trying to be set on a copy of a slice from a DataFrame\n",
      "\n",
      "See the caveats in the documentation: https://pandas.pydata.org/pandas-docs/stable/user_guide/indexing.html#returning-a-view-versus-a-copy\n",
      "  job_df.total_applicants[job_df['total_applicants'].isin(['minutes','hours','hour','minute','day','days'])]=0\n"
     ]
    }
   ],
   "source": [
    "job_df.total_applicants[job_df['total_applicants'].isin(['minutes','hours','hour','minute','day','days'])]=0"
   ]
  },
  {
   "cell_type": "code",
   "execution_count": 79,
   "metadata": {
    "scrolled": true
   },
   "outputs": [],
   "source": [
    "job_df.drop(['location','posted_day_ago','Hiring_person'],axis=1,inplace=True)"
   ]
  },
  {
   "cell_type": "code",
   "execution_count": 80,
   "metadata": {
    "scrolled": false
   },
   "outputs": [
    {
     "data": {
      "text/plain": [
       "array(['200', '184', '8', '2', '7', '22', '111', '36', '44', '29', '4',\n",
       "       '19', '14', '13', '32', '20', 0, '5', '21', '27', '85', '97', '42',\n",
       "       '1', '130', '127', '11', '16', '60', '3', '52', '50', '10', '61',\n",
       "       '95', '39', '18', '6', '40', '138', '9', '26', '17', '78', '47',\n",
       "       '104', '15', '110', '25', '38', '122', '34', '149', '83', '57',\n",
       "       '66', '56', '80', '135', '158', '139', '54', '28', '23', '12',\n",
       "       '175', '35', '87', '109', '71', '70', '24', '96', '48', '31', '68',\n",
       "       '147', '65', '59', '102', '53', '125', '143', '142', '150', '195',\n",
       "       '160', '99', '112', '67', '74', '134', '43', '98', '146', '55',\n",
       "       '115', '108', '176', '113', '30', '76', '72', '129', '100', '172',\n",
       "       '51', '79', '69', '46', '132', '114', '136', '117', '106', '173',\n",
       "       '73', '174', '145', '84', '190', '77', '81', '33', '166', '163',\n",
       "       '94', '128', '161', '194', '152', '159', '137', '88', '162', '177',\n",
       "       '105', '41', '49', '133', '187', '82', '123', '193', '91', '148',\n",
       "       '45', '141', '58', '62', '198', '124', '93', '168', '64', '140',\n",
       "       '86', '126', '155', '169', '192', '116', '185', '156', '165',\n",
       "       '170', '120', '180', '191', '101', '196', '118', '181', '189',\n",
       "       '90', '153', '171', '75', '37', '89', '197', '107', '63', '131',\n",
       "       '167', '92', '121', '186', '183', '119'], dtype=object)"
      ]
     },
     "execution_count": 80,
     "metadata": {},
     "output_type": "execute_result"
    }
   ],
   "source": [
    "job_df.total_applicants.unique()"
   ]
  },
  {
   "cell_type": "code",
   "execution_count": 81,
   "metadata": {},
   "outputs": [],
   "source": [
    "job_df.total_applicants = pd.to_numeric(job_df.total_applicants, errors='coerce')"
   ]
  },
  {
   "cell_type": "code",
   "execution_count": 82,
   "metadata": {},
   "outputs": [],
   "source": [
    "job_df.to_csv('c:\\\\Project\\\\Linkdin_Job_Analytics\\\\DataSet\\\\job_cleanData.csv',index=False)"
   ]
  }
 ],
 "metadata": {
  "colab": {
   "collapsed_sections": [
    "qc6riwdEFiOS"
   ],
   "provenance": []
  },
  "kernelspec": {
   "display_name": "Python 3 (ipykernel)",
   "language": "python",
   "name": "python3"
  },
  "language_info": {
   "codemirror_mode": {
    "name": "ipython",
    "version": 3
   },
   "file_extension": ".py",
   "mimetype": "text/x-python",
   "name": "python",
   "nbconvert_exporter": "python",
   "pygments_lexer": "ipython3",
   "version": "3.9.15"
  }
 },
 "nbformat": 4,
 "nbformat_minor": 1
}
